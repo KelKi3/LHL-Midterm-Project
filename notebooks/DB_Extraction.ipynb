{
 "cells": [
  {
   "cell_type": "code",
   "execution_count": 2,
   "id": "3f03e614-8668-4bf2-9f6b-8d40f4e995ee",
   "metadata": {},
   "outputs": [],
   "source": [
    "import sqlite3 # read the database\n",
    "import pandas as pd"
   ]
  },
  {
   "cell_type": "markdown",
   "id": "284389f0-7da9-4822-8ef7-569f688f7f0b",
   "metadata": {},
   "source": [
    "# Connect to the collisions database, extracting the tables, turning them into CSV files"
   ]
  },
  {
   "cell_type": "markdown",
   "id": "9d373e21-6bcf-43ad-9ef9-46b3091be9cc",
   "metadata": {},
   "source": [
    "#### **NOTE**: We've block-commented our code to avoid accidental execution and a very lengthy computation time - these are massive files.  Feel free to remove comment blocks if desired"
   ]
  },
  {
   "cell_type": "code",
   "execution_count": 15,
   "id": "c0815ec5-76fa-4146-b9b9-114fed26a407",
   "metadata": {},
   "outputs": [
    {
     "data": {
      "text/plain": [
       "'\\n# Connect to collisions DB\\ncon = sqlite3.connect(\"switrs.sqlite\")\\ncur = con.cursor()\\n\\n# SQL queries creation\\nparties_query = \"SELECT * FROM parties\"\\ncollisions_query = \"SELECT * FROM collisions\"\\n\\n# Creating DataFrames from our database call\\ncollisions1 = pd.read_sql_query(collisions_query, con)\\nparties1 = pd.read_sql_query(parties_query, con)\\n\\n# Saving the DataFrames as CSV files\\ncollisions1.to_csv(\\'collisions.csv\\',index=False)\\nparties1.to_csv(\\'parties.csv\\',index=False)\\n'"
      ]
     },
     "execution_count": 15,
     "metadata": {},
     "output_type": "execute_result"
    }
   ],
   "source": [
    "\"\"\"\n",
    "# Connect to collisions DB\n",
    "con = sqlite3.connect(\"switrs.sqlite\")\n",
    "cur = con.cursor()\n",
    "\n",
    "# SQL queries creation\n",
    "parties_query = \"SELECT * FROM parties\"\n",
    "collisions_query = \"SELECT * FROM collisions\"\n",
    "\n",
    "# Creating DataFrames from our database call\n",
    "collisions1 = pd.read_sql_query(collisions_query, con)\n",
    "parties1 = pd.read_sql_query(parties_query, con)\n",
    "\n",
    "# Saving the DataFrames as CSV files\n",
    "collisions1.to_csv('data/collisions.csv',index=False)\n",
    "parties1.to_csv('data/parties.csv',index=False)\n",
    "\"\"\""
   ]
  },
  {
   "cell_type": "code",
   "execution_count": null,
   "id": "bf04c8c0-09bc-43d6-951b-8a5d76bd8ac6",
   "metadata": {},
   "outputs": [],
   "source": []
  },
  {
   "cell_type": "markdown",
   "id": "f79dcc90-c011-4415-8ebf-4de0f721a733",
   "metadata": {},
   "source": [
    "# Steps Moving Forward\n",
    "\n",
    "### Cleaning, modification, and engineering of data --> See \"collisions_midterm_cleaning.ipynb\" notebook\n",
    "\n",
    "### EDA, Statistics, and Probability Calculations --> See \"EDA-Statistics-ProbabilityCalculations.ipynb\" notebook"
   ]
  },
  {
   "cell_type": "code",
   "execution_count": null,
   "id": "6730ab2e-6151-4ef3-9ad9-e29a9c310a90",
   "metadata": {},
   "outputs": [],
   "source": []
  }
 ],
 "metadata": {
  "kernelspec": {
   "display_name": "LHL_env",
   "language": "python",
   "name": "lhl_env"
  },
  "language_info": {
   "codemirror_mode": {
    "name": "ipython",
    "version": 3
   },
   "file_extension": ".py",
   "mimetype": "text/x-python",
   "name": "python",
   "nbconvert_exporter": "python",
   "pygments_lexer": "ipython3",
   "version": "3.9.17"
  }
 },
 "nbformat": 4,
 "nbformat_minor": 5
}
