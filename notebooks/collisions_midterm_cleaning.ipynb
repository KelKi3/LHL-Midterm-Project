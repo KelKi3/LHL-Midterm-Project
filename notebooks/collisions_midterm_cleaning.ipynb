{
 "cells": [
  {
   "cell_type": "code",
   "execution_count": 94,
   "id": "33435beb-e6e7-47fa-843e-6349bd1615eb",
   "metadata": {
    "tags": []
   },
   "outputs": [],
   "source": [
    "import pandas as pd\n",
    "import numpy as np\n",
    "import matplotlib.pyplot as plt"
   ]
  },
  {
   "cell_type": "markdown",
   "id": "5912a5a4-a866-4f21-aed8-b8b6aaab1f20",
   "metadata": {},
   "source": [
    "# Cleaning Parties csv"
   ]
  },
  {
   "cell_type": "code",
   "execution_count": null,
   "id": "e4d8a6ad-0fc9-47f8-a8e1-43d9f69b5bd9",
   "metadata": {
    "tags": []
   },
   "outputs": [],
   "source": [
    "#loading initial csv \n",
    "parties = pd.read_csv(\"parties.csv\")"
   ]
  },
  {
   "cell_type": "code",
   "execution_count": 160,
   "id": "6d943ecb-0d8a-4f97-8594-585a8edcaa3f",
   "metadata": {
    "tags": []
   },
   "outputs": [],
   "source": [
    "#making df\n",
    "parties_df=pd.DataFrame(parties)"
   ]
  },
  {
   "cell_type": "code",
   "execution_count": 161,
   "id": "d921f4f0-f806-4517-b3e0-40fdb6436e94",
   "metadata": {
    "tags": []
   },
   "outputs": [
    {
     "data": {
      "text/html": [
       "<div>\n",
       "<style scoped>\n",
       "    .dataframe tbody tr th:only-of-type {\n",
       "        vertical-align: middle;\n",
       "    }\n",
       "\n",
       "    .dataframe tbody tr th {\n",
       "        vertical-align: top;\n",
       "    }\n",
       "\n",
       "    .dataframe thead th {\n",
       "        text-align: right;\n",
       "    }\n",
       "</style>\n",
       "<table border=\"1\" class=\"dataframe\">\n",
       "  <thead>\n",
       "    <tr style=\"text-align: right;\">\n",
       "      <th></th>\n",
       "      <th>id</th>\n",
       "      <th>case_id</th>\n",
       "      <th>party_number</th>\n",
       "      <th>party_type</th>\n",
       "      <th>at_fault</th>\n",
       "      <th>party_sex</th>\n",
       "      <th>party_age</th>\n",
       "      <th>party_sobriety</th>\n",
       "      <th>party_drug_physical</th>\n",
       "      <th>direction_of_travel</th>\n",
       "      <th>party_safety_equipment_1</th>\n",
       "      <th>party_safety_equipment_2</th>\n",
       "      <th>financial_responsibility</th>\n",
       "      <th>hazardous_materials</th>\n",
       "      <th>cellphone_in_use</th>\n",
       "      <th>cellphone_use_type</th>\n",
       "      <th>school_bus_related</th>\n",
       "      <th>oaf_violation_code</th>\n",
       "      <th>oaf_violation_category</th>\n",
       "      <th>oaf_violation_section</th>\n",
       "      <th>oaf_violation_suffix</th>\n",
       "      <th>other_associate_factor_1</th>\n",
       "      <th>other_associate_factor_2</th>\n",
       "      <th>party_number_killed</th>\n",
       "      <th>party_number_injured</th>\n",
       "      <th>movement_preceding_collision</th>\n",
       "      <th>vehicle_year</th>\n",
       "      <th>vehicle_make</th>\n",
       "      <th>statewide_vehicle_type</th>\n",
       "      <th>chp_vehicle_type_towing</th>\n",
       "      <th>chp_vehicle_type_towed</th>\n",
       "      <th>party_race</th>\n",
       "    </tr>\n",
       "  </thead>\n",
       "  <tbody>\n",
       "    <tr>\n",
       "      <th>0</th>\n",
       "      <td>1</td>\n",
       "      <td>81715.0</td>\n",
       "      <td>1</td>\n",
       "      <td>driver</td>\n",
       "      <td>1</td>\n",
       "      <td>female</td>\n",
       "      <td>35.0</td>\n",
       "      <td>not applicable</td>\n",
       "      <td>not applicable</td>\n",
       "      <td>north</td>\n",
       "      <td>air bag deployed</td>\n",
       "      <td>lap/shoulder harness used</td>\n",
       "      <td>proof of insurance obtained</td>\n",
       "      <td>NaN</td>\n",
       "      <td>0.0</td>\n",
       "      <td>cellphone not in use</td>\n",
       "      <td>NaN</td>\n",
       "      <td>NaN</td>\n",
       "      <td>NaN</td>\n",
       "      <td>NaN</td>\n",
       "      <td>NaN</td>\n",
       "      <td>none apparent</td>\n",
       "      <td>NaN</td>\n",
       "      <td>0</td>\n",
       "      <td>0</td>\n",
       "      <td>proceeding straight</td>\n",
       "      <td>2007.0</td>\n",
       "      <td>ford</td>\n",
       "      <td>NaN</td>\n",
       "      <td>NaN</td>\n",
       "      <td>NaN</td>\n",
       "      <td>other</td>\n",
       "    </tr>\n",
       "    <tr>\n",
       "      <th>1</th>\n",
       "      <td>2</td>\n",
       "      <td>81715.0</td>\n",
       "      <td>2</td>\n",
       "      <td>driver</td>\n",
       "      <td>0</td>\n",
       "      <td>female</td>\n",
       "      <td>43.0</td>\n",
       "      <td>not applicable</td>\n",
       "      <td>not applicable</td>\n",
       "      <td>north</td>\n",
       "      <td>air bag not deployed</td>\n",
       "      <td>lap/shoulder harness used</td>\n",
       "      <td>proof of insurance obtained</td>\n",
       "      <td>NaN</td>\n",
       "      <td>0.0</td>\n",
       "      <td>cellphone not in use</td>\n",
       "      <td>NaN</td>\n",
       "      <td>NaN</td>\n",
       "      <td>NaN</td>\n",
       "      <td>NaN</td>\n",
       "      <td>NaN</td>\n",
       "      <td>none apparent</td>\n",
       "      <td>NaN</td>\n",
       "      <td>0</td>\n",
       "      <td>0</td>\n",
       "      <td>proceeding straight</td>\n",
       "      <td>2019.0</td>\n",
       "      <td>NaN</td>\n",
       "      <td>NaN</td>\n",
       "      <td>NaN</td>\n",
       "      <td>NaN</td>\n",
       "      <td>hispanic</td>\n",
       "    </tr>\n",
       "    <tr>\n",
       "      <th>2</th>\n",
       "      <td>3</td>\n",
       "      <td>726202.0</td>\n",
       "      <td>1</td>\n",
       "      <td>driver</td>\n",
       "      <td>1</td>\n",
       "      <td>NaN</td>\n",
       "      <td>NaN</td>\n",
       "      <td>impairment unknown</td>\n",
       "      <td>G</td>\n",
       "      <td>north</td>\n",
       "      <td>NaN</td>\n",
       "      <td>NaN</td>\n",
       "      <td>NaN</td>\n",
       "      <td>NaN</td>\n",
       "      <td>NaN</td>\n",
       "      <td>NaN</td>\n",
       "      <td>NaN</td>\n",
       "      <td>NaN</td>\n",
       "      <td>NaN</td>\n",
       "      <td>NaN</td>\n",
       "      <td>NaN</td>\n",
       "      <td>none apparent</td>\n",
       "      <td>NaN</td>\n",
       "      <td>0</td>\n",
       "      <td>0</td>\n",
       "      <td>proceeding straight</td>\n",
       "      <td>2005.0</td>\n",
       "      <td>NaN</td>\n",
       "      <td>passenger car</td>\n",
       "      <td>passenger car, station</td>\n",
       "      <td>NaN</td>\n",
       "      <td>NaN</td>\n",
       "    </tr>\n",
       "    <tr>\n",
       "      <th>3</th>\n",
       "      <td>4</td>\n",
       "      <td>3858022.0</td>\n",
       "      <td>1</td>\n",
       "      <td>driver</td>\n",
       "      <td>1</td>\n",
       "      <td>male</td>\n",
       "      <td>47.0</td>\n",
       "      <td>impairment unknown</td>\n",
       "      <td>G</td>\n",
       "      <td>east</td>\n",
       "      <td>air bag not deployed</td>\n",
       "      <td>lap/shoulder harness used</td>\n",
       "      <td>proof of insurance obtained</td>\n",
       "      <td>NaN</td>\n",
       "      <td>NaN</td>\n",
       "      <td>NaN</td>\n",
       "      <td>NaN</td>\n",
       "      <td>NaN</td>\n",
       "      <td>NaN</td>\n",
       "      <td>NaN</td>\n",
       "      <td>NaN</td>\n",
       "      <td>other</td>\n",
       "      <td>NaN</td>\n",
       "      <td>0</td>\n",
       "      <td>0</td>\n",
       "      <td>NaN</td>\n",
       "      <td>2007.0</td>\n",
       "      <td>dodge</td>\n",
       "      <td>emergency vehicle</td>\n",
       "      <td>police car</td>\n",
       "      <td>00</td>\n",
       "      <td>black</td>\n",
       "    </tr>\n",
       "    <tr>\n",
       "      <th>4</th>\n",
       "      <td>5</td>\n",
       "      <td>3858022.0</td>\n",
       "      <td>2</td>\n",
       "      <td>driver</td>\n",
       "      <td>0</td>\n",
       "      <td>male</td>\n",
       "      <td>58.0</td>\n",
       "      <td>had not been drinking</td>\n",
       "      <td>NaN</td>\n",
       "      <td>east</td>\n",
       "      <td>air bag not deployed</td>\n",
       "      <td>lap/shoulder harness used</td>\n",
       "      <td>proof of insurance obtained</td>\n",
       "      <td>NaN</td>\n",
       "      <td>NaN</td>\n",
       "      <td>NaN</td>\n",
       "      <td>NaN</td>\n",
       "      <td>NaN</td>\n",
       "      <td>NaN</td>\n",
       "      <td>NaN</td>\n",
       "      <td>NaN</td>\n",
       "      <td>stop and go traffic</td>\n",
       "      <td>NaN</td>\n",
       "      <td>0</td>\n",
       "      <td>0</td>\n",
       "      <td>NaN</td>\n",
       "      <td>2006.0</td>\n",
       "      <td>nissan</td>\n",
       "      <td>NaN</td>\n",
       "      <td>NaN</td>\n",
       "      <td>00</td>\n",
       "      <td>hispanic</td>\n",
       "    </tr>\n",
       "  </tbody>\n",
       "</table>\n",
       "</div>"
      ],
      "text/plain": [
       "   id    case_id  party_number party_type  at_fault party_sex  party_age  \\\n",
       "0   1    81715.0             1     driver         1    female       35.0   \n",
       "1   2    81715.0             2     driver         0    female       43.0   \n",
       "2   3   726202.0             1     driver         1       NaN        NaN   \n",
       "3   4  3858022.0             1     driver         1      male       47.0   \n",
       "4   5  3858022.0             2     driver         0      male       58.0   \n",
       "\n",
       "          party_sobriety party_drug_physical direction_of_travel  \\\n",
       "0         not applicable      not applicable               north   \n",
       "1         not applicable      not applicable               north   \n",
       "2     impairment unknown                   G               north   \n",
       "3     impairment unknown                   G                east   \n",
       "4  had not been drinking                 NaN                east   \n",
       "\n",
       "  party_safety_equipment_1   party_safety_equipment_2  \\\n",
       "0         air bag deployed  lap/shoulder harness used   \n",
       "1     air bag not deployed  lap/shoulder harness used   \n",
       "2                      NaN                        NaN   \n",
       "3     air bag not deployed  lap/shoulder harness used   \n",
       "4     air bag not deployed  lap/shoulder harness used   \n",
       "\n",
       "      financial_responsibility  hazardous_materials  cellphone_in_use  \\\n",
       "0  proof of insurance obtained                  NaN               0.0   \n",
       "1  proof of insurance obtained                  NaN               0.0   \n",
       "2                          NaN                  NaN               NaN   \n",
       "3  proof of insurance obtained                  NaN               NaN   \n",
       "4  proof of insurance obtained                  NaN               NaN   \n",
       "\n",
       "     cellphone_use_type  school_bus_related oaf_violation_code  \\\n",
       "0  cellphone not in use                 NaN                NaN   \n",
       "1  cellphone not in use                 NaN                NaN   \n",
       "2                   NaN                 NaN                NaN   \n",
       "3                   NaN                 NaN                NaN   \n",
       "4                   NaN                 NaN                NaN   \n",
       "\n",
       "  oaf_violation_category  oaf_violation_section oaf_violation_suffix  \\\n",
       "0                    NaN                    NaN                  NaN   \n",
       "1                    NaN                    NaN                  NaN   \n",
       "2                    NaN                    NaN                  NaN   \n",
       "3                    NaN                    NaN                  NaN   \n",
       "4                    NaN                    NaN                  NaN   \n",
       "\n",
       "  other_associate_factor_1 other_associate_factor_2  party_number_killed  \\\n",
       "0            none apparent                      NaN                    0   \n",
       "1            none apparent                      NaN                    0   \n",
       "2            none apparent                      NaN                    0   \n",
       "3                    other                      NaN                    0   \n",
       "4      stop and go traffic                      NaN                    0   \n",
       "\n",
       "   party_number_injured movement_preceding_collision  vehicle_year  \\\n",
       "0                     0          proceeding straight        2007.0   \n",
       "1                     0          proceeding straight        2019.0   \n",
       "2                     0          proceeding straight        2005.0   \n",
       "3                     0                          NaN        2007.0   \n",
       "4                     0                          NaN        2006.0   \n",
       "\n",
       "  vehicle_make statewide_vehicle_type chp_vehicle_type_towing  \\\n",
       "0         ford                    NaN                     NaN   \n",
       "1          NaN                    NaN                     NaN   \n",
       "2          NaN          passenger car  passenger car, station   \n",
       "3        dodge      emergency vehicle              police car   \n",
       "4       nissan                    NaN                     NaN   \n",
       "\n",
       "  chp_vehicle_type_towed party_race  \n",
       "0                    NaN      other  \n",
       "1                    NaN   hispanic  \n",
       "2                    NaN        NaN  \n",
       "3                     00      black  \n",
       "4                     00   hispanic  "
      ]
     },
     "execution_count": 161,
     "metadata": {},
     "output_type": "execute_result"
    }
   ],
   "source": [
    "parties_df.head()"
   ]
  },
  {
   "cell_type": "code",
   "execution_count": 162,
   "id": "b560db4a-b703-46fe-952f-76458f9736f7",
   "metadata": {
    "tags": []
   },
   "outputs": [
    {
     "data": {
      "text/plain": [
       "(18669166, 32)"
      ]
     },
     "execution_count": 162,
     "metadata": {},
     "output_type": "execute_result"
    }
   ],
   "source": [
    "parties_df.shape"
   ]
  },
  {
   "cell_type": "code",
   "execution_count": 163,
   "id": "c455ad0b-135d-4565-940c-2bac012f501c",
   "metadata": {
    "tags": []
   },
   "outputs": [
    {
     "data": {
      "text/plain": [
       "array(['not applicable', 'G', nan, 'impairment - physical',\n",
       "       'under drug influence', 'sleepy/fatigued'], dtype=object)"
      ]
     },
     "execution_count": 163,
     "metadata": {},
     "output_type": "execute_result"
    }
   ],
   "source": [
    "#checking unique values in columns\n",
    "parties_df['party_drug_physical'].unique()"
   ]
  },
  {
   "cell_type": "code",
   "execution_count": 165,
   "id": "d1b1a0d6-c876-4942-b196-a5b583d70a7a",
   "metadata": {
    "tags": []
   },
   "outputs": [
    {
     "name": "stdout",
     "output_type": "stream",
     "text": [
      "Index(['id', 'case_id', 'party_number', 'party_type', 'at_fault', 'party_sex',\n",
      "       'party_age', 'party_sobriety', 'party_drug_physical',\n",
      "       'direction_of_travel', 'party_safety_equipment_1',\n",
      "       'party_safety_equipment_2', 'financial_responsibility',\n",
      "       'hazardous_materials', 'cellphone_in_use', 'cellphone_use_type',\n",
      "       'school_bus_related', 'oaf_violation_code', 'oaf_violation_category',\n",
      "       'oaf_violation_section', 'oaf_violation_suffix',\n",
      "       'other_associate_factor_1', 'other_associate_factor_2',\n",
      "       'party_number_killed', 'party_number_injured',\n",
      "       'movement_preceding_collision', 'vehicle_year', 'vehicle_make',\n",
      "       'statewide_vehicle_type', 'chp_vehicle_type_towing',\n",
      "       'chp_vehicle_type_towed', 'party_race'],\n",
      "      dtype='object')\n"
     ]
    }
   ],
   "source": [
    "#initial column headers\n",
    "print(parties_df.columns)"
   ]
  },
  {
   "cell_type": "code",
   "execution_count": 299,
   "id": "3ca9d0b2-63a3-43b0-90b6-1f08cddb1a3e",
   "metadata": {
    "tags": []
   },
   "outputs": [],
   "source": [
    "#pulling wanted columns for new dataframe instead of dropping columns\n",
    "#having some issues fixing data types that we'll need to come back to\n",
    "party_df_2 = parties_df[['case_id', 'party_number', 'party_type', 'at_fault', 'party_sex', 'party_age', 'party_sobriety', 'party_drug_physical', 'party_safety_equipment_1', 'party_safety_equipment_2', 'cellphone_use_type', 'oaf_violation_category', 'party_number_killed', 'party_number_injured', 'movement_preceding_collision', 'vehicle_year', 'vehicle_make', 'party_race']].copy()\n"
   ]
  },
  {
   "cell_type": "code",
   "execution_count": 301,
   "id": "cd36fd6a-a96e-4b7f-87de-93e6b9d361a8",
   "metadata": {
    "tags": []
   },
   "outputs": [
    {
     "data": {
      "text/plain": [
       "(18669166, 18)"
      ]
     },
     "execution_count": 301,
     "metadata": {},
     "output_type": "execute_result"
    }
   ],
   "source": [
    "party_df_2.shape"
   ]
  },
  {
   "cell_type": "code",
   "execution_count": 322,
   "id": "255120e1-d8d3-43c3-810d-73a3846e5828",
   "metadata": {
    "tags": []
   },
   "outputs": [
    {
     "name": "stdout",
     "output_type": "stream",
     "text": [
      "<class 'pandas.core.frame.DataFrame'>\n",
      "RangeIndex: 18669166 entries, 0 to 18669165\n",
      "Data columns (total 18 columns):\n",
      " #   Column                        Dtype  \n",
      "---  ------                        -----  \n",
      " 0   case_id                       float64\n",
      " 1   party_number                  int64  \n",
      " 2   party_type                    object \n",
      " 3   at_fault                      int64  \n",
      " 4   party_sex                     object \n",
      " 5   party_age                     float64\n",
      " 6   party_sobriety                object \n",
      " 7   party_drug_physical           object \n",
      " 8   party_safety_equipment_1      object \n",
      " 9   party_safety_equipment_2      object \n",
      " 10  cellphone_use_type            object \n",
      " 11  oaf_violation_category        object \n",
      " 12  party_number_killed           int64  \n",
      " 13  party_number_injured          int64  \n",
      " 14  movement_preceding_collision  object \n",
      " 15  vehicle_year                  float64\n",
      " 16  vehicle_make                  object \n",
      " 17  party_race                    object \n",
      "dtypes: float64(3), int64(4), object(11)\n",
      "memory usage: 2.5+ GB\n"
     ]
    }
   ],
   "source": [
    "party_df_2.info()"
   ]
  },
  {
   "cell_type": "code",
   "execution_count": 325,
   "id": "1cbdf101-5e0f-48f4-ba7b-dc6394d0b8eb",
   "metadata": {
    "tags": []
   },
   "outputs": [
    {
     "data": {
      "text/plain": [
       "1777184"
      ]
     },
     "execution_count": 325,
     "metadata": {},
     "output_type": "execute_result"
    }
   ],
   "source": [
    "party_df_2['vehicle_year'].isna().sum()"
   ]
  },
  {
   "cell_type": "code",
   "execution_count": 70,
   "id": "7c11ead3-0d19-47bb-9fad-ee840c7647de",
   "metadata": {
    "tags": []
   },
   "outputs": [
    {
     "name": "stdout",
     "output_type": "stream",
     "text": [
      "DataFrame exported\n"
     ]
    }
   ],
   "source": [
    "#resaving csv version 2\n",
    "party_df_2.to_csv(f\"D:\\Computer Courses\\LHL Data Bootcamp\\LHL Projects\\Midterm Project\\parties_2.csv\", index=False)\n",
    "print(f\"DataFrame exported\")"
   ]
  },
  {
   "cell_type": "code",
   "execution_count": null,
   "id": "15287f1f-e2cc-4ac0-9695-e0c6a12bcf0f",
   "metadata": {
    "tags": []
   },
   "outputs": [
    {
     "name": "stdout",
     "output_type": "stream",
     "text": [
      "Index(['case_id', 'party_number', 'party_type', 'at_fault', 'party_sex',\n",
      "       'party_age', 'party_sobriety', 'party_drug_physical',\n",
      "       'party_safety_equipment_1', 'party_safety_equipment_2',\n",
      "       'cellphone_use_type', 'oaf_violation_category', 'party_number_killed',\n",
      "       'party_number_injured', 'movement_preceding_collision', 'vehicle_year',\n",
      "       'vehicle_make', 'party_race'],\n",
      "      dtype='object')\n"
     ]
    }
   ],
   "source": [
    "print(party_df_2.columns)"
   ]
  },
  {
   "cell_type": "code",
   "execution_count": null,
   "id": "9053faf9-3b3f-461a-937e-6644249a03de",
   "metadata": {
    "tags": []
   },
   "outputs": [
    {
     "data": {
      "text/plain": [
       "array([-1], dtype=int64)"
      ]
     },
     "execution_count": 297,
     "metadata": {},
     "output_type": "execute_result"
    }
   ],
   "source": [
    "party_df_2['case_id'].unique()"
   ]
  },
  {
   "cell_type": "markdown",
   "id": "b3f43963-76e2-4323-ac24-28a024e7b8ed",
   "metadata": {},
   "source": [
    "-----------\n",
    "-----\n",
    "-----"
   ]
  },
  {
   "cell_type": "code",
   "execution_count": null,
   "id": "ac352e53-5cc4-4400-b5f7-80551eac1fb3",
   "metadata": {
    "tags": []
   },
   "outputs": [],
   "source": [
    "#import most version 2\n",
    "party_df_2 = pd.read_csv(\"parties_2.csv\")"
   ]
  },
  {
   "cell_type": "code",
   "execution_count": 79,
   "id": "bf793923-758a-4601-b3a1-ad8019e5e787",
   "metadata": {
    "tags": []
   },
   "outputs": [
    {
     "data": {
      "text/html": [
       "<div>\n",
       "<style scoped>\n",
       "    .dataframe tbody tr th:only-of-type {\n",
       "        vertical-align: middle;\n",
       "    }\n",
       "\n",
       "    .dataframe tbody tr th {\n",
       "        vertical-align: top;\n",
       "    }\n",
       "\n",
       "    .dataframe thead th {\n",
       "        text-align: right;\n",
       "    }\n",
       "</style>\n",
       "<table border=\"1\" class=\"dataframe\">\n",
       "  <thead>\n",
       "    <tr style=\"text-align: right;\">\n",
       "      <th></th>\n",
       "      <th>case_id</th>\n",
       "      <th>party_number</th>\n",
       "      <th>party_type</th>\n",
       "      <th>at_fault</th>\n",
       "      <th>party_sex</th>\n",
       "      <th>party_age</th>\n",
       "      <th>party_sobriety</th>\n",
       "      <th>party_drug_physical</th>\n",
       "      <th>party_safety_equipment_1</th>\n",
       "      <th>party_safety_equipment_2</th>\n",
       "      <th>cellphone_use_type</th>\n",
       "      <th>oaf_violation_category</th>\n",
       "      <th>party_number_killed</th>\n",
       "      <th>party_number_injured</th>\n",
       "      <th>movement_preceding_collision</th>\n",
       "      <th>vehicle_year</th>\n",
       "      <th>vehicle_make</th>\n",
       "      <th>party_race</th>\n",
       "    </tr>\n",
       "  </thead>\n",
       "  <tbody>\n",
       "    <tr>\n",
       "      <th>0</th>\n",
       "      <td>81715.0</td>\n",
       "      <td>1</td>\n",
       "      <td>driver</td>\n",
       "      <td>1</td>\n",
       "      <td>female</td>\n",
       "      <td>35.0</td>\n",
       "      <td>not applicable</td>\n",
       "      <td>not applicable</td>\n",
       "      <td>air bag deployed</td>\n",
       "      <td>lap/shoulder harness used</td>\n",
       "      <td>cellphone not in use</td>\n",
       "      <td>NaN</td>\n",
       "      <td>0</td>\n",
       "      <td>0</td>\n",
       "      <td>proceeding straight</td>\n",
       "      <td>2007.0</td>\n",
       "      <td>ford</td>\n",
       "      <td>other</td>\n",
       "    </tr>\n",
       "  </tbody>\n",
       "</table>\n",
       "</div>"
      ],
      "text/plain": [
       "   case_id  party_number party_type  at_fault party_sex  party_age  \\\n",
       "0  81715.0             1     driver         1    female       35.0   \n",
       "\n",
       "   party_sobriety party_drug_physical party_safety_equipment_1  \\\n",
       "0  not applicable      not applicable         air bag deployed   \n",
       "\n",
       "    party_safety_equipment_2    cellphone_use_type oaf_violation_category  \\\n",
       "0  lap/shoulder harness used  cellphone not in use                    NaN   \n",
       "\n",
       "   party_number_killed  party_number_injured movement_preceding_collision  \\\n",
       "0                    0                     0          proceeding straight   \n",
       "\n",
       "   vehicle_year vehicle_make party_race  \n",
       "0        2007.0         ford      other  "
      ]
     },
     "execution_count": 79,
     "metadata": {},
     "output_type": "execute_result"
    }
   ],
   "source": [
    "party_df_2.head(1)"
   ]
  },
  {
   "cell_type": "code",
   "execution_count": 82,
   "id": "0a140ffb-f55e-430e-9413-d2faa2bf3c60",
   "metadata": {
    "tags": []
   },
   "outputs": [],
   "source": [
    "#pulling wanted columns\n",
    "party_df_3 = party_df_2[['case_id', 'party_number', 'party_type', 'at_fault', 'party_sex', 'party_age', 'party_safety_equipment_1', 'party_safety_equipment_2', 'cellphone_use_type', 'oaf_violation_category', 'party_number_killed', 'party_number_injured', 'movement_preceding_collision', 'vehicle_year', 'vehicle_make', 'party_race']].copy()\n"
   ]
  },
  {
   "cell_type": "code",
   "execution_count": 85,
   "id": "20a4da43-159c-4c69-8939-bd78a69fa522",
   "metadata": {
    "tags": []
   },
   "outputs": [
    {
     "data": {
      "text/plain": [
       "(18669166, 16)"
      ]
     },
     "execution_count": 85,
     "metadata": {},
     "output_type": "execute_result"
    }
   ],
   "source": [
    "party_df_3.shape"
   ]
  },
  {
   "cell_type": "code",
   "execution_count": 86,
   "id": "acdbadc3-07de-4fe0-ae3f-333883dabd8b",
   "metadata": {
    "tags": []
   },
   "outputs": [
    {
     "name": "stdout",
     "output_type": "stream",
     "text": [
      "DataFrame exported\n"
     ]
    }
   ],
   "source": [
    "#resaving csv version 3\n",
    "party_df_3.to_csv(f\"D:\\Computer Courses\\LHL Data Bootcamp\\LHL Projects\\Midterm Project\\parties_3.csv\", index=False)\n",
    "print(f\"DataFrame exported\")"
   ]
  },
  {
   "cell_type": "code",
   "execution_count": 116,
   "id": "6ce8615f-1c1a-46f7-910d-d422e89d5b1f",
   "metadata": {
    "tags": []
   },
   "outputs": [
    {
     "data": {
      "text/html": [
       "<div>\n",
       "<style scoped>\n",
       "    .dataframe tbody tr th:only-of-type {\n",
       "        vertical-align: middle;\n",
       "    }\n",
       "\n",
       "    .dataframe tbody tr th {\n",
       "        vertical-align: top;\n",
       "    }\n",
       "\n",
       "    .dataframe thead th {\n",
       "        text-align: right;\n",
       "    }\n",
       "</style>\n",
       "<table border=\"1\" class=\"dataframe\">\n",
       "  <thead>\n",
       "    <tr style=\"text-align: right;\">\n",
       "      <th></th>\n",
       "      <th>case_id</th>\n",
       "      <th>party_number</th>\n",
       "      <th>party_type</th>\n",
       "      <th>at_fault</th>\n",
       "      <th>party_sex</th>\n",
       "      <th>party_age</th>\n",
       "      <th>party_safety_equipment_1</th>\n",
       "      <th>party_safety_equipment_2</th>\n",
       "      <th>cellphone_use_type</th>\n",
       "      <th>oaf_violation_category</th>\n",
       "      <th>party_number_killed</th>\n",
       "      <th>party_number_injured</th>\n",
       "      <th>movement_preceding_collision</th>\n",
       "      <th>vehicle_year</th>\n",
       "      <th>vehicle_make</th>\n",
       "      <th>party_race</th>\n",
       "    </tr>\n",
       "  </thead>\n",
       "  <tbody>\n",
       "    <tr>\n",
       "      <th>0</th>\n",
       "      <td>81715.0</td>\n",
       "      <td>1</td>\n",
       "      <td>driver</td>\n",
       "      <td>1</td>\n",
       "      <td>female</td>\n",
       "      <td>35.0</td>\n",
       "      <td>air bag deployed</td>\n",
       "      <td>lap/shoulder harness used</td>\n",
       "      <td>cellphone not in use</td>\n",
       "      <td>NaN</td>\n",
       "      <td>0</td>\n",
       "      <td>0</td>\n",
       "      <td>proceeding straight</td>\n",
       "      <td>2007.0</td>\n",
       "      <td>ford</td>\n",
       "      <td>other</td>\n",
       "    </tr>\n",
       "  </tbody>\n",
       "</table>\n",
       "</div>"
      ],
      "text/plain": [
       "   case_id  party_number party_type  at_fault party_sex  party_age  \\\n",
       "0  81715.0             1     driver         1    female       35.0   \n",
       "\n",
       "  party_safety_equipment_1   party_safety_equipment_2    cellphone_use_type  \\\n",
       "0         air bag deployed  lap/shoulder harness used  cellphone not in use   \n",
       "\n",
       "  oaf_violation_category  party_number_killed  party_number_injured  \\\n",
       "0                    NaN                    0                     0   \n",
       "\n",
       "  movement_preceding_collision  vehicle_year vehicle_make party_race  \n",
       "0          proceeding straight        2007.0         ford      other  "
      ]
     },
     "execution_count": 116,
     "metadata": {},
     "output_type": "execute_result"
    }
   ],
   "source": [
    "party_df_3.head(1)"
   ]
  },
  {
   "cell_type": "markdown",
   "id": "c535f024-26ce-4a89-a7a4-fa57e42508c7",
   "metadata": {},
   "source": [
    "----\n",
    "----\n",
    "----"
   ]
  },
  {
   "cell_type": "code",
   "execution_count": null,
   "id": "757ec5bb-bda8-4d34-8aee-5490529667a7",
   "metadata": {},
   "outputs": [],
   "source": [
    "#loading csv verion 3\n",
    "party_df_3 = pd.read_csv(f\"..\\data\\parties_3.csv\")"
   ]
  },
  {
   "cell_type": "code",
   "execution_count": 13,
   "id": "02740fdd-1a9d-4fa1-8777-203251f99cb0",
   "metadata": {
    "tags": []
   },
   "outputs": [
    {
     "data": {
      "text/html": [
       "<div>\n",
       "<style scoped>\n",
       "    .dataframe tbody tr th:only-of-type {\n",
       "        vertical-align: middle;\n",
       "    }\n",
       "\n",
       "    .dataframe tbody tr th {\n",
       "        vertical-align: top;\n",
       "    }\n",
       "\n",
       "    .dataframe thead th {\n",
       "        text-align: right;\n",
       "    }\n",
       "</style>\n",
       "<table border=\"1\" class=\"dataframe\">\n",
       "  <thead>\n",
       "    <tr style=\"text-align: right;\">\n",
       "      <th></th>\n",
       "      <th>case_id</th>\n",
       "      <th>party_number</th>\n",
       "      <th>party_type</th>\n",
       "      <th>at_fault</th>\n",
       "      <th>party_sex</th>\n",
       "      <th>party_age</th>\n",
       "      <th>party_safety_equipment_1</th>\n",
       "      <th>party_safety_equipment_2</th>\n",
       "      <th>cellphone_use_type</th>\n",
       "      <th>oaf_violation_category</th>\n",
       "      <th>party_number_killed</th>\n",
       "      <th>party_number_injured</th>\n",
       "      <th>movement_preceding_collision</th>\n",
       "      <th>vehicle_year</th>\n",
       "      <th>vehicle_make</th>\n",
       "      <th>party_race</th>\n",
       "    </tr>\n",
       "  </thead>\n",
       "  <tbody>\n",
       "    <tr>\n",
       "      <th>0</th>\n",
       "      <td>81715.0</td>\n",
       "      <td>1</td>\n",
       "      <td>driver</td>\n",
       "      <td>1</td>\n",
       "      <td>female</td>\n",
       "      <td>35.0</td>\n",
       "      <td>air bag deployed</td>\n",
       "      <td>lap/shoulder harness used</td>\n",
       "      <td>cellphone not in use</td>\n",
       "      <td>NaN</td>\n",
       "      <td>0</td>\n",
       "      <td>0</td>\n",
       "      <td>proceeding straight</td>\n",
       "      <td>2007.0</td>\n",
       "      <td>ford</td>\n",
       "      <td>other</td>\n",
       "    </tr>\n",
       "  </tbody>\n",
       "</table>\n",
       "</div>"
      ],
      "text/plain": [
       "   case_id  party_number party_type  at_fault party_sex  party_age  \\\n",
       "0  81715.0             1     driver         1    female       35.0   \n",
       "\n",
       "  party_safety_equipment_1   party_safety_equipment_2    cellphone_use_type  \\\n",
       "0         air bag deployed  lap/shoulder harness used  cellphone not in use   \n",
       "\n",
       "  oaf_violation_category  party_number_killed  party_number_injured  \\\n",
       "0                    NaN                    0                     0   \n",
       "\n",
       "  movement_preceding_collision  vehicle_year vehicle_make party_race  \n",
       "0          proceeding straight        2007.0         ford      other  "
      ]
     },
     "execution_count": 13,
     "metadata": {},
     "output_type": "execute_result"
    }
   ],
   "source": [
    "party_df_3.head(1)"
   ]
  },
  {
   "cell_type": "code",
   "execution_count": 36,
   "id": "357f6f20-0fad-4bf7-a9e5-8defa3b025ba",
   "metadata": {
    "tags": []
   },
   "outputs": [
    {
     "data": {
      "text/plain": [
       "array([ 1,  2,  3,  4,  5,  6,  7,  8,  9, 10, 11, 12, 13, 14, 15, 16, 17,\n",
       "       18, 19, 20, 21, 22, 23, 24, 25, 26, 27, 28, 29, 30, 31, 32, 33, 34,\n",
       "       35, 36, 37, 38, 39, 40, 41, 42, 43, 44, 45, 46, 47, 48, 49, 50, 51,\n",
       "       52, 53, 54, 55, 56, 57, 58, 59, 60, 61, 62, 63, 64, 65, 66, 67, 68,\n",
       "       69, 70, 71, 72, 73, 74, 75, 76, 77, 78, 79, 80, 81, 82, 83, 84, 85,\n",
       "       86, 87, 88, 89, 90, 91, 92], dtype=int64)"
      ]
     },
     "execution_count": 36,
     "metadata": {},
     "output_type": "execute_result"
    }
   ],
   "source": [
    "party_df_3['party_number'].unique()"
   ]
  },
  {
   "cell_type": "code",
   "execution_count": 37,
   "id": "c1d24c6e-7ce7-4a8f-873b-408c521fbcc9",
   "metadata": {
    "tags": []
   },
   "outputs": [],
   "source": [
    "#pulling wanted columns\n",
    "party_df_4 = party_df_3[['case_id', 'party_number', 'at_fault', 'party_sex', 'party_age', 'party_safety_equipment_1', 'party_safety_equipment_2', 'cellphone_use_type', 'oaf_violation_category', 'party_number_killed', 'party_number_injured', 'movement_preceding_collision', 'vehicle_year', 'vehicle_make', 'party_race']].copy()\n"
   ]
  },
  {
   "cell_type": "code",
   "execution_count": 39,
   "id": "03da6ded-7520-4b86-b797-e98a717d773e",
   "metadata": {
    "tags": []
   },
   "outputs": [
    {
     "data": {
      "text/html": [
       "<div>\n",
       "<style scoped>\n",
       "    .dataframe tbody tr th:only-of-type {\n",
       "        vertical-align: middle;\n",
       "    }\n",
       "\n",
       "    .dataframe tbody tr th {\n",
       "        vertical-align: top;\n",
       "    }\n",
       "\n",
       "    .dataframe thead th {\n",
       "        text-align: right;\n",
       "    }\n",
       "</style>\n",
       "<table border=\"1\" class=\"dataframe\">\n",
       "  <thead>\n",
       "    <tr style=\"text-align: right;\">\n",
       "      <th></th>\n",
       "      <th>case_id</th>\n",
       "      <th>party_number</th>\n",
       "      <th>at_fault</th>\n",
       "      <th>party_sex</th>\n",
       "      <th>party_age</th>\n",
       "      <th>party_safety_equipment_1</th>\n",
       "      <th>party_safety_equipment_2</th>\n",
       "      <th>cellphone_use_type</th>\n",
       "      <th>oaf_violation_category</th>\n",
       "      <th>party_number_killed</th>\n",
       "      <th>party_number_injured</th>\n",
       "      <th>movement_preceding_collision</th>\n",
       "      <th>vehicle_year</th>\n",
       "      <th>vehicle_make</th>\n",
       "      <th>party_race</th>\n",
       "    </tr>\n",
       "  </thead>\n",
       "  <tbody>\n",
       "    <tr>\n",
       "      <th>0</th>\n",
       "      <td>81715.0</td>\n",
       "      <td>1</td>\n",
       "      <td>1</td>\n",
       "      <td>female</td>\n",
       "      <td>35.0</td>\n",
       "      <td>air bag deployed</td>\n",
       "      <td>lap/shoulder harness used</td>\n",
       "      <td>cellphone not in use</td>\n",
       "      <td>NaN</td>\n",
       "      <td>0</td>\n",
       "      <td>0</td>\n",
       "      <td>proceeding straight</td>\n",
       "      <td>2007.0</td>\n",
       "      <td>ford</td>\n",
       "      <td>other</td>\n",
       "    </tr>\n",
       "  </tbody>\n",
       "</table>\n",
       "</div>"
      ],
      "text/plain": [
       "   case_id  party_number  at_fault party_sex  party_age  \\\n",
       "0  81715.0             1         1    female       35.0   \n",
       "\n",
       "  party_safety_equipment_1   party_safety_equipment_2    cellphone_use_type  \\\n",
       "0         air bag deployed  lap/shoulder harness used  cellphone not in use   \n",
       "\n",
       "  oaf_violation_category  party_number_killed  party_number_injured  \\\n",
       "0                    NaN                    0                     0   \n",
       "\n",
       "  movement_preceding_collision  vehicle_year vehicle_make party_race  \n",
       "0          proceeding straight        2007.0         ford      other  "
      ]
     },
     "execution_count": 39,
     "metadata": {},
     "output_type": "execute_result"
    }
   ],
   "source": [
    "party_df_4.head(1)"
   ]
  },
  {
   "cell_type": "code",
   "execution_count": 42,
   "id": "01dcf08a-ad67-4327-99d7-b88237c267dd",
   "metadata": {
    "tags": []
   },
   "outputs": [
    {
     "name": "stdout",
     "output_type": "stream",
     "text": [
      "DataFrame exported\n"
     ]
    }
   ],
   "source": [
    "#resaving csv version 4\n",
    "party_df_4.to_csv(f\"D:\\Computer Courses\\LHL Data Bootcamp\\LHL Projects\\Midterm Project\\LHL-Midterm-Project\\data\\parties_4.csv\", index=False)\n",
    "print(f\"DataFrame exported\")"
   ]
  },
  {
   "cell_type": "markdown",
   "id": "4844c5af-75b0-472c-a979-7ef0ce97a359",
   "metadata": {},
   "source": [
    "# Cleaning collisions csv"
   ]
  },
  {
   "cell_type": "code",
   "execution_count": null,
   "id": "b03589c2-7d3c-4117-8e20-f9dc7a4ff674",
   "metadata": {
    "tags": []
   },
   "outputs": [],
   "source": [
    "#import original collision csv\n",
    "collisions = pd.read_csv(\"D:\\Computer Courses\\LHL Data Bootcamp\\LHL Projects\\Midterm Project\\data csv versions\\collisions.csv\")"
   ]
  },
  {
   "cell_type": "code",
   "execution_count": 45,
   "id": "f39e252b-9778-4ea4-86ca-badc457ae94e",
   "metadata": {
    "tags": []
   },
   "outputs": [],
   "source": [
    "#create dataframe version 1\n",
    "collisions_df=pd.DataFrame(collisions)"
   ]
  },
  {
   "cell_type": "code",
   "execution_count": 46,
   "id": "fe4f609d-0f5d-406c-9c32-c59944fde254",
   "metadata": {
    "tags": []
   },
   "outputs": [
    {
     "data": {
      "text/plain": [
       "(9424334, 75)"
      ]
     },
     "execution_count": 46,
     "metadata": {},
     "output_type": "execute_result"
    }
   ],
   "source": [
    "collisions_df.shape"
   ]
  },
  {
   "cell_type": "code",
   "execution_count": 47,
   "id": "9f3fb94b-cbfa-4f26-9b9d-334accdc1a7c",
   "metadata": {
    "tags": []
   },
   "outputs": [
    {
     "data": {
      "text/html": [
       "<div>\n",
       "<style scoped>\n",
       "    .dataframe tbody tr th:only-of-type {\n",
       "        vertical-align: middle;\n",
       "    }\n",
       "\n",
       "    .dataframe tbody tr th {\n",
       "        vertical-align: top;\n",
       "    }\n",
       "\n",
       "    .dataframe thead th {\n",
       "        text-align: right;\n",
       "    }\n",
       "</style>\n",
       "<table border=\"1\" class=\"dataframe\">\n",
       "  <thead>\n",
       "    <tr style=\"text-align: right;\">\n",
       "      <th></th>\n",
       "      <th>case_id</th>\n",
       "      <th>jurisdiction</th>\n",
       "      <th>officer_id</th>\n",
       "      <th>reporting_district</th>\n",
       "      <th>chp_shift</th>\n",
       "      <th>population</th>\n",
       "      <th>county_city_location</th>\n",
       "      <th>county_location</th>\n",
       "      <th>special_condition</th>\n",
       "      <th>beat_type</th>\n",
       "      <th>chp_beat_type</th>\n",
       "      <th>city_division_lapd</th>\n",
       "      <th>chp_beat_class</th>\n",
       "      <th>beat_number</th>\n",
       "      <th>primary_road</th>\n",
       "      <th>secondary_road</th>\n",
       "      <th>distance</th>\n",
       "      <th>direction</th>\n",
       "      <th>intersection</th>\n",
       "      <th>weather_1</th>\n",
       "      <th>weather_2</th>\n",
       "      <th>state_highway_indicator</th>\n",
       "      <th>caltrans_county</th>\n",
       "      <th>caltrans_district</th>\n",
       "      <th>state_route</th>\n",
       "      <th>route_suffix</th>\n",
       "      <th>postmile_prefix</th>\n",
       "      <th>postmile</th>\n",
       "      <th>location_type</th>\n",
       "      <th>ramp_intersection</th>\n",
       "      <th>side_of_highway</th>\n",
       "      <th>tow_away</th>\n",
       "      <th>collision_severity</th>\n",
       "      <th>killed_victims</th>\n",
       "      <th>injured_victims</th>\n",
       "      <th>party_count</th>\n",
       "      <th>primary_collision_factor</th>\n",
       "      <th>pcf_violation_code</th>\n",
       "      <th>pcf_violation_category</th>\n",
       "      <th>pcf_violation</th>\n",
       "      <th>pcf_violation_subsection</th>\n",
       "      <th>hit_and_run</th>\n",
       "      <th>type_of_collision</th>\n",
       "      <th>motor_vehicle_involved_with</th>\n",
       "      <th>pedestrian_action</th>\n",
       "      <th>road_surface</th>\n",
       "      <th>road_condition_1</th>\n",
       "      <th>road_condition_2</th>\n",
       "      <th>lighting</th>\n",
       "      <th>control_device</th>\n",
       "      <th>chp_road_type</th>\n",
       "      <th>pedestrian_collision</th>\n",
       "      <th>bicycle_collision</th>\n",
       "      <th>motorcycle_collision</th>\n",
       "      <th>truck_collision</th>\n",
       "      <th>not_private_property</th>\n",
       "      <th>alcohol_involved</th>\n",
       "      <th>statewide_vehicle_type_at_fault</th>\n",
       "      <th>chp_vehicle_type_at_fault</th>\n",
       "      <th>severe_injury_count</th>\n",
       "      <th>other_visible_injury_count</th>\n",
       "      <th>complaint_of_pain_injury_count</th>\n",
       "      <th>pedestrian_killed_count</th>\n",
       "      <th>pedestrian_injured_count</th>\n",
       "      <th>bicyclist_killed_count</th>\n",
       "      <th>bicyclist_injured_count</th>\n",
       "      <th>motorcyclist_killed_count</th>\n",
       "      <th>motorcyclist_injured_count</th>\n",
       "      <th>primary_ramp</th>\n",
       "      <th>secondary_ramp</th>\n",
       "      <th>latitude</th>\n",
       "      <th>longitude</th>\n",
       "      <th>collision_date</th>\n",
       "      <th>collision_time</th>\n",
       "      <th>process_date</th>\n",
       "    </tr>\n",
       "  </thead>\n",
       "  <tbody>\n",
       "    <tr>\n",
       "      <th>0</th>\n",
       "      <td>81715.0</td>\n",
       "      <td>1941.0</td>\n",
       "      <td>11342</td>\n",
       "      <td>212</td>\n",
       "      <td>not chp</td>\n",
       "      <td>&gt;250000</td>\n",
       "      <td>1941</td>\n",
       "      <td>los angeles</td>\n",
       "      <td>0.0</td>\n",
       "      <td>not chp</td>\n",
       "      <td>not chp</td>\n",
       "      <td>NaN</td>\n",
       "      <td>not chp</td>\n",
       "      <td>003</td>\n",
       "      <td>PATTERSON ST</td>\n",
       "      <td>ATLANTIC AV</td>\n",
       "      <td>0.0</td>\n",
       "      <td>NaN</td>\n",
       "      <td>1.0</td>\n",
       "      <td>cloudy</td>\n",
       "      <td>NaN</td>\n",
       "      <td>0.0</td>\n",
       "      <td>NaN</td>\n",
       "      <td>NaN</td>\n",
       "      <td>NaN</td>\n",
       "      <td>NaN</td>\n",
       "      <td>NaN</td>\n",
       "      <td>NaN</td>\n",
       "      <td>NaN</td>\n",
       "      <td>NaN</td>\n",
       "      <td>NaN</td>\n",
       "      <td>1.0</td>\n",
       "      <td>property damage only</td>\n",
       "      <td>0.0</td>\n",
       "      <td>0.0</td>\n",
       "      <td>2.0</td>\n",
       "      <td>vehicle code violation</td>\n",
       "      <td>NaN</td>\n",
       "      <td>speeding</td>\n",
       "      <td>22350.0</td>\n",
       "      <td>NaN</td>\n",
       "      <td>not hit and run</td>\n",
       "      <td>rear end</td>\n",
       "      <td>other motor vehicle</td>\n",
       "      <td>no pedestrian involved</td>\n",
       "      <td>dry</td>\n",
       "      <td>normal</td>\n",
       "      <td>NaN</td>\n",
       "      <td>daylight</td>\n",
       "      <td>none</td>\n",
       "      <td>0</td>\n",
       "      <td>0</td>\n",
       "      <td>0</td>\n",
       "      <td>0</td>\n",
       "      <td>0</td>\n",
       "      <td>1.0</td>\n",
       "      <td>NaN</td>\n",
       "      <td>NaN</td>\n",
       "      <td>NaN</td>\n",
       "      <td>0</td>\n",
       "      <td>0</td>\n",
       "      <td>0</td>\n",
       "      <td>0</td>\n",
       "      <td>0</td>\n",
       "      <td>0</td>\n",
       "      <td>0</td>\n",
       "      <td>0</td>\n",
       "      <td>0.0</td>\n",
       "      <td>NaN</td>\n",
       "      <td>NaN</td>\n",
       "      <td>NaN</td>\n",
       "      <td>NaN</td>\n",
       "      <td>2020-03-14</td>\n",
       "      <td>07:45:00</td>\n",
       "      <td>2020-06-22</td>\n",
       "    </tr>\n",
       "  </tbody>\n",
       "</table>\n",
       "</div>"
      ],
      "text/plain": [
       "   case_id  jurisdiction officer_id reporting_district chp_shift population  \\\n",
       "0  81715.0        1941.0      11342                212   not chp    >250000   \n",
       "\n",
       "   county_city_location county_location  special_condition beat_type  \\\n",
       "0                  1941     los angeles                0.0   not chp   \n",
       "\n",
       "  chp_beat_type city_division_lapd chp_beat_class beat_number  primary_road  \\\n",
       "0       not chp                NaN        not chp         003  PATTERSON ST   \n",
       "\n",
       "  secondary_road  distance direction  intersection weather_1 weather_2  \\\n",
       "0    ATLANTIC AV       0.0       NaN           1.0    cloudy       NaN   \n",
       "\n",
       "   state_highway_indicator caltrans_county  caltrans_district  state_route  \\\n",
       "0                      0.0             NaN                NaN          NaN   \n",
       "\n",
       "  route_suffix postmile_prefix  postmile location_type ramp_intersection  \\\n",
       "0          NaN             NaN       NaN           NaN               NaN   \n",
       "\n",
       "  side_of_highway  tow_away    collision_severity  killed_victims  \\\n",
       "0             NaN       1.0  property damage only             0.0   \n",
       "\n",
       "   injured_victims  party_count primary_collision_factor pcf_violation_code  \\\n",
       "0              0.0          2.0   vehicle code violation                NaN   \n",
       "\n",
       "  pcf_violation_category  pcf_violation pcf_violation_subsection  \\\n",
       "0               speeding        22350.0                      NaN   \n",
       "\n",
       "       hit_and_run type_of_collision motor_vehicle_involved_with  \\\n",
       "0  not hit and run          rear end         other motor vehicle   \n",
       "\n",
       "        pedestrian_action road_surface road_condition_1 road_condition_2  \\\n",
       "0  no pedestrian involved          dry           normal              NaN   \n",
       "\n",
       "   lighting control_device chp_road_type  pedestrian_collision  \\\n",
       "0  daylight           none             0                     0   \n",
       "\n",
       "   bicycle_collision  motorcycle_collision  truck_collision  \\\n",
       "0                  0                     0                0   \n",
       "\n",
       "   not_private_property  alcohol_involved statewide_vehicle_type_at_fault  \\\n",
       "0                   1.0               NaN                             NaN   \n",
       "\n",
       "  chp_vehicle_type_at_fault  severe_injury_count  other_visible_injury_count  \\\n",
       "0                       NaN                    0                           0   \n",
       "\n",
       "   complaint_of_pain_injury_count  pedestrian_killed_count  \\\n",
       "0                               0                        0   \n",
       "\n",
       "   pedestrian_injured_count  bicyclist_killed_count  bicyclist_injured_count  \\\n",
       "0                         0                       0                        0   \n",
       "\n",
       "   motorcyclist_killed_count  motorcyclist_injured_count primary_ramp  \\\n",
       "0                          0                         0.0          NaN   \n",
       "\n",
       "  secondary_ramp  latitude  longitude collision_date collision_time  \\\n",
       "0            NaN       NaN        NaN     2020-03-14       07:45:00   \n",
       "\n",
       "  process_date  \n",
       "0   2020-06-22  "
      ]
     },
     "execution_count": 47,
     "metadata": {},
     "output_type": "execute_result"
    }
   ],
   "source": [
    "collisions_df.head(1)"
   ]
  },
  {
   "cell_type": "code",
   "execution_count": 50,
   "id": "c8c81d80-5282-4a0e-823d-8519eb0968a1",
   "metadata": {
    "tags": []
   },
   "outputs": [],
   "source": [
    "#create new df using specific columns\n",
    "collisions_df2=collisions_df[['case_id', 'population', 'county_location', 'primary_road', 'secondary_road', 'intersection', 'weather_1', 'weather_2', 'caltrans_district', 'state_route', 'route_suffix', 'location_type', 'collision_severity', 'killed_victims', 'injured_victims','party_count', 'primary_collision_factor','pcf_violation_category','hit_and_run', 'type_of_collision', 'motor_vehicle_involved_with','pedestrian_action', 'road_surface', 'road_condition_1','road_condition_2', 'lighting', 'alcohol_involved', 'chp_vehicle_type_at_fault', 'pedestrian_killed_count','pedestrian_injured_count', 'bicyclist_killed_count','bicyclist_injured_count', 'motorcyclist_killed_count', 'motorcyclist_injured_count','latitude', 'longitude', 'collision_date', 'collision_time','process_date']].copy()\n"
   ]
  },
  {
   "cell_type": "code",
   "execution_count": 51,
   "id": "e5fdd9fd-e7c4-4570-93f1-14a511e46a3a",
   "metadata": {
    "tags": []
   },
   "outputs": [
    {
     "data": {
      "text/html": [
       "<div>\n",
       "<style scoped>\n",
       "    .dataframe tbody tr th:only-of-type {\n",
       "        vertical-align: middle;\n",
       "    }\n",
       "\n",
       "    .dataframe tbody tr th {\n",
       "        vertical-align: top;\n",
       "    }\n",
       "\n",
       "    .dataframe thead th {\n",
       "        text-align: right;\n",
       "    }\n",
       "</style>\n",
       "<table border=\"1\" class=\"dataframe\">\n",
       "  <thead>\n",
       "    <tr style=\"text-align: right;\">\n",
       "      <th></th>\n",
       "      <th>case_id</th>\n",
       "      <th>population</th>\n",
       "      <th>county_location</th>\n",
       "      <th>primary_road</th>\n",
       "      <th>secondary_road</th>\n",
       "      <th>intersection</th>\n",
       "      <th>weather_1</th>\n",
       "      <th>weather_2</th>\n",
       "      <th>caltrans_district</th>\n",
       "      <th>state_route</th>\n",
       "      <th>route_suffix</th>\n",
       "      <th>location_type</th>\n",
       "      <th>collision_severity</th>\n",
       "      <th>killed_victims</th>\n",
       "      <th>injured_victims</th>\n",
       "      <th>party_count</th>\n",
       "      <th>primary_collision_factor</th>\n",
       "      <th>pcf_violation_category</th>\n",
       "      <th>hit_and_run</th>\n",
       "      <th>type_of_collision</th>\n",
       "      <th>motor_vehicle_involved_with</th>\n",
       "      <th>pedestrian_action</th>\n",
       "      <th>road_surface</th>\n",
       "      <th>road_condition_1</th>\n",
       "      <th>road_condition_2</th>\n",
       "      <th>lighting</th>\n",
       "      <th>alcohol_involved</th>\n",
       "      <th>chp_vehicle_type_at_fault</th>\n",
       "      <th>pedestrian_killed_count</th>\n",
       "      <th>pedestrian_injured_count</th>\n",
       "      <th>bicyclist_killed_count</th>\n",
       "      <th>bicyclist_injured_count</th>\n",
       "      <th>motorcyclist_killed_count</th>\n",
       "      <th>motorcyclist_injured_count</th>\n",
       "      <th>latitude</th>\n",
       "      <th>longitude</th>\n",
       "      <th>collision_date</th>\n",
       "      <th>collision_time</th>\n",
       "      <th>process_date</th>\n",
       "    </tr>\n",
       "  </thead>\n",
       "  <tbody>\n",
       "    <tr>\n",
       "      <th>0</th>\n",
       "      <td>81715.0</td>\n",
       "      <td>&gt;250000</td>\n",
       "      <td>los angeles</td>\n",
       "      <td>PATTERSON ST</td>\n",
       "      <td>ATLANTIC AV</td>\n",
       "      <td>1.0</td>\n",
       "      <td>cloudy</td>\n",
       "      <td>NaN</td>\n",
       "      <td>NaN</td>\n",
       "      <td>NaN</td>\n",
       "      <td>NaN</td>\n",
       "      <td>NaN</td>\n",
       "      <td>property damage only</td>\n",
       "      <td>0.0</td>\n",
       "      <td>0.0</td>\n",
       "      <td>2.0</td>\n",
       "      <td>vehicle code violation</td>\n",
       "      <td>speeding</td>\n",
       "      <td>not hit and run</td>\n",
       "      <td>rear end</td>\n",
       "      <td>other motor vehicle</td>\n",
       "      <td>no pedestrian involved</td>\n",
       "      <td>dry</td>\n",
       "      <td>normal</td>\n",
       "      <td>NaN</td>\n",
       "      <td>daylight</td>\n",
       "      <td>NaN</td>\n",
       "      <td>NaN</td>\n",
       "      <td>0</td>\n",
       "      <td>0</td>\n",
       "      <td>0</td>\n",
       "      <td>0</td>\n",
       "      <td>0</td>\n",
       "      <td>0.0</td>\n",
       "      <td>NaN</td>\n",
       "      <td>NaN</td>\n",
       "      <td>2020-03-14</td>\n",
       "      <td>07:45:00</td>\n",
       "      <td>2020-06-22</td>\n",
       "    </tr>\n",
       "  </tbody>\n",
       "</table>\n",
       "</div>"
      ],
      "text/plain": [
       "   case_id population county_location  primary_road secondary_road  \\\n",
       "0  81715.0    >250000     los angeles  PATTERSON ST    ATLANTIC AV   \n",
       "\n",
       "   intersection weather_1 weather_2  caltrans_district  state_route  \\\n",
       "0           1.0    cloudy       NaN                NaN          NaN   \n",
       "\n",
       "  route_suffix location_type    collision_severity  killed_victims  \\\n",
       "0          NaN           NaN  property damage only             0.0   \n",
       "\n",
       "   injured_victims  party_count primary_collision_factor  \\\n",
       "0              0.0          2.0   vehicle code violation   \n",
       "\n",
       "  pcf_violation_category      hit_and_run type_of_collision  \\\n",
       "0               speeding  not hit and run          rear end   \n",
       "\n",
       "  motor_vehicle_involved_with       pedestrian_action road_surface  \\\n",
       "0         other motor vehicle  no pedestrian involved          dry   \n",
       "\n",
       "  road_condition_1 road_condition_2  lighting  alcohol_involved  \\\n",
       "0           normal              NaN  daylight               NaN   \n",
       "\n",
       "  chp_vehicle_type_at_fault  pedestrian_killed_count  \\\n",
       "0                       NaN                        0   \n",
       "\n",
       "   pedestrian_injured_count  bicyclist_killed_count  bicyclist_injured_count  \\\n",
       "0                         0                       0                        0   \n",
       "\n",
       "   motorcyclist_killed_count  motorcyclist_injured_count  latitude  longitude  \\\n",
       "0                          0                         0.0       NaN        NaN   \n",
       "\n",
       "  collision_date collision_time process_date  \n",
       "0     2020-03-14       07:45:00   2020-06-22  "
      ]
     },
     "execution_count": 51,
     "metadata": {},
     "output_type": "execute_result"
    }
   ],
   "source": [
    "collisions_df2.head(1)"
   ]
  },
  {
   "cell_type": "code",
   "execution_count": 52,
   "id": "d29747c8-e84f-4958-afd3-e4db4085df40",
   "metadata": {},
   "outputs": [
    {
     "data": {
      "text/plain": [
       "(9424334, 39)"
      ]
     },
     "execution_count": 52,
     "metadata": {},
     "output_type": "execute_result"
    }
   ],
   "source": [
    "collisions_df2.shape"
   ]
  },
  {
   "cell_type": "code",
   "execution_count": 188,
   "id": "f24414c6-e5c2-4f5a-bcc1-b9f8f4625b24",
   "metadata": {
    "tags": []
   },
   "outputs": [],
   "source": [
    "#creating column to contain info from these 4 columns\n",
    "for index, row in collisions_df2.iterrows():\n",
    "    if row['pedestrian_collision'] == 1:\n",
    "        collisions_df2.at[index, 'collision_type'] = 'pedestrian'\n",
    "    elif row['bicycle_collision'] == 1:\n",
    "        collisions_df2.at[index, 'collision_type'] = 'bicycle'\n",
    "    elif row['motorcycle_collision'] == 1:\n",
    "        collisions_df2.at[index, 'collision_type'] = 'motorcycle'\n",
    "    elif row['truck_collision'] == 1:\n",
    "        collisions_df2.at[index, 'collision_type'] = 'truck'"
   ]
  },
  {
   "cell_type": "code",
   "execution_count": 59,
   "id": "42904bd8-09f1-4a7d-84ae-c2fbcbf8699e",
   "metadata": {
    "tags": []
   },
   "outputs": [],
   "source": [
    "#creating new df with specific columns\n",
    "collisions_df3=collisions_df2[['case_id', 'county_location', 'intersection', 'weather_1', 'weather_2', 'state_route', 'route_suffix', 'location_type', 'killed_victims', 'injured_victims','party_count', 'primary_collision_factor','pcf_violation_category','hit_and_run', 'type_of_collision', 'motor_vehicle_involved_with','pedestrian_action', 'road_surface', 'road_condition_1','road_condition_2', 'lighting', 'alcohol_involved', 'chp_vehicle_type_at_fault', 'pedestrian_killed_count','pedestrian_injured_count', 'bicyclist_killed_count','bicyclist_injured_count', 'motorcyclist_killed_count', 'motorcyclist_injured_count','latitude', 'longitude', 'collision_date', 'collision_time']].copy()\n"
   ]
  },
  {
   "cell_type": "code",
   "execution_count": 60,
   "id": "0ea770d2-e83f-4692-a67c-96663987c44b",
   "metadata": {
    "tags": []
   },
   "outputs": [
    {
     "data": {
      "text/plain": [
       "(9424334, 33)"
      ]
     },
     "execution_count": 60,
     "metadata": {},
     "output_type": "execute_result"
    }
   ],
   "source": [
    "collisions_df3.shape"
   ]
  },
  {
   "cell_type": "code",
   "execution_count": 61,
   "id": "236d47d3-c98e-4671-a23d-878093d9d9aa",
   "metadata": {
    "tags": []
   },
   "outputs": [
    {
     "data": {
      "text/html": [
       "<div>\n",
       "<style scoped>\n",
       "    .dataframe tbody tr th:only-of-type {\n",
       "        vertical-align: middle;\n",
       "    }\n",
       "\n",
       "    .dataframe tbody tr th {\n",
       "        vertical-align: top;\n",
       "    }\n",
       "\n",
       "    .dataframe thead th {\n",
       "        text-align: right;\n",
       "    }\n",
       "</style>\n",
       "<table border=\"1\" class=\"dataframe\">\n",
       "  <thead>\n",
       "    <tr style=\"text-align: right;\">\n",
       "      <th></th>\n",
       "      <th>case_id</th>\n",
       "      <th>county_location</th>\n",
       "      <th>intersection</th>\n",
       "      <th>weather_1</th>\n",
       "      <th>weather_2</th>\n",
       "      <th>state_route</th>\n",
       "      <th>route_suffix</th>\n",
       "      <th>location_type</th>\n",
       "      <th>killed_victims</th>\n",
       "      <th>injured_victims</th>\n",
       "      <th>party_count</th>\n",
       "      <th>primary_collision_factor</th>\n",
       "      <th>pcf_violation_category</th>\n",
       "      <th>hit_and_run</th>\n",
       "      <th>type_of_collision</th>\n",
       "      <th>motor_vehicle_involved_with</th>\n",
       "      <th>pedestrian_action</th>\n",
       "      <th>road_surface</th>\n",
       "      <th>road_condition_1</th>\n",
       "      <th>road_condition_2</th>\n",
       "      <th>lighting</th>\n",
       "      <th>alcohol_involved</th>\n",
       "      <th>chp_vehicle_type_at_fault</th>\n",
       "      <th>pedestrian_killed_count</th>\n",
       "      <th>pedestrian_injured_count</th>\n",
       "      <th>bicyclist_killed_count</th>\n",
       "      <th>bicyclist_injured_count</th>\n",
       "      <th>motorcyclist_killed_count</th>\n",
       "      <th>motorcyclist_injured_count</th>\n",
       "      <th>latitude</th>\n",
       "      <th>longitude</th>\n",
       "      <th>collision_date</th>\n",
       "      <th>collision_time</th>\n",
       "    </tr>\n",
       "  </thead>\n",
       "  <tbody>\n",
       "    <tr>\n",
       "      <th>0</th>\n",
       "      <td>81715.0</td>\n",
       "      <td>los angeles</td>\n",
       "      <td>1.0</td>\n",
       "      <td>cloudy</td>\n",
       "      <td>NaN</td>\n",
       "      <td>NaN</td>\n",
       "      <td>NaN</td>\n",
       "      <td>NaN</td>\n",
       "      <td>0.0</td>\n",
       "      <td>0.0</td>\n",
       "      <td>2.0</td>\n",
       "      <td>vehicle code violation</td>\n",
       "      <td>speeding</td>\n",
       "      <td>not hit and run</td>\n",
       "      <td>rear end</td>\n",
       "      <td>other motor vehicle</td>\n",
       "      <td>no pedestrian involved</td>\n",
       "      <td>dry</td>\n",
       "      <td>normal</td>\n",
       "      <td>NaN</td>\n",
       "      <td>daylight</td>\n",
       "      <td>NaN</td>\n",
       "      <td>NaN</td>\n",
       "      <td>0</td>\n",
       "      <td>0</td>\n",
       "      <td>0</td>\n",
       "      <td>0</td>\n",
       "      <td>0</td>\n",
       "      <td>0.0</td>\n",
       "      <td>NaN</td>\n",
       "      <td>NaN</td>\n",
       "      <td>2020-03-14</td>\n",
       "      <td>07:45:00</td>\n",
       "    </tr>\n",
       "  </tbody>\n",
       "</table>\n",
       "</div>"
      ],
      "text/plain": [
       "   case_id county_location  intersection weather_1 weather_2  state_route  \\\n",
       "0  81715.0     los angeles           1.0    cloudy       NaN          NaN   \n",
       "\n",
       "  route_suffix location_type  killed_victims  injured_victims  party_count  \\\n",
       "0          NaN           NaN             0.0              0.0          2.0   \n",
       "\n",
       "  primary_collision_factor pcf_violation_category      hit_and_run  \\\n",
       "0   vehicle code violation               speeding  not hit and run   \n",
       "\n",
       "  type_of_collision motor_vehicle_involved_with       pedestrian_action  \\\n",
       "0          rear end         other motor vehicle  no pedestrian involved   \n",
       "\n",
       "  road_surface road_condition_1 road_condition_2  lighting  alcohol_involved  \\\n",
       "0          dry           normal              NaN  daylight               NaN   \n",
       "\n",
       "  chp_vehicle_type_at_fault  pedestrian_killed_count  \\\n",
       "0                       NaN                        0   \n",
       "\n",
       "   pedestrian_injured_count  bicyclist_killed_count  bicyclist_injured_count  \\\n",
       "0                         0                       0                        0   \n",
       "\n",
       "   motorcyclist_killed_count  motorcyclist_injured_count  latitude  longitude  \\\n",
       "0                          0                         0.0       NaN        NaN   \n",
       "\n",
       "  collision_date collision_time  \n",
       "0     2020-03-14       07:45:00  "
      ]
     },
     "execution_count": 61,
     "metadata": {},
     "output_type": "execute_result"
    }
   ],
   "source": [
    "collisions_df3.head(1)"
   ]
  },
  {
   "cell_type": "code",
   "execution_count": null,
   "id": "24040bc3-c390-405d-86ac-8f7ecada89d4",
   "metadata": {
    "tags": []
   },
   "outputs": [],
   "source": [
    "#comparing to party df to see if we can get rid of some more columns"
   ]
  },
  {
   "cell_type": "code",
   "execution_count": null,
   "id": "f81c4de3-e11e-4a63-afae-d8de5687f379",
   "metadata": {
    "tags": []
   },
   "outputs": [
    {
     "data": {
      "text/html": [
       "<div>\n",
       "<style scoped>\n",
       "    .dataframe tbody tr th:only-of-type {\n",
       "        vertical-align: middle;\n",
       "    }\n",
       "\n",
       "    .dataframe tbody tr th {\n",
       "        vertical-align: top;\n",
       "    }\n",
       "\n",
       "    .dataframe thead th {\n",
       "        text-align: right;\n",
       "    }\n",
       "</style>\n",
       "<table border=\"1\" class=\"dataframe\">\n",
       "  <thead>\n",
       "    <tr style=\"text-align: right;\">\n",
       "      <th></th>\n",
       "      <th>case_id</th>\n",
       "      <th>party_number</th>\n",
       "      <th>at_fault</th>\n",
       "      <th>party_sex</th>\n",
       "      <th>party_age</th>\n",
       "      <th>party_safety_equipment_1</th>\n",
       "      <th>party_safety_equipment_2</th>\n",
       "      <th>cellphone_use_type</th>\n",
       "      <th>oaf_violation_category</th>\n",
       "      <th>party_number_killed</th>\n",
       "      <th>party_number_injured</th>\n",
       "      <th>movement_preceding_collision</th>\n",
       "      <th>vehicle_year</th>\n",
       "      <th>vehicle_make</th>\n",
       "      <th>party_race</th>\n",
       "    </tr>\n",
       "  </thead>\n",
       "  <tbody>\n",
       "    <tr>\n",
       "      <th>0</th>\n",
       "      <td>81715.0</td>\n",
       "      <td>1</td>\n",
       "      <td>1</td>\n",
       "      <td>female</td>\n",
       "      <td>35.0</td>\n",
       "      <td>air bag deployed</td>\n",
       "      <td>lap/shoulder harness used</td>\n",
       "      <td>cellphone not in use</td>\n",
       "      <td>NaN</td>\n",
       "      <td>0</td>\n",
       "      <td>0</td>\n",
       "      <td>proceeding straight</td>\n",
       "      <td>2007.0</td>\n",
       "      <td>ford</td>\n",
       "      <td>other</td>\n",
       "    </tr>\n",
       "    <tr>\n",
       "      <th>1</th>\n",
       "      <td>81715.0</td>\n",
       "      <td>2</td>\n",
       "      <td>0</td>\n",
       "      <td>female</td>\n",
       "      <td>43.0</td>\n",
       "      <td>air bag not deployed</td>\n",
       "      <td>lap/shoulder harness used</td>\n",
       "      <td>cellphone not in use</td>\n",
       "      <td>NaN</td>\n",
       "      <td>0</td>\n",
       "      <td>0</td>\n",
       "      <td>proceeding straight</td>\n",
       "      <td>2019.0</td>\n",
       "      <td>NaN</td>\n",
       "      <td>hispanic</td>\n",
       "    </tr>\n",
       "  </tbody>\n",
       "</table>\n",
       "</div>"
      ],
      "text/plain": [
       "   case_id  party_number  at_fault party_sex  party_age  \\\n",
       "0  81715.0             1         1    female       35.0   \n",
       "1  81715.0             2         0    female       43.0   \n",
       "\n",
       "  party_safety_equipment_1   party_safety_equipment_2    cellphone_use_type  \\\n",
       "0         air bag deployed  lap/shoulder harness used  cellphone not in use   \n",
       "1     air bag not deployed  lap/shoulder harness used  cellphone not in use   \n",
       "\n",
       "  oaf_violation_category  party_number_killed  party_number_injured  \\\n",
       "0                    NaN                    0                     0   \n",
       "1                    NaN                    0                     0   \n",
       "\n",
       "  movement_preceding_collision  vehicle_year vehicle_make party_race  \n",
       "0          proceeding straight        2007.0         ford      other  \n",
       "1          proceeding straight        2019.0          NaN   hispanic  "
      ]
     },
     "execution_count": 64,
     "metadata": {},
     "output_type": "execute_result"
    }
   ],
   "source": [
    "party_df_4.head(2)"
   ]
  },
  {
   "cell_type": "code",
   "execution_count": null,
   "id": "b38c8354-3807-45d2-bcb8-dfc5de145789",
   "metadata": {
    "tags": []
   },
   "outputs": [
    {
     "data": {
      "text/plain": [
       "array([nan,  1.,  0.])"
      ]
     },
     "execution_count": 62,
     "metadata": {},
     "output_type": "execute_result"
    }
   ],
   "source": [
    "collisions_df3['alcohol_involved'].unique()"
   ]
  },
  {
   "cell_type": "code",
   "execution_count": 67,
   "id": "8dd7971a-84b8-45e3-9d86-8271069d498d",
   "metadata": {
    "tags": []
   },
   "outputs": [
    {
     "name": "stdout",
     "output_type": "stream",
     "text": [
      "DataFrame exported\n"
     ]
    }
   ],
   "source": [
    "#resaving csv version 3\n",
    "collisions_df3.to_csv(f\"D:\\Computer Courses\\LHL Data Bootcamp\\LHL Projects\\Midterm Project\\collisions_df3.csv\", index=False)\n",
    "print(f\"DataFrame exported\")"
   ]
  },
  {
   "cell_type": "markdown",
   "id": "5228b9f9-004b-479b-951d-c3b7370892ee",
   "metadata": {},
   "source": [
    "---\n",
    "---\n",
    "---"
   ]
  },
  {
   "cell_type": "code",
   "execution_count": 71,
   "id": "127fc3f9-a56f-43bf-8d96-a1670304215a",
   "metadata": {
    "tags": []
   },
   "outputs": [
    {
     "data": {
      "text/html": [
       "<div>\n",
       "<style scoped>\n",
       "    .dataframe tbody tr th:only-of-type {\n",
       "        vertical-align: middle;\n",
       "    }\n",
       "\n",
       "    .dataframe tbody tr th {\n",
       "        vertical-align: top;\n",
       "    }\n",
       "\n",
       "    .dataframe thead th {\n",
       "        text-align: right;\n",
       "    }\n",
       "</style>\n",
       "<table border=\"1\" class=\"dataframe\">\n",
       "  <thead>\n",
       "    <tr style=\"text-align: right;\">\n",
       "      <th></th>\n",
       "      <th>case_id</th>\n",
       "      <th>county_location</th>\n",
       "      <th>intersection</th>\n",
       "      <th>weather_1</th>\n",
       "      <th>weather_2</th>\n",
       "      <th>state_route</th>\n",
       "      <th>route_suffix</th>\n",
       "      <th>location_type</th>\n",
       "      <th>killed_victims</th>\n",
       "      <th>injured_victims</th>\n",
       "      <th>party_count</th>\n",
       "      <th>primary_collision_factor</th>\n",
       "      <th>pcf_violation_category</th>\n",
       "      <th>hit_and_run</th>\n",
       "      <th>type_of_collision</th>\n",
       "      <th>motor_vehicle_involved_with</th>\n",
       "      <th>pedestrian_action</th>\n",
       "      <th>road_surface</th>\n",
       "      <th>road_condition_1</th>\n",
       "      <th>road_condition_2</th>\n",
       "      <th>lighting</th>\n",
       "      <th>alcohol_involved</th>\n",
       "      <th>chp_vehicle_type_at_fault</th>\n",
       "      <th>pedestrian_killed_count</th>\n",
       "      <th>pedestrian_injured_count</th>\n",
       "      <th>bicyclist_killed_count</th>\n",
       "      <th>bicyclist_injured_count</th>\n",
       "      <th>motorcyclist_killed_count</th>\n",
       "      <th>motorcyclist_injured_count</th>\n",
       "      <th>latitude</th>\n",
       "      <th>longitude</th>\n",
       "      <th>collision_date</th>\n",
       "      <th>collision_time</th>\n",
       "    </tr>\n",
       "  </thead>\n",
       "  <tbody>\n",
       "    <tr>\n",
       "      <th>0</th>\n",
       "      <td>81715.0</td>\n",
       "      <td>los angeles</td>\n",
       "      <td>1.0</td>\n",
       "      <td>cloudy</td>\n",
       "      <td>NaN</td>\n",
       "      <td>NaN</td>\n",
       "      <td>NaN</td>\n",
       "      <td>NaN</td>\n",
       "      <td>0.0</td>\n",
       "      <td>0.0</td>\n",
       "      <td>2.0</td>\n",
       "      <td>vehicle code violation</td>\n",
       "      <td>speeding</td>\n",
       "      <td>not hit and run</td>\n",
       "      <td>rear end</td>\n",
       "      <td>other motor vehicle</td>\n",
       "      <td>no pedestrian involved</td>\n",
       "      <td>dry</td>\n",
       "      <td>normal</td>\n",
       "      <td>NaN</td>\n",
       "      <td>daylight</td>\n",
       "      <td>NaN</td>\n",
       "      <td>NaN</td>\n",
       "      <td>0</td>\n",
       "      <td>0</td>\n",
       "      <td>0</td>\n",
       "      <td>0</td>\n",
       "      <td>0</td>\n",
       "      <td>0.0</td>\n",
       "      <td>NaN</td>\n",
       "      <td>NaN</td>\n",
       "      <td>2020-03-14</td>\n",
       "      <td>07:45:00</td>\n",
       "    </tr>\n",
       "  </tbody>\n",
       "</table>\n",
       "</div>"
      ],
      "text/plain": [
       "   case_id county_location  intersection weather_1 weather_2  state_route  \\\n",
       "0  81715.0     los angeles           1.0    cloudy       NaN          NaN   \n",
       "\n",
       "  route_suffix location_type  killed_victims  injured_victims  party_count  \\\n",
       "0          NaN           NaN             0.0              0.0          2.0   \n",
       "\n",
       "  primary_collision_factor pcf_violation_category      hit_and_run  \\\n",
       "0   vehicle code violation               speeding  not hit and run   \n",
       "\n",
       "  type_of_collision motor_vehicle_involved_with       pedestrian_action  \\\n",
       "0          rear end         other motor vehicle  no pedestrian involved   \n",
       "\n",
       "  road_surface road_condition_1 road_condition_2  lighting  alcohol_involved  \\\n",
       "0          dry           normal              NaN  daylight               NaN   \n",
       "\n",
       "  chp_vehicle_type_at_fault  pedestrian_killed_count  \\\n",
       "0                       NaN                        0   \n",
       "\n",
       "   pedestrian_injured_count  bicyclist_killed_count  bicyclist_injured_count  \\\n",
       "0                         0                       0                        0   \n",
       "\n",
       "   motorcyclist_killed_count  motorcyclist_injured_count  latitude  longitude  \\\n",
       "0                          0                         0.0       NaN        NaN   \n",
       "\n",
       "  collision_date collision_time  \n",
       "0     2020-03-14       07:45:00  "
      ]
     },
     "execution_count": 71,
     "metadata": {},
     "output_type": "execute_result"
    }
   ],
   "source": [
    "collisions_df3.head(1)"
   ]
  },
  {
   "cell_type": "code",
   "execution_count": 73,
   "id": "0545427f-1e54-42c2-9912-9074bfd8232f",
   "metadata": {
    "tags": []
   },
   "outputs": [],
   "source": [
    "#creating new df with specific columns\n",
    "collisions_df4=collisions_df3[['case_id', 'county_location', 'intersection', 'weather_1', 'weather_2', 'state_route', 'location_type', 'killed_victims', 'injured_victims','party_count', 'primary_collision_factor','pcf_violation_category','hit_and_run', 'type_of_collision', 'motor_vehicle_involved_with','pedestrian_action', 'road_surface', 'road_condition_1','road_condition_2', 'lighting', 'alcohol_involved', 'chp_vehicle_type_at_fault', 'pedestrian_killed_count','pedestrian_injured_count', 'bicyclist_killed_count','bicyclist_injured_count', 'motorcyclist_killed_count', 'motorcyclist_injured_count','latitude', 'longitude', 'collision_date', 'collision_time']].copy()\n"
   ]
  },
  {
   "cell_type": "code",
   "execution_count": 74,
   "id": "7df9d28f-8340-4a96-822c-6153eb3735f4",
   "metadata": {
    "tags": []
   },
   "outputs": [
    {
     "data": {
      "text/plain": [
       "(9424334, 32)"
      ]
     },
     "execution_count": 74,
     "metadata": {},
     "output_type": "execute_result"
    }
   ],
   "source": [
    "collisions_df4.shape"
   ]
  },
  {
   "cell_type": "code",
   "execution_count": 75,
   "id": "6273501f-ad99-42dd-9e5a-25d8873cb238",
   "metadata": {
    "tags": []
   },
   "outputs": [],
   "source": [
    "#changing collision date to datetime again\n",
    "collisions_df4['collision_date'] = pd.to_datetime(collisions_df4['collision_date'])"
   ]
  },
  {
   "cell_type": "code",
   "execution_count": 76,
   "id": "abc67eac-7847-4153-955b-553165a65b99",
   "metadata": {
    "tags": []
   },
   "outputs": [],
   "source": [
    "collisions_df4['years'] = collisions_df4['collision_date'].dt.strftime('%Y')"
   ]
  },
  {
   "cell_type": "code",
   "execution_count": 77,
   "id": "11344dad-3312-4fae-bb3d-e08e4c985e56",
   "metadata": {
    "tags": []
   },
   "outputs": [
    {
     "data": {
      "text/plain": [
       "array(['2020', '2009', '2010', '2011', '2012', '2013', '2014', '2015',\n",
       "       '2016', '2017', '2018', '2021', '2019', '2008', '2002', '2003',\n",
       "       '2001', '2004', '2005', '2006', '2007'], dtype=object)"
      ]
     },
     "execution_count": 77,
     "metadata": {},
     "output_type": "execute_result"
    }
   ],
   "source": [
    "collisions_df4['years'].unique()"
   ]
  },
  {
   "cell_type": "code",
   "execution_count": 78,
   "id": "ccaec030-f5f6-4e6d-9541-5f2f58beb910",
   "metadata": {
    "tags": []
   },
   "outputs": [],
   "source": [
    "#removing data from earlier years\n",
    "years_to_drop = ['2001', '2002', '2003', '2004', '2005']\n",
    "\n",
    "collisions_df4 = collisions_df4[~collisions_df4['years'].isin(years_to_drop)]"
   ]
  },
  {
   "cell_type": "code",
   "execution_count": 79,
   "id": "68545570-71a2-4c04-957e-c1196fa301e3",
   "metadata": {
    "tags": []
   },
   "outputs": [
    {
     "data": {
      "text/plain": [
       "array(['2020', '2009', '2010', '2011', '2012', '2013', '2014', '2015',\n",
       "       '2016', '2017', '2018', '2021', '2019', '2008', '2006', '2007'],\n",
       "      dtype=object)"
      ]
     },
     "execution_count": 79,
     "metadata": {},
     "output_type": "execute_result"
    }
   ],
   "source": [
    "collisions_df4['years'].unique()"
   ]
  },
  {
   "cell_type": "code",
   "execution_count": 80,
   "id": "71eec515-78ad-4226-a6d0-82eea2ccc93c",
   "metadata": {
    "tags": []
   },
   "outputs": [
    {
     "data": {
      "text/plain": [
       "(6747057, 33)"
      ]
     },
     "execution_count": 80,
     "metadata": {},
     "output_type": "execute_result"
    }
   ],
   "source": [
    "collisions_df4.shape"
   ]
  },
  {
   "cell_type": "code",
   "execution_count": 12,
   "id": "d454e59b-4a00-42f9-9c78-709e374ad474",
   "metadata": {
    "tags": []
   },
   "outputs": [],
   "source": [
    "#comparing columns to see if we can reduce our data size"
   ]
  },
  {
   "cell_type": "code",
   "execution_count": 83,
   "id": "5f421045-2e7a-4d8c-9fdc-7696a23f89a2",
   "metadata": {
    "tags": []
   },
   "outputs": [
    {
     "data": {
      "text/plain": [
       "array(['cloudy', 'clear', 'raining', 'fog', nan, 'snowing', 'wind',\n",
       "       'other'], dtype=object)"
      ]
     },
     "execution_count": 83,
     "metadata": {},
     "output_type": "execute_result"
    }
   ],
   "source": [
    "collisions_df4['weather_1'].unique()"
   ]
  },
  {
   "cell_type": "code",
   "execution_count": 84,
   "id": "1ac9bb72-d90b-47d6-b3ac-2ac5f0bc234b",
   "metadata": {
    "tags": []
   },
   "outputs": [
    {
     "data": {
      "text/plain": [
       "array([nan, 'raining', 'wind', 'fog', 'cloudy', 'other', 'snowing',\n",
       "       'clear'], dtype=object)"
      ]
     },
     "execution_count": 84,
     "metadata": {},
     "output_type": "execute_result"
    }
   ],
   "source": [
    "collisions_df4['weather_2'].unique()"
   ]
  },
  {
   "cell_type": "code",
   "execution_count": 85,
   "id": "16b05bc9-a2e3-4a32-9971-e60cf993f968",
   "metadata": {
    "tags": []
   },
   "outputs": [
    {
     "data": {
      "text/plain": [
       "28172"
      ]
     },
     "execution_count": 85,
     "metadata": {},
     "output_type": "execute_result"
    }
   ],
   "source": [
    "collisions_df4['weather_1'].isna().sum()"
   ]
  },
  {
   "cell_type": "code",
   "execution_count": 86,
   "id": "2ede4d9a-1053-449a-b40e-c80b12d7c823",
   "metadata": {
    "tags": []
   },
   "outputs": [
    {
     "data": {
      "text/plain": [
       "6564715"
      ]
     },
     "execution_count": 86,
     "metadata": {},
     "output_type": "execute_result"
    }
   ],
   "source": [
    "collisions_df4['weather_2'].isna().sum()"
   ]
  },
  {
   "cell_type": "code",
   "execution_count": 95,
   "id": "03267afd-7fbc-4def-9037-1315450425ab",
   "metadata": {
    "tags": []
   },
   "outputs": [],
   "source": [
    "#creating new df with specific columns\n",
    "collisions_df5=collisions_df4[['case_id', 'county_location', 'weather_1', 'weather_2', 'state_route', 'killed_victims', 'injured_victims','party_count', 'pcf_violation_category', 'pedestrian_action', 'road_surface', 'lighting', 'alcohol_involved', 'pedestrian_killed_count','pedestrian_injured_count', 'bicyclist_killed_count','bicyclist_injured_count', 'motorcyclist_killed_count', 'motorcyclist_injured_count','latitude', 'longitude', 'collision_date', 'collision_time']].copy()\n"
   ]
  },
  {
   "cell_type": "code",
   "execution_count": 96,
   "id": "17583f6a-1982-4718-a845-09839626ab71",
   "metadata": {
    "tags": []
   },
   "outputs": [
    {
     "name": "stdout",
     "output_type": "stream",
     "text": [
      "DataFrame exported\n"
     ]
    }
   ],
   "source": [
    "#resaving csv version 5\n",
    "collisions_df5.to_csv(f\"D:\\Computer Courses\\LHL Data Bootcamp\\LHL Projects\\Midterm Project\\LHL-Midterm-Project\\data\\collisions_df5.csv\", index=False)\n",
    "print(f\"DataFrame exported\")"
   ]
  },
  {
   "cell_type": "markdown",
   "id": "4a32ac17-7c4d-41cb-8450-38e5cc644e29",
   "metadata": {},
   "source": [
    "## Changing Data Types to more useable types in tableau"
   ]
  },
  {
   "cell_type": "code",
   "execution_count": 60,
   "id": "51c5158d-2139-4257-b20c-9754a358710c",
   "metadata": {},
   "outputs": [],
   "source": [
    "collisions_df5 = pd.read_csv('csvs2/collisions_df5.csv', low_memory=False)\n",
    "parties_4 = pd.read_csv('csvs2/parties_4.csv', low_memory=False)"
   ]
  },
  {
   "cell_type": "code",
   "execution_count": 61,
   "id": "e1654c2b-fc7f-4942-b85d-0209e7a7be6a",
   "metadata": {},
   "outputs": [],
   "source": [
    "# Convert the 'case_id' to integer for both dfs\n",
    "collisions_df5['case_id'] = collisions_df5['case_id'].astype(int)\n",
    "parties_4['case_id'] = parties_4['case_id'].astype(int)"
   ]
  },
  {
   "cell_type": "code",
   "execution_count": 62,
   "id": "d4741334-375d-4ab6-bf09-fbab5b285e57",
   "metadata": {},
   "outputs": [],
   "source": [
    "# Convert \"collision_date\" from string to date type\n",
    "collisions_df5['collision_date'] = pd.to_datetime(collisions_df5['collision_date'])"
   ]
  },
  {
   "cell_type": "code",
   "execution_count": 63,
   "id": "f396d202-a58f-4738-8dd1-8f6b1e67493d",
   "metadata": {},
   "outputs": [],
   "source": [
    "# Convert the 'collision_time' column to a time data type\n",
    "collisions_df5['collision_time'] = pd.to_datetime(collisions_df5['collision_time'], format='%H:%M:%S').dt.time"
   ]
  },
  {
   "cell_type": "code",
   "execution_count": 64,
   "id": "6a1ea179-e8bc-4db7-9953-8d7235a4e359",
   "metadata": {},
   "outputs": [
    {
     "data": {
      "text/html": [
       "<div>\n",
       "<style scoped>\n",
       "    .dataframe tbody tr th:only-of-type {\n",
       "        vertical-align: middle;\n",
       "    }\n",
       "\n",
       "    .dataframe tbody tr th {\n",
       "        vertical-align: top;\n",
       "    }\n",
       "\n",
       "    .dataframe thead th {\n",
       "        text-align: right;\n",
       "    }\n",
       "</style>\n",
       "<table border=\"1\" class=\"dataframe\">\n",
       "  <thead>\n",
       "    <tr style=\"text-align: right;\">\n",
       "      <th></th>\n",
       "      <th>case_id</th>\n",
       "      <th>county_location</th>\n",
       "      <th>weather_1</th>\n",
       "      <th>weather_2</th>\n",
       "      <th>state_route</th>\n",
       "      <th>killed_victims</th>\n",
       "      <th>injured_victims</th>\n",
       "      <th>party_count</th>\n",
       "      <th>pcf_violation_category</th>\n",
       "      <th>pedestrian_action</th>\n",
       "      <th>...</th>\n",
       "      <th>pedestrian_killed_count</th>\n",
       "      <th>pedestrian_injured_count</th>\n",
       "      <th>bicyclist_killed_count</th>\n",
       "      <th>bicyclist_injured_count</th>\n",
       "      <th>motorcyclist_killed_count</th>\n",
       "      <th>motorcyclist_injured_count</th>\n",
       "      <th>latitude</th>\n",
       "      <th>longitude</th>\n",
       "      <th>collision_date</th>\n",
       "      <th>collision_time</th>\n",
       "    </tr>\n",
       "  </thead>\n",
       "  <tbody>\n",
       "    <tr>\n",
       "      <th>0</th>\n",
       "      <td>81715</td>\n",
       "      <td>los angeles</td>\n",
       "      <td>cloudy</td>\n",
       "      <td>NaN</td>\n",
       "      <td>NaN</td>\n",
       "      <td>0.0</td>\n",
       "      <td>0.0</td>\n",
       "      <td>2.0</td>\n",
       "      <td>speeding</td>\n",
       "      <td>no pedestrian involved</td>\n",
       "      <td>...</td>\n",
       "      <td>0</td>\n",
       "      <td>0</td>\n",
       "      <td>0</td>\n",
       "      <td>0</td>\n",
       "      <td>0</td>\n",
       "      <td>0.0</td>\n",
       "      <td>NaN</td>\n",
       "      <td>NaN</td>\n",
       "      <td>2020-03-14</td>\n",
       "      <td>07:45:00</td>\n",
       "    </tr>\n",
       "    <tr>\n",
       "      <th>1</th>\n",
       "      <td>726202</td>\n",
       "      <td>san bernardino</td>\n",
       "      <td>clear</td>\n",
       "      <td>NaN</td>\n",
       "      <td>NaN</td>\n",
       "      <td>0.0</td>\n",
       "      <td>0.0</td>\n",
       "      <td>1.0</td>\n",
       "      <td>speeding</td>\n",
       "      <td>no pedestrian involved</td>\n",
       "      <td>...</td>\n",
       "      <td>0</td>\n",
       "      <td>0</td>\n",
       "      <td>0</td>\n",
       "      <td>0</td>\n",
       "      <td>0</td>\n",
       "      <td>0.0</td>\n",
       "      <td>NaN</td>\n",
       "      <td>NaN</td>\n",
       "      <td>2020-07-26</td>\n",
       "      <td>02:50:00</td>\n",
       "    </tr>\n",
       "    <tr>\n",
       "      <th>2</th>\n",
       "      <td>3858022</td>\n",
       "      <td>fresno</td>\n",
       "      <td>clear</td>\n",
       "      <td>NaN</td>\n",
       "      <td>NaN</td>\n",
       "      <td>0.0</td>\n",
       "      <td>0.0</td>\n",
       "      <td>2.0</td>\n",
       "      <td>other improper driving</td>\n",
       "      <td>no pedestrian involved</td>\n",
       "      <td>...</td>\n",
       "      <td>0</td>\n",
       "      <td>0</td>\n",
       "      <td>0</td>\n",
       "      <td>0</td>\n",
       "      <td>0</td>\n",
       "      <td>0.0</td>\n",
       "      <td>NaN</td>\n",
       "      <td>NaN</td>\n",
       "      <td>2009-02-03</td>\n",
       "      <td>17:11:00</td>\n",
       "    </tr>\n",
       "    <tr>\n",
       "      <th>3</th>\n",
       "      <td>3899441</td>\n",
       "      <td>del norte</td>\n",
       "      <td>clear</td>\n",
       "      <td>NaN</td>\n",
       "      <td>101.0</td>\n",
       "      <td>0.0</td>\n",
       "      <td>0.0</td>\n",
       "      <td>1.0</td>\n",
       "      <td>improper turning</td>\n",
       "      <td>no pedestrian involved</td>\n",
       "      <td>...</td>\n",
       "      <td>0</td>\n",
       "      <td>0</td>\n",
       "      <td>0</td>\n",
       "      <td>0</td>\n",
       "      <td>0</td>\n",
       "      <td>0.0</td>\n",
       "      <td>NaN</td>\n",
       "      <td>NaN</td>\n",
       "      <td>2009-02-28</td>\n",
       "      <td>01:45:00</td>\n",
       "    </tr>\n",
       "    <tr>\n",
       "      <th>4</th>\n",
       "      <td>3899442</td>\n",
       "      <td>los angeles</td>\n",
       "      <td>raining</td>\n",
       "      <td>NaN</td>\n",
       "      <td>110.0</td>\n",
       "      <td>0.0</td>\n",
       "      <td>0.0</td>\n",
       "      <td>2.0</td>\n",
       "      <td>speeding</td>\n",
       "      <td>no pedestrian involved</td>\n",
       "      <td>...</td>\n",
       "      <td>0</td>\n",
       "      <td>0</td>\n",
       "      <td>0</td>\n",
       "      <td>0</td>\n",
       "      <td>0</td>\n",
       "      <td>0.0</td>\n",
       "      <td>33.86465</td>\n",
       "      <td>-118.28533</td>\n",
       "      <td>2009-02-09</td>\n",
       "      <td>10:20:00</td>\n",
       "    </tr>\n",
       "  </tbody>\n",
       "</table>\n",
       "<p>5 rows × 23 columns</p>\n",
       "</div>"
      ],
      "text/plain": [
       "   case_id county_location weather_1 weather_2  state_route  killed_victims  \\\n",
       "0    81715     los angeles    cloudy       NaN          NaN             0.0   \n",
       "1   726202  san bernardino     clear       NaN          NaN             0.0   \n",
       "2  3858022          fresno     clear       NaN          NaN             0.0   \n",
       "3  3899441       del norte     clear       NaN        101.0             0.0   \n",
       "4  3899442     los angeles   raining       NaN        110.0             0.0   \n",
       "\n",
       "   injured_victims  party_count  pcf_violation_category  \\\n",
       "0              0.0          2.0                speeding   \n",
       "1              0.0          1.0                speeding   \n",
       "2              0.0          2.0  other improper driving   \n",
       "3              0.0          1.0        improper turning   \n",
       "4              0.0          2.0                speeding   \n",
       "\n",
       "        pedestrian_action  ... pedestrian_killed_count  \\\n",
       "0  no pedestrian involved  ...                       0   \n",
       "1  no pedestrian involved  ...                       0   \n",
       "2  no pedestrian involved  ...                       0   \n",
       "3  no pedestrian involved  ...                       0   \n",
       "4  no pedestrian involved  ...                       0   \n",
       "\n",
       "  pedestrian_injured_count  bicyclist_killed_count  bicyclist_injured_count  \\\n",
       "0                        0                       0                        0   \n",
       "1                        0                       0                        0   \n",
       "2                        0                       0                        0   \n",
       "3                        0                       0                        0   \n",
       "4                        0                       0                        0   \n",
       "\n",
       "   motorcyclist_killed_count  motorcyclist_injured_count  latitude  longitude  \\\n",
       "0                          0                         0.0       NaN        NaN   \n",
       "1                          0                         0.0       NaN        NaN   \n",
       "2                          0                         0.0       NaN        NaN   \n",
       "3                          0                         0.0       NaN        NaN   \n",
       "4                          0                         0.0  33.86465 -118.28533   \n",
       "\n",
       "   collision_date  collision_time  \n",
       "0      2020-03-14        07:45:00  \n",
       "1      2020-07-26        02:50:00  \n",
       "2      2009-02-03        17:11:00  \n",
       "3      2009-02-28        01:45:00  \n",
       "4      2009-02-09        10:20:00  \n",
       "\n",
       "[5 rows x 23 columns]"
      ]
     },
     "execution_count": 64,
     "metadata": {},
     "output_type": "execute_result"
    }
   ],
   "source": [
    "collisions_df5.head()"
   ]
  },
  {
   "cell_type": "code",
   "execution_count": 65,
   "id": "b77e9362-da74-4402-b571-9b4a5d28aec7",
   "metadata": {},
   "outputs": [],
   "source": [
    "# The time column was not reading correctly in tableau, so we will extract the hour from this time instead and create a column called 'collision_hour'\n",
    "# Define a custom function to extract the hour component and convert it to an integer\n",
    "def extract_hour(time_obj):\n",
    "    return time_obj.hour\n",
    "\n",
    "# Apply the custom function to the 'collision_time' column to create a new 'hour' column\n",
    "collisions_df5['collision_hour'] = collisions_df5['collision_time'].apply(extract_hour)"
   ]
  },
  {
   "cell_type": "code",
   "execution_count": 66,
   "id": "4d19f17e-e99e-4aba-8296-5f4baae53263",
   "metadata": {},
   "outputs": [],
   "source": [
    "#Remove the collision_time column\n",
    "del collisions_df5['collision_time']"
   ]
  },
  {
   "cell_type": "code",
   "execution_count": 67,
   "id": "8b436810-59af-46aa-8c43-298278f2027d",
   "metadata": {},
   "outputs": [
    {
     "data": {
      "text/plain": [
       "61921"
      ]
     },
     "execution_count": 67,
     "metadata": {},
     "output_type": "execute_result"
    }
   ],
   "source": [
    "#Check for NaN values in collision_hour\n",
    "collisions_df5['collision_hour'].isna().sum()"
   ]
  },
  {
   "cell_type": "code",
   "execution_count": 68,
   "id": "aacafd74-a819-43d7-9651-19748fd64164",
   "metadata": {},
   "outputs": [],
   "source": [
    "#Remove rows that have no recorded time\n",
    "collisions_df5 = collisions_df5.dropna(subset=['collision_hour'])"
   ]
  },
  {
   "cell_type": "code",
   "execution_count": 69,
   "id": "06ceca9d-92ec-4d0e-b70d-3d22634d18c4",
   "metadata": {},
   "outputs": [],
   "source": [
    "#Change float columns that are counts to integers for ease of readability (ie. victims killed = 1 instead of 1.0). Also changing NaN values to 0.\n",
    "collisions_df5['killed_victims'] = collisions_df5['killed_victims'].fillna(0).astype(int)\n",
    "collisions_df5['injured_victims'] = collisions_df5['injured_victims'].fillna(0).astype(int)\n",
    "collisions_df5['party_count'] = collisions_df5['party_count'].fillna(0).astype(int)\n",
    "collisions_df5['motorcyclist_injured_count'] = collisions_df5['motorcyclist_injured_count'].fillna(0).astype(int)\n",
    "collisions_df5['collision_hour'] = collisions_df5['collision_hour'].astype(int)\n",
    "parties_4['party_age'] = parties_4['party_age'].fillna(0).astype(int)"
   ]
  },
  {
   "cell_type": "code",
   "execution_count": 70,
   "id": "810804d5-cdc8-4d6d-a794-9a730e6bfc8a",
   "metadata": {},
   "outputs": [
    {
     "data": {
      "text/html": [
       "<div>\n",
       "<style scoped>\n",
       "    .dataframe tbody tr th:only-of-type {\n",
       "        vertical-align: middle;\n",
       "    }\n",
       "\n",
       "    .dataframe tbody tr th {\n",
       "        vertical-align: top;\n",
       "    }\n",
       "\n",
       "    .dataframe thead th {\n",
       "        text-align: right;\n",
       "    }\n",
       "</style>\n",
       "<table border=\"1\" class=\"dataframe\">\n",
       "  <thead>\n",
       "    <tr style=\"text-align: right;\">\n",
       "      <th></th>\n",
       "      <th>case_id</th>\n",
       "      <th>county_location</th>\n",
       "      <th>weather_1</th>\n",
       "      <th>weather_2</th>\n",
       "      <th>state_route</th>\n",
       "      <th>killed_victims</th>\n",
       "      <th>injured_victims</th>\n",
       "      <th>party_count</th>\n",
       "      <th>pcf_violation_category</th>\n",
       "      <th>pedestrian_action</th>\n",
       "      <th>...</th>\n",
       "      <th>pedestrian_killed_count</th>\n",
       "      <th>pedestrian_injured_count</th>\n",
       "      <th>bicyclist_killed_count</th>\n",
       "      <th>bicyclist_injured_count</th>\n",
       "      <th>motorcyclist_killed_count</th>\n",
       "      <th>motorcyclist_injured_count</th>\n",
       "      <th>latitude</th>\n",
       "      <th>longitude</th>\n",
       "      <th>collision_date</th>\n",
       "      <th>collision_hour</th>\n",
       "    </tr>\n",
       "  </thead>\n",
       "  <tbody>\n",
       "    <tr>\n",
       "      <th>0</th>\n",
       "      <td>81715</td>\n",
       "      <td>los angeles</td>\n",
       "      <td>cloudy</td>\n",
       "      <td>NaN</td>\n",
       "      <td>NaN</td>\n",
       "      <td>0</td>\n",
       "      <td>0</td>\n",
       "      <td>2</td>\n",
       "      <td>speeding</td>\n",
       "      <td>no pedestrian involved</td>\n",
       "      <td>...</td>\n",
       "      <td>0</td>\n",
       "      <td>0</td>\n",
       "      <td>0</td>\n",
       "      <td>0</td>\n",
       "      <td>0</td>\n",
       "      <td>0</td>\n",
       "      <td>NaN</td>\n",
       "      <td>NaN</td>\n",
       "      <td>2020-03-14</td>\n",
       "      <td>7</td>\n",
       "    </tr>\n",
       "    <tr>\n",
       "      <th>1</th>\n",
       "      <td>726202</td>\n",
       "      <td>san bernardino</td>\n",
       "      <td>clear</td>\n",
       "      <td>NaN</td>\n",
       "      <td>NaN</td>\n",
       "      <td>0</td>\n",
       "      <td>0</td>\n",
       "      <td>1</td>\n",
       "      <td>speeding</td>\n",
       "      <td>no pedestrian involved</td>\n",
       "      <td>...</td>\n",
       "      <td>0</td>\n",
       "      <td>0</td>\n",
       "      <td>0</td>\n",
       "      <td>0</td>\n",
       "      <td>0</td>\n",
       "      <td>0</td>\n",
       "      <td>NaN</td>\n",
       "      <td>NaN</td>\n",
       "      <td>2020-07-26</td>\n",
       "      <td>2</td>\n",
       "    </tr>\n",
       "    <tr>\n",
       "      <th>2</th>\n",
       "      <td>3858022</td>\n",
       "      <td>fresno</td>\n",
       "      <td>clear</td>\n",
       "      <td>NaN</td>\n",
       "      <td>NaN</td>\n",
       "      <td>0</td>\n",
       "      <td>0</td>\n",
       "      <td>2</td>\n",
       "      <td>other improper driving</td>\n",
       "      <td>no pedestrian involved</td>\n",
       "      <td>...</td>\n",
       "      <td>0</td>\n",
       "      <td>0</td>\n",
       "      <td>0</td>\n",
       "      <td>0</td>\n",
       "      <td>0</td>\n",
       "      <td>0</td>\n",
       "      <td>NaN</td>\n",
       "      <td>NaN</td>\n",
       "      <td>2009-02-03</td>\n",
       "      <td>17</td>\n",
       "    </tr>\n",
       "    <tr>\n",
       "      <th>3</th>\n",
       "      <td>3899441</td>\n",
       "      <td>del norte</td>\n",
       "      <td>clear</td>\n",
       "      <td>NaN</td>\n",
       "      <td>101.0</td>\n",
       "      <td>0</td>\n",
       "      <td>0</td>\n",
       "      <td>1</td>\n",
       "      <td>improper turning</td>\n",
       "      <td>no pedestrian involved</td>\n",
       "      <td>...</td>\n",
       "      <td>0</td>\n",
       "      <td>0</td>\n",
       "      <td>0</td>\n",
       "      <td>0</td>\n",
       "      <td>0</td>\n",
       "      <td>0</td>\n",
       "      <td>NaN</td>\n",
       "      <td>NaN</td>\n",
       "      <td>2009-02-28</td>\n",
       "      <td>1</td>\n",
       "    </tr>\n",
       "    <tr>\n",
       "      <th>4</th>\n",
       "      <td>3899442</td>\n",
       "      <td>los angeles</td>\n",
       "      <td>raining</td>\n",
       "      <td>NaN</td>\n",
       "      <td>110.0</td>\n",
       "      <td>0</td>\n",
       "      <td>0</td>\n",
       "      <td>2</td>\n",
       "      <td>speeding</td>\n",
       "      <td>no pedestrian involved</td>\n",
       "      <td>...</td>\n",
       "      <td>0</td>\n",
       "      <td>0</td>\n",
       "      <td>0</td>\n",
       "      <td>0</td>\n",
       "      <td>0</td>\n",
       "      <td>0</td>\n",
       "      <td>33.86465</td>\n",
       "      <td>-118.28533</td>\n",
       "      <td>2009-02-09</td>\n",
       "      <td>10</td>\n",
       "    </tr>\n",
       "  </tbody>\n",
       "</table>\n",
       "<p>5 rows × 23 columns</p>\n",
       "</div>"
      ],
      "text/plain": [
       "   case_id county_location weather_1 weather_2  state_route  killed_victims  \\\n",
       "0    81715     los angeles    cloudy       NaN          NaN               0   \n",
       "1   726202  san bernardino     clear       NaN          NaN               0   \n",
       "2  3858022          fresno     clear       NaN          NaN               0   \n",
       "3  3899441       del norte     clear       NaN        101.0               0   \n",
       "4  3899442     los angeles   raining       NaN        110.0               0   \n",
       "\n",
       "   injured_victims  party_count  pcf_violation_category  \\\n",
       "0                0            2                speeding   \n",
       "1                0            1                speeding   \n",
       "2                0            2  other improper driving   \n",
       "3                0            1        improper turning   \n",
       "4                0            2                speeding   \n",
       "\n",
       "        pedestrian_action  ... pedestrian_killed_count  \\\n",
       "0  no pedestrian involved  ...                       0   \n",
       "1  no pedestrian involved  ...                       0   \n",
       "2  no pedestrian involved  ...                       0   \n",
       "3  no pedestrian involved  ...                       0   \n",
       "4  no pedestrian involved  ...                       0   \n",
       "\n",
       "  pedestrian_injured_count  bicyclist_killed_count  bicyclist_injured_count  \\\n",
       "0                        0                       0                        0   \n",
       "1                        0                       0                        0   \n",
       "2                        0                       0                        0   \n",
       "3                        0                       0                        0   \n",
       "4                        0                       0                        0   \n",
       "\n",
       "   motorcyclist_killed_count  motorcyclist_injured_count  latitude  longitude  \\\n",
       "0                          0                           0       NaN        NaN   \n",
       "1                          0                           0       NaN        NaN   \n",
       "2                          0                           0       NaN        NaN   \n",
       "3                          0                           0       NaN        NaN   \n",
       "4                          0                           0  33.86465 -118.28533   \n",
       "\n",
       "   collision_date  collision_hour  \n",
       "0      2020-03-14               7  \n",
       "1      2020-07-26               2  \n",
       "2      2009-02-03              17  \n",
       "3      2009-02-28               1  \n",
       "4      2009-02-09              10  \n",
       "\n",
       "[5 rows x 23 columns]"
      ]
     },
     "execution_count": 70,
     "metadata": {},
     "output_type": "execute_result"
    }
   ],
   "source": [
    "collisions_df5.head()"
   ]
  },
  {
   "cell_type": "markdown",
   "id": "3f733f2e-14bb-49e9-a05f-2f77c6174595",
   "metadata": {},
   "source": [
    "## Chopping the size of collisions and parties table because they are still too big for tableau"
   ]
  },
  {
   "cell_type": "code",
   "execution_count": 84,
   "id": "1be685b4-ec76-4e77-a045-b801de0ecf74",
   "metadata": {},
   "outputs": [],
   "source": [
    "# Define the date range for filtering\n",
    "start_date = pd.to_datetime('2015-01-01')\n",
    "\n",
    "# Use boolean indexing to filter the DataFrame\n",
    "collisions_df6 = collisions_df5[(collisions_df5['collision_date'] >= start_date)]"
   ]
  },
  {
   "cell_type": "code",
   "execution_count": 85,
   "id": "81cde7d6-a220-4e9a-b716-83db0ca05a89",
   "metadata": {},
   "outputs": [
    {
     "data": {
      "text/plain": [
       "(2840714, 23)"
      ]
     },
     "execution_count": 85,
     "metadata": {},
     "output_type": "execute_result"
    }
   ],
   "source": [
    "collisions_df6.shape"
   ]
  },
  {
   "cell_type": "markdown",
   "id": "f6e225cd-a297-4b19-a88b-8ea2aca9d3bf",
   "metadata": {},
   "source": [
    "## Filter out any case_ids from the parties df that have been removed from the collision table"
   ]
  },
  {
   "cell_type": "code",
   "execution_count": 86,
   "id": "bdc91628-89c8-473d-835b-5ea8af14bb1e",
   "metadata": {},
   "outputs": [
    {
     "data": {
      "text/plain": [
       "(18669166, 15)"
      ]
     },
     "execution_count": 86,
     "metadata": {},
     "output_type": "execute_result"
    }
   ],
   "source": [
    "parties_4.shape"
   ]
  },
  {
   "cell_type": "code",
   "execution_count": 87,
   "id": "106d7cbc-752b-4212-8120-cb71551dd5a8",
   "metadata": {},
   "outputs": [],
   "source": [
    "#Create a list of all unique case_ids from the collisions table\n",
    "unique_case_ids = collisions_df6['case_id'].unique()"
   ]
  },
  {
   "cell_type": "code",
   "execution_count": 88,
   "id": "e9478964-4977-4082-af3b-7fe233f2a19e",
   "metadata": {},
   "outputs": [],
   "source": [
    "#Create a new parties df without any case_ids that don't appear in this list of case_ids in collisions table\n",
    "parties_5 = parties_4[parties_4['case_id'].isin(unique_case_ids)]"
   ]
  },
  {
   "cell_type": "code",
   "execution_count": 89,
   "id": "b68955ad-d63f-46c4-9a73-f46665d3b720",
   "metadata": {},
   "outputs": [
    {
     "data": {
      "text/plain": [
       "(5662391, 15)"
      ]
     },
     "execution_count": 89,
     "metadata": {},
     "output_type": "execute_result"
    }
   ],
   "source": [
    "parties_5.shape"
   ]
  },
  {
   "cell_type": "markdown",
   "id": "20c9bda8-6227-435b-806d-41b4a0c47d01",
   "metadata": {},
   "source": [
    "## Let's check the ages of the people who were classified as \"at fault\" in an accident\n",
    "#### We should only be seeing ages of legal driving age and ages less than 100.  Any that aren't we should remove"
   ]
  },
  {
   "cell_type": "code",
   "execution_count": 92,
   "id": "cbdfe7f8-75aa-4390-9b19-3bf013e4b828",
   "metadata": {},
   "outputs": [],
   "source": [
    "#Check the ages of all the people who were at fault in a collision\n",
    "at_fault_ages = parties_5.loc[parties_5['at_fault']==1, 'party_age']"
   ]
  },
  {
   "cell_type": "code",
   "execution_count": 95,
   "id": "c9829ebd-208d-4bcf-b21d-b825fb26dab8",
   "metadata": {},
   "outputs": [
    {
     "data": {
      "image/png": "[encoded data removed]",
      "text/plain": [
       "<Figure size 432x288 with 1 Axes>"
      ]
     },
     "metadata": {
      "needs_background": "light"
     },
     "output_type": "display_data"
    }
   ],
   "source": [
    "# Create a histogram of at_fault_ages\n",
    "plt.hist(at_fault_ages, bins=100, edgecolor='k')  # Adjust the number of bins as needed\n",
    "plt.xlabel('Age')\n",
    "plt.ylabel('Frequency')\n",
    "plt.title('Age Distribution of At-Fault Parties')\n",
    "plt.grid(True)\n",
    "\n",
    "# Show the histogram\n",
    "plt.show()"
   ]
  },
  {
   "cell_type": "code",
   "execution_count": 96,
   "id": "20fe2726-7e3b-4b7c-8779-c40065ea0b69",
   "metadata": {},
   "outputs": [],
   "source": [
    "#locate all case_ids that have a party_age of less than 14 or greater than 100 and an at_fault value of 1, then display the rows with these case_ids\n",
    "problematic_cases = parties_5.loc[((parties_5['party_age']<15) | (parties_5['party_age']>100)) & (parties_5['at_fault']==1), 'case_id']"
   ]
  },
  {
   "cell_type": "code",
   "execution_count": 97,
   "id": "ec3569b5-8a71-4152-908d-109e0015b16d",
   "metadata": {},
   "outputs": [
    {
     "data": {
      "text/plain": [
       "462126"
      ]
     },
     "execution_count": 97,
     "metadata": {},
     "output_type": "execute_result"
    }
   ],
   "source": [
    "len(parties_5[parties_5['case_id'].isin(problematic_cases.values)]['case_id'].unique())"
   ]
  },
  {
   "cell_type": "code",
   "execution_count": 99,
   "id": "5549ea00-3253-45eb-a872-09ed35162c7f",
   "metadata": {},
   "outputs": [
    {
     "data": {
      "text/plain": [
       "2840714"
      ]
     },
     "execution_count": 99,
     "metadata": {},
     "output_type": "execute_result"
    }
   ],
   "source": [
    "len(parties_5['case_id'].unique())"
   ]
  },
  {
   "cell_type": "code",
   "execution_count": 100,
   "id": "f251290f-b9e7-4b76-a400-f461e8b9bc46",
   "metadata": {},
   "outputs": [],
   "source": [
    "# Remove all cases where the age is less than 15 and is claimed at fault - since legal driving age for a beginner's permit in California is 15yr 6mos.\n",
    "# Also at fault drivers who are over 100 since most of the population doesn't drive that long\n",
    "parties_agefiltered = parties_5[~parties_5['case_id'].isin(problematic_cases)]\n",
    "collisions_agefiltered = collisions_df6[~collisions_df6['case_id'].isin(problematic_cases)]"
   ]
  },
  {
   "cell_type": "code",
   "execution_count": 101,
   "id": "f3a8801c-6589-4d9c-9c89-6c8d117516cd",
   "metadata": {},
   "outputs": [],
   "source": [
    "#Check the ages of all the people who were at fault in a collision again\n",
    "at_fault_ages = parties_agefiltered.loc[parties_agefiltered['at_fault']==1, 'party_age']"
   ]
  },
  {
   "cell_type": "code",
   "execution_count": 102,
   "id": "dd5cf71b-94be-4fbd-96f3-1315b838579d",
   "metadata": {},
   "outputs": [
    {
     "data": {
      "image/png": "[encoded data removed]",
      "text/plain": [
       "<Figure size 432x288 with 1 Axes>"
      ]
     },
     "metadata": {
      "needs_background": "light"
     },
     "output_type": "display_data"
    }
   ],
   "source": [
    "# Create a histogram of at_fault_ages\n",
    "plt.hist(at_fault_ages, bins=100, edgecolor='k')  # Adjust the number of bins as needed\n",
    "plt.xlabel('Age')\n",
    "plt.ylabel('Frequency')\n",
    "plt.title('Age Distribution of At-Fault Parties')\n",
    "plt.grid(True)\n",
    "\n",
    "# Show the histogram\n",
    "plt.show()"
   ]
  },
  {
   "cell_type": "markdown",
   "id": "50845dfb-50bf-41c7-a90c-2c797970513e",
   "metadata": {},
   "source": [
    "#### This range of values looks a lot better."
   ]
  },
  {
   "cell_type": "markdown",
   "id": "5a16127f-2578-45d2-9cb9-d9f358c3acab",
   "metadata": {},
   "source": [
    "## Removing Categories column from Parties table since there is already one in the Collisions Table"
   ]
  },
  {
   "cell_type": "code",
   "execution_count": 104,
   "id": "4806c59a-b0fb-40a3-b4da-cbf4be966a40",
   "metadata": {},
   "outputs": [
    {
     "data": {
      "text/plain": [
       "Index(['case_id', 'party_number', 'at_fault', 'party_sex', 'party_age',\n",
       "       'party_safety_equipment_1', 'party_safety_equipment_2',\n",
       "       'cellphone_use_type', 'oaf_violation_category', 'party_number_killed',\n",
       "       'party_number_injured', 'movement_preceding_collision', 'vehicle_year',\n",
       "       'vehicle_make', 'party_race'],\n",
       "      dtype='object')"
      ]
     },
     "execution_count": 104,
     "metadata": {},
     "output_type": "execute_result"
    }
   ],
   "source": [
    "parties_agefiltered.columns"
   ]
  },
  {
   "cell_type": "code",
   "execution_count": 105,
   "id": "c528a1e6-3df6-4600-9613-6738010c89e9",
   "metadata": {},
   "outputs": [],
   "source": [
    "del parties_agefiltered['oaf_violation_category']"
   ]
  },
  {
   "cell_type": "code",
   "execution_count": 106,
   "id": "f2cd0952-5fc0-421e-8050-cf9b4b9f6f4a",
   "metadata": {},
   "outputs": [
    {
     "data": {
      "text/plain": [
       "Index(['case_id', 'party_number', 'at_fault', 'party_sex', 'party_age',\n",
       "       'party_safety_equipment_1', 'party_safety_equipment_2',\n",
       "       'cellphone_use_type', 'party_number_killed', 'party_number_injured',\n",
       "       'movement_preceding_collision', 'vehicle_year', 'vehicle_make',\n",
       "       'party_race'],\n",
       "      dtype='object')"
      ]
     },
     "execution_count": 106,
     "metadata": {},
     "output_type": "execute_result"
    }
   ],
   "source": [
    "parties_agefiltered.columns"
   ]
  },
  {
   "cell_type": "code",
   "execution_count": null,
   "id": "f26f750f-703e-4aec-afec-79af040deda1",
   "metadata": {},
   "outputs": [],
   "source": []
  },
  {
   "cell_type": "markdown",
   "id": "9e3136ae-1715-4b14-a64f-b4903d1b4208",
   "metadata": {},
   "source": [
    "# Create a new column in the parties table that categorizes ages by age range."
   ]
  },
  {
   "cell_type": "code",
   "execution_count": 111,
   "id": "cc505b30-5403-4a62-99a4-cf2ccc7e727a",
   "metadata": {},
   "outputs": [
    {
     "name": "stderr",
     "output_type": "stream",
     "text": [
      "<ipython-input-111-e29903dfec7b>:6: SettingWithCopyWarning: \n",
      "A value is trying to be set on a copy of a slice from a DataFrame.\n",
      "Try using .loc[row_indexer,col_indexer] = value instead\n",
      "\n",
      "See the caveats in the documentation: https://pandas.pydata.org/pandas-docs/stable/user_guide/indexing.html#returning-a-view-versus-a-copy\n",
      "  parties_agefiltered['age_range'] = pd.cut(parties_agefiltered['party_age'], bins=bins, labels=labels, right=False)\n"
     ]
    }
   ],
   "source": [
    "# Define the age bins and labels\n",
    "bins = [0, 9, 19, 29, 39, 49, 59, 69, 79, 89, float('inf')]\n",
    "labels = ['0 - 9', '10 - 19', '20 - 29', '30 - 39', '40 - 49', '50 - 59', '60 - 69', '70 - 79', '80 - 89', '>90']\n",
    "\n",
    "# Create a new column 'age_range' based on the 'age' column\n",
    "parties_agefiltered['age_range'] = pd.cut(parties_agefiltered['party_age'], bins=bins, labels=labels, right=False)"
   ]
  },
  {
   "cell_type": "code",
   "execution_count": 112,
   "id": "0a2dba35-aaca-4f8e-94e4-a3f2cc783754",
   "metadata": {},
   "outputs": [
    {
     "data": {
      "text/html": [
       "<div>\n",
       "<style scoped>\n",
       "    .dataframe tbody tr th:only-of-type {\n",
       "        vertical-align: middle;\n",
       "    }\n",
       "\n",
       "    .dataframe tbody tr th {\n",
       "        vertical-align: top;\n",
       "    }\n",
       "\n",
       "    .dataframe thead th {\n",
       "        text-align: right;\n",
       "    }\n",
       "</style>\n",
       "<table border=\"1\" class=\"dataframe\">\n",
       "  <thead>\n",
       "    <tr style=\"text-align: right;\">\n",
       "      <th></th>\n",
       "      <th>case_id</th>\n",
       "      <th>party_number</th>\n",
       "      <th>at_fault</th>\n",
       "      <th>party_sex</th>\n",
       "      <th>party_age</th>\n",
       "      <th>party_safety_equipment_1</th>\n",
       "      <th>party_safety_equipment_2</th>\n",
       "      <th>cellphone_use_type</th>\n",
       "      <th>party_number_killed</th>\n",
       "      <th>party_number_injured</th>\n",
       "      <th>movement_preceding_collision</th>\n",
       "      <th>vehicle_year</th>\n",
       "      <th>vehicle_make</th>\n",
       "      <th>party_race</th>\n",
       "      <th>age_range</th>\n",
       "    </tr>\n",
       "  </thead>\n",
       "  <tbody>\n",
       "    <tr>\n",
       "      <th>0</th>\n",
       "      <td>81715</td>\n",
       "      <td>1</td>\n",
       "      <td>1</td>\n",
       "      <td>female</td>\n",
       "      <td>35</td>\n",
       "      <td>air bag deployed</td>\n",
       "      <td>lap/shoulder harness used</td>\n",
       "      <td>cellphone not in use</td>\n",
       "      <td>0</td>\n",
       "      <td>0</td>\n",
       "      <td>proceeding straight</td>\n",
       "      <td>2007.0</td>\n",
       "      <td>ford</td>\n",
       "      <td>other</td>\n",
       "      <td>30 - 39</td>\n",
       "    </tr>\n",
       "    <tr>\n",
       "      <th>1</th>\n",
       "      <td>81715</td>\n",
       "      <td>2</td>\n",
       "      <td>0</td>\n",
       "      <td>female</td>\n",
       "      <td>43</td>\n",
       "      <td>air bag not deployed</td>\n",
       "      <td>lap/shoulder harness used</td>\n",
       "      <td>cellphone not in use</td>\n",
       "      <td>0</td>\n",
       "      <td>0</td>\n",
       "      <td>proceeding straight</td>\n",
       "      <td>2019.0</td>\n",
       "      <td>NaN</td>\n",
       "      <td>hispanic</td>\n",
       "      <td>40 - 49</td>\n",
       "    </tr>\n",
       "    <tr>\n",
       "      <th>3845586</th>\n",
       "      <td>6292116</td>\n",
       "      <td>1</td>\n",
       "      <td>0</td>\n",
       "      <td>NaN</td>\n",
       "      <td>0</td>\n",
       "      <td>NaN</td>\n",
       "      <td>NaN</td>\n",
       "      <td>NaN</td>\n",
       "      <td>0</td>\n",
       "      <td>0</td>\n",
       "      <td>proceeding straight</td>\n",
       "      <td>NaN</td>\n",
       "      <td>ford</td>\n",
       "      <td>NaN</td>\n",
       "      <td>0 - 9</td>\n",
       "    </tr>\n",
       "    <tr>\n",
       "      <th>3845587</th>\n",
       "      <td>6292116</td>\n",
       "      <td>2</td>\n",
       "      <td>1</td>\n",
       "      <td>male</td>\n",
       "      <td>32</td>\n",
       "      <td>NaN</td>\n",
       "      <td>NaN</td>\n",
       "      <td>NaN</td>\n",
       "      <td>1</td>\n",
       "      <td>0</td>\n",
       "      <td>NaN</td>\n",
       "      <td>NaN</td>\n",
       "      <td>NaN</td>\n",
       "      <td>hispanic</td>\n",
       "      <td>30 - 39</td>\n",
       "    </tr>\n",
       "    <tr>\n",
       "      <th>3845588</th>\n",
       "      <td>6292116</td>\n",
       "      <td>3</td>\n",
       "      <td>0</td>\n",
       "      <td>female</td>\n",
       "      <td>51</td>\n",
       "      <td>air bag not deployed</td>\n",
       "      <td>lap/shoulder harness used</td>\n",
       "      <td>cellphone not in use</td>\n",
       "      <td>0</td>\n",
       "      <td>0</td>\n",
       "      <td>proceeding straight</td>\n",
       "      <td>2006.0</td>\n",
       "      <td>chrysler</td>\n",
       "      <td>other</td>\n",
       "      <td>50 - 59</td>\n",
       "    </tr>\n",
       "  </tbody>\n",
       "</table>\n",
       "</div>"
      ],
      "text/plain": [
       "         case_id  party_number  at_fault party_sex  party_age  \\\n",
       "0          81715             1         1    female         35   \n",
       "1          81715             2         0    female         43   \n",
       "3845586  6292116             1         0       NaN          0   \n",
       "3845587  6292116             2         1      male         32   \n",
       "3845588  6292116             3         0    female         51   \n",
       "\n",
       "        party_safety_equipment_1   party_safety_equipment_2  \\\n",
       "0               air bag deployed  lap/shoulder harness used   \n",
       "1           air bag not deployed  lap/shoulder harness used   \n",
       "3845586                      NaN                        NaN   \n",
       "3845587                      NaN                        NaN   \n",
       "3845588     air bag not deployed  lap/shoulder harness used   \n",
       "\n",
       "           cellphone_use_type  party_number_killed  party_number_injured  \\\n",
       "0        cellphone not in use                    0                     0   \n",
       "1        cellphone not in use                    0                     0   \n",
       "3845586                   NaN                    0                     0   \n",
       "3845587                   NaN                    1                     0   \n",
       "3845588  cellphone not in use                    0                     0   \n",
       "\n",
       "        movement_preceding_collision  vehicle_year vehicle_make party_race  \\\n",
       "0                proceeding straight        2007.0         ford      other   \n",
       "1                proceeding straight        2019.0          NaN   hispanic   \n",
       "3845586          proceeding straight           NaN         ford        NaN   \n",
       "3845587                          NaN           NaN          NaN   hispanic   \n",
       "3845588          proceeding straight        2006.0     chrysler      other   \n",
       "\n",
       "        age_range  \n",
       "0         30 - 39  \n",
       "1         40 - 49  \n",
       "3845586     0 - 9  \n",
       "3845587   30 - 39  \n",
       "3845588   50 - 59  "
      ]
     },
     "execution_count": 112,
     "metadata": {},
     "output_type": "execute_result"
    }
   ],
   "source": [
    "parties_agefiltered.head()"
   ]
  },
  {
   "cell_type": "markdown",
   "id": "72fa8c83-06f1-41dd-bfd7-42ab1285e824",
   "metadata": {},
   "source": [
    "## Turn DFs into csvs to use in Tableau"
   ]
  },
  {
   "cell_type": "code",
   "execution_count": 114,
   "id": "4f7df6c6-db8a-440c-86bc-7bcdde542101",
   "metadata": {},
   "outputs": [],
   "source": [
    "parties_agefiltered.to_csv('parties.csv', index=False)"
   ]
  },
  {
   "cell_type": "code",
   "execution_count": 113,
   "id": "99af9c6a-38ae-4e54-885c-a4238679687f",
   "metadata": {},
   "outputs": [],
   "source": [
    "collisions_agefiltered.to_csv('collisions.csv', index=False)"
   ]
  }
 ],
 "metadata": {
  "kernelspec": {
   "display_name": "LHL_python_environment",
   "language": "python",
   "name": "lhl_python_environment"
  },
  "language_info": {
   "codemirror_mode": {
    "name": "ipython",
    "version": 3
   },
   "file_extension": ".py",
   "mimetype": "text/x-python",
   "name": "python",
   "nbconvert_exporter": "python",
   "pygments_lexer": "ipython3",
   "version": "3.9.17"
  }
 },
 "nbformat": 4,
 "nbformat_minor": 5
}
