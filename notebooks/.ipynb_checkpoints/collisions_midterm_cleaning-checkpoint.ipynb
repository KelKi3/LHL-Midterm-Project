{
 "cells": [
  {
   "cell_type": "code",
   "execution_count": 6,
   "id": "33435beb-e6e7-47fa-843e-6349bd1615eb",
   "metadata": {
    "tags": []
   },
   "outputs": [],
   "source": [
    "import pandas as pd\n",
    "import numpy as np"
   ]
  },
  {
   "cell_type": "code",
   "execution_count": 23,
   "id": "d91d0a6a-5386-4d16-bcc5-2fe62d822453",
   "metadata": {
    "tags": []
   },
   "outputs": [],
   "source": [
    "#settings for how many columns and rows are visualized\n",
    "\n",
    "pd.set_option('display.max_columns', None)\n",
    "#pd.set_option('display.max_rows', None) \n",
    "#pd.reset_option('display.max_rows')\n",
    "#pd.reset_option('display.max_columns')"
   ]
  },
  {
   "cell_type": "markdown",
   "id": "5912a5a4-a866-4f21-aed8-b8b6aaab1f20",
   "metadata": {},
   "source": [
    "# Cleaning Parties csv"
   ]
  },
  {
   "cell_type": "code",
   "execution_count": 159,
   "id": "e4d8a6ad-0fc9-47f8-a8e1-43d9f69b5bd9",
   "metadata": {
    "tags": []
   },
   "outputs": [
    {
     "name": "stderr",
     "output_type": "stream",
     "text": [
      "C:\\Users\\mufff\\AppData\\Local\\Temp\\ipykernel_42672\\826216982.py:2: DtypeWarning: Columns (11,17,29,30,31) have mixed types. Specify dtype option on import or set low_memory=False.\n",
      "  parties = pd.read_csv(\"parties.csv\")\n"
     ]
    }
   ],
   "source": [
    "#loading initial csv \n",
    "parties = pd.read_csv(\"parties.csv\")"
   ]
  },
  {
   "cell_type": "code",
   "execution_count": 160,
   "id": "6d943ecb-0d8a-4f97-8594-585a8edcaa3f",
   "metadata": {
    "tags": []
   },
   "outputs": [],
   "source": [
    "#making df\n",
    "parties_df=pd.DataFrame(parties)"
   ]
  },
  {
   "cell_type": "code",
   "execution_count": 161,
   "id": "d921f4f0-f806-4517-b3e0-40fdb6436e94",
   "metadata": {
    "tags": []
   },
   "outputs": [
    {
     "data": {
      "text/html": [
       "<div>\n",
       "<style scoped>\n",
       "    .dataframe tbody tr th:only-of-type {\n",
       "        vertical-align: middle;\n",
       "    }\n",
       "\n",
       "    .dataframe tbody tr th {\n",
       "        vertical-align: top;\n",
       "    }\n",
       "\n",
       "    .dataframe thead th {\n",
       "        text-align: right;\n",
       "    }\n",
       "</style>\n",
       "<table border=\"1\" class=\"dataframe\">\n",
       "  <thead>\n",
       "    <tr style=\"text-align: right;\">\n",
       "      <th></th>\n",
       "      <th>id</th>\n",
       "      <th>case_id</th>\n",
       "      <th>party_number</th>\n",
       "      <th>party_type</th>\n",
       "      <th>at_fault</th>\n",
       "      <th>party_sex</th>\n",
       "      <th>party_age</th>\n",
       "      <th>party_sobriety</th>\n",
       "      <th>party_drug_physical</th>\n",
       "      <th>direction_of_travel</th>\n",
       "      <th>party_safety_equipment_1</th>\n",
       "      <th>party_safety_equipment_2</th>\n",
       "      <th>financial_responsibility</th>\n",
       "      <th>hazardous_materials</th>\n",
       "      <th>cellphone_in_use</th>\n",
       "      <th>cellphone_use_type</th>\n",
       "      <th>school_bus_related</th>\n",
       "      <th>oaf_violation_code</th>\n",
       "      <th>oaf_violation_category</th>\n",
       "      <th>oaf_violation_section</th>\n",
       "      <th>oaf_violation_suffix</th>\n",
       "      <th>other_associate_factor_1</th>\n",
       "      <th>other_associate_factor_2</th>\n",
       "      <th>party_number_killed</th>\n",
       "      <th>party_number_injured</th>\n",
       "      <th>movement_preceding_collision</th>\n",
       "      <th>vehicle_year</th>\n",
       "      <th>vehicle_make</th>\n",
       "      <th>statewide_vehicle_type</th>\n",
       "      <th>chp_vehicle_type_towing</th>\n",
       "      <th>chp_vehicle_type_towed</th>\n",
       "      <th>party_race</th>\n",
       "    </tr>\n",
       "  </thead>\n",
       "  <tbody>\n",
       "    <tr>\n",
       "      <th>0</th>\n",
       "      <td>1</td>\n",
       "      <td>81715.0</td>\n",
       "      <td>1</td>\n",
       "      <td>driver</td>\n",
       "      <td>1</td>\n",
       "      <td>female</td>\n",
       "      <td>35.0</td>\n",
       "      <td>not applicable</td>\n",
       "      <td>not applicable</td>\n",
       "      <td>north</td>\n",
       "      <td>air bag deployed</td>\n",
       "      <td>lap/shoulder harness used</td>\n",
       "      <td>proof of insurance obtained</td>\n",
       "      <td>NaN</td>\n",
       "      <td>0.0</td>\n",
       "      <td>cellphone not in use</td>\n",
       "      <td>NaN</td>\n",
       "      <td>NaN</td>\n",
       "      <td>NaN</td>\n",
       "      <td>NaN</td>\n",
       "      <td>NaN</td>\n",
       "      <td>none apparent</td>\n",
       "      <td>NaN</td>\n",
       "      <td>0</td>\n",
       "      <td>0</td>\n",
       "      <td>proceeding straight</td>\n",
       "      <td>2007.0</td>\n",
       "      <td>ford</td>\n",
       "      <td>NaN</td>\n",
       "      <td>NaN</td>\n",
       "      <td>NaN</td>\n",
       "      <td>other</td>\n",
       "    </tr>\n",
       "    <tr>\n",
       "      <th>1</th>\n",
       "      <td>2</td>\n",
       "      <td>81715.0</td>\n",
       "      <td>2</td>\n",
       "      <td>driver</td>\n",
       "      <td>0</td>\n",
       "      <td>female</td>\n",
       "      <td>43.0</td>\n",
       "      <td>not applicable</td>\n",
       "      <td>not applicable</td>\n",
       "      <td>north</td>\n",
       "      <td>air bag not deployed</td>\n",
       "      <td>lap/shoulder harness used</td>\n",
       "      <td>proof of insurance obtained</td>\n",
       "      <td>NaN</td>\n",
       "      <td>0.0</td>\n",
       "      <td>cellphone not in use</td>\n",
       "      <td>NaN</td>\n",
       "      <td>NaN</td>\n",
       "      <td>NaN</td>\n",
       "      <td>NaN</td>\n",
       "      <td>NaN</td>\n",
       "      <td>none apparent</td>\n",
       "      <td>NaN</td>\n",
       "      <td>0</td>\n",
       "      <td>0</td>\n",
       "      <td>proceeding straight</td>\n",
       "      <td>2019.0</td>\n",
       "      <td>NaN</td>\n",
       "      <td>NaN</td>\n",
       "      <td>NaN</td>\n",
       "      <td>NaN</td>\n",
       "      <td>hispanic</td>\n",
       "    </tr>\n",
       "    <tr>\n",
       "      <th>2</th>\n",
       "      <td>3</td>\n",
       "      <td>726202.0</td>\n",
       "      <td>1</td>\n",
       "      <td>driver</td>\n",
       "      <td>1</td>\n",
       "      <td>NaN</td>\n",
       "      <td>NaN</td>\n",
       "      <td>impairment unknown</td>\n",
       "      <td>G</td>\n",
       "      <td>north</td>\n",
       "      <td>NaN</td>\n",
       "      <td>NaN</td>\n",
       "      <td>NaN</td>\n",
       "      <td>NaN</td>\n",
       "      <td>NaN</td>\n",
       "      <td>NaN</td>\n",
       "      <td>NaN</td>\n",
       "      <td>NaN</td>\n",
       "      <td>NaN</td>\n",
       "      <td>NaN</td>\n",
       "      <td>NaN</td>\n",
       "      <td>none apparent</td>\n",
       "      <td>NaN</td>\n",
       "      <td>0</td>\n",
       "      <td>0</td>\n",
       "      <td>proceeding straight</td>\n",
       "      <td>2005.0</td>\n",
       "      <td>NaN</td>\n",
       "      <td>passenger car</td>\n",
       "      <td>passenger car, station</td>\n",
       "      <td>NaN</td>\n",
       "      <td>NaN</td>\n",
       "    </tr>\n",
       "    <tr>\n",
       "      <th>3</th>\n",
       "      <td>4</td>\n",
       "      <td>3858022.0</td>\n",
       "      <td>1</td>\n",
       "      <td>driver</td>\n",
       "      <td>1</td>\n",
       "      <td>male</td>\n",
       "      <td>47.0</td>\n",
       "      <td>impairment unknown</td>\n",
       "      <td>G</td>\n",
       "      <td>east</td>\n",
       "      <td>air bag not deployed</td>\n",
       "      <td>lap/shoulder harness used</td>\n",
       "      <td>proof of insurance obtained</td>\n",
       "      <td>NaN</td>\n",
       "      <td>NaN</td>\n",
       "      <td>NaN</td>\n",
       "      <td>NaN</td>\n",
       "      <td>NaN</td>\n",
       "      <td>NaN</td>\n",
       "      <td>NaN</td>\n",
       "      <td>NaN</td>\n",
       "      <td>other</td>\n",
       "      <td>NaN</td>\n",
       "      <td>0</td>\n",
       "      <td>0</td>\n",
       "      <td>NaN</td>\n",
       "      <td>2007.0</td>\n",
       "      <td>dodge</td>\n",
       "      <td>emergency vehicle</td>\n",
       "      <td>police car</td>\n",
       "      <td>00</td>\n",
       "      <td>black</td>\n",
       "    </tr>\n",
       "    <tr>\n",
       "      <th>4</th>\n",
       "      <td>5</td>\n",
       "      <td>3858022.0</td>\n",
       "      <td>2</td>\n",
       "      <td>driver</td>\n",
       "      <td>0</td>\n",
       "      <td>male</td>\n",
       "      <td>58.0</td>\n",
       "      <td>had not been drinking</td>\n",
       "      <td>NaN</td>\n",
       "      <td>east</td>\n",
       "      <td>air bag not deployed</td>\n",
       "      <td>lap/shoulder harness used</td>\n",
       "      <td>proof of insurance obtained</td>\n",
       "      <td>NaN</td>\n",
       "      <td>NaN</td>\n",
       "      <td>NaN</td>\n",
       "      <td>NaN</td>\n",
       "      <td>NaN</td>\n",
       "      <td>NaN</td>\n",
       "      <td>NaN</td>\n",
       "      <td>NaN</td>\n",
       "      <td>stop and go traffic</td>\n",
       "      <td>NaN</td>\n",
       "      <td>0</td>\n",
       "      <td>0</td>\n",
       "      <td>NaN</td>\n",
       "      <td>2006.0</td>\n",
       "      <td>nissan</td>\n",
       "      <td>NaN</td>\n",
       "      <td>NaN</td>\n",
       "      <td>00</td>\n",
       "      <td>hispanic</td>\n",
       "    </tr>\n",
       "  </tbody>\n",
       "</table>\n",
       "</div>"
      ],
      "text/plain": [
       "   id    case_id  party_number party_type  at_fault party_sex  party_age  \\\n",
       "0   1    81715.0             1     driver         1    female       35.0   \n",
       "1   2    81715.0             2     driver         0    female       43.0   \n",
       "2   3   726202.0             1     driver         1       NaN        NaN   \n",
       "3   4  3858022.0             1     driver         1      male       47.0   \n",
       "4   5  3858022.0             2     driver         0      male       58.0   \n",
       "\n",
       "          party_sobriety party_drug_physical direction_of_travel  \\\n",
       "0         not applicable      not applicable               north   \n",
       "1         not applicable      not applicable               north   \n",
       "2     impairment unknown                   G               north   \n",
       "3     impairment unknown                   G                east   \n",
       "4  had not been drinking                 NaN                east   \n",
       "\n",
       "  party_safety_equipment_1   party_safety_equipment_2  \\\n",
       "0         air bag deployed  lap/shoulder harness used   \n",
       "1     air bag not deployed  lap/shoulder harness used   \n",
       "2                      NaN                        NaN   \n",
       "3     air bag not deployed  lap/shoulder harness used   \n",
       "4     air bag not deployed  lap/shoulder harness used   \n",
       "\n",
       "      financial_responsibility  hazardous_materials  cellphone_in_use  \\\n",
       "0  proof of insurance obtained                  NaN               0.0   \n",
       "1  proof of insurance obtained                  NaN               0.0   \n",
       "2                          NaN                  NaN               NaN   \n",
       "3  proof of insurance obtained                  NaN               NaN   \n",
       "4  proof of insurance obtained                  NaN               NaN   \n",
       "\n",
       "     cellphone_use_type  school_bus_related oaf_violation_code  \\\n",
       "0  cellphone not in use                 NaN                NaN   \n",
       "1  cellphone not in use                 NaN                NaN   \n",
       "2                   NaN                 NaN                NaN   \n",
       "3                   NaN                 NaN                NaN   \n",
       "4                   NaN                 NaN                NaN   \n",
       "\n",
       "  oaf_violation_category  oaf_violation_section oaf_violation_suffix  \\\n",
       "0                    NaN                    NaN                  NaN   \n",
       "1                    NaN                    NaN                  NaN   \n",
       "2                    NaN                    NaN                  NaN   \n",
       "3                    NaN                    NaN                  NaN   \n",
       "4                    NaN                    NaN                  NaN   \n",
       "\n",
       "  other_associate_factor_1 other_associate_factor_2  party_number_killed  \\\n",
       "0            none apparent                      NaN                    0   \n",
       "1            none apparent                      NaN                    0   \n",
       "2            none apparent                      NaN                    0   \n",
       "3                    other                      NaN                    0   \n",
       "4      stop and go traffic                      NaN                    0   \n",
       "\n",
       "   party_number_injured movement_preceding_collision  vehicle_year  \\\n",
       "0                     0          proceeding straight        2007.0   \n",
       "1                     0          proceeding straight        2019.0   \n",
       "2                     0          proceeding straight        2005.0   \n",
       "3                     0                          NaN        2007.0   \n",
       "4                     0                          NaN        2006.0   \n",
       "\n",
       "  vehicle_make statewide_vehicle_type chp_vehicle_type_towing  \\\n",
       "0         ford                    NaN                     NaN   \n",
       "1          NaN                    NaN                     NaN   \n",
       "2          NaN          passenger car  passenger car, station   \n",
       "3        dodge      emergency vehicle              police car   \n",
       "4       nissan                    NaN                     NaN   \n",
       "\n",
       "  chp_vehicle_type_towed party_race  \n",
       "0                    NaN      other  \n",
       "1                    NaN   hispanic  \n",
       "2                    NaN        NaN  \n",
       "3                     00      black  \n",
       "4                     00   hispanic  "
      ]
     },
     "execution_count": 161,
     "metadata": {},
     "output_type": "execute_result"
    }
   ],
   "source": [
    "parties_df.head()"
   ]
  },
  {
   "cell_type": "code",
   "execution_count": 162,
   "id": "b560db4a-b703-46fe-952f-76458f9736f7",
   "metadata": {
    "tags": []
   },
   "outputs": [
    {
     "data": {
      "text/plain": [
       "(18669166, 32)"
      ]
     },
     "execution_count": 162,
     "metadata": {},
     "output_type": "execute_result"
    }
   ],
   "source": [
    "parties_df.shape"
   ]
  },
  {
   "cell_type": "code",
   "execution_count": 163,
   "id": "c455ad0b-135d-4565-940c-2bac012f501c",
   "metadata": {
    "tags": []
   },
   "outputs": [
    {
     "data": {
      "text/plain": [
       "array(['not applicable', 'G', nan, 'impairment - physical',\n",
       "       'under drug influence', 'sleepy/fatigued'], dtype=object)"
      ]
     },
     "execution_count": 163,
     "metadata": {},
     "output_type": "execute_result"
    }
   ],
   "source": [
    "#checking unique values in columns\n",
    "parties_df['party_drug_physical'].unique()"
   ]
  },
  {
   "cell_type": "code",
   "execution_count": 165,
   "id": "d1b1a0d6-c876-4942-b196-a5b583d70a7a",
   "metadata": {
    "tags": []
   },
   "outputs": [
    {
     "name": "stdout",
     "output_type": "stream",
     "text": [
      "Index(['id', 'case_id', 'party_number', 'party_type', 'at_fault', 'party_sex',\n",
      "       'party_age', 'party_sobriety', 'party_drug_physical',\n",
      "       'direction_of_travel', 'party_safety_equipment_1',\n",
      "       'party_safety_equipment_2', 'financial_responsibility',\n",
      "       'hazardous_materials', 'cellphone_in_use', 'cellphone_use_type',\n",
      "       'school_bus_related', 'oaf_violation_code', 'oaf_violation_category',\n",
      "       'oaf_violation_section', 'oaf_violation_suffix',\n",
      "       'other_associate_factor_1', 'other_associate_factor_2',\n",
      "       'party_number_killed', 'party_number_injured',\n",
      "       'movement_preceding_collision', 'vehicle_year', 'vehicle_make',\n",
      "       'statewide_vehicle_type', 'chp_vehicle_type_towing',\n",
      "       'chp_vehicle_type_towed', 'party_race'],\n",
      "      dtype='object')\n"
     ]
    }
   ],
   "source": [
    "#initial column headers\n",
    "print(parties_df.columns)"
   ]
  },
  {
   "cell_type": "code",
   "execution_count": 299,
   "id": "3ca9d0b2-63a3-43b0-90b6-1f08cddb1a3e",
   "metadata": {
    "tags": []
   },
   "outputs": [],
   "source": [
    "#pulling wanted columns\n",
    "party_df_2 = parties_df[['case_id', 'party_number', 'party_type', 'at_fault', 'party_sex', 'party_age', 'party_sobriety', 'party_drug_physical', 'party_safety_equipment_1', 'party_safety_equipment_2', 'cellphone_use_type', 'oaf_violation_category', 'party_number_killed', 'party_number_injured', 'movement_preceding_collision', 'vehicle_year', 'vehicle_make', 'party_race']].copy()\n"
   ]
  },
  {
   "cell_type": "code",
   "execution_count": null,
   "id": "a6a79204-b568-4e1f-a91f-a8dcc554760c",
   "metadata": {
    "tags": []
   },
   "outputs": [],
   "source": [
    "party_df_2.head(1)"
   ]
  },
  {
   "cell_type": "code",
   "execution_count": 301,
   "id": "cd36fd6a-a96e-4b7f-87de-93e6b9d361a8",
   "metadata": {
    "tags": []
   },
   "outputs": [
    {
     "data": {
      "text/plain": [
       "(18669166, 18)"
      ]
     },
     "execution_count": 301,
     "metadata": {},
     "output_type": "execute_result"
    }
   ],
   "source": [
    "party_df_2.shape"
   ]
  },
  {
   "cell_type": "code",
   "execution_count": 322,
   "id": "255120e1-d8d3-43c3-810d-73a3846e5828",
   "metadata": {
    "tags": []
   },
   "outputs": [
    {
     "name": "stdout",
     "output_type": "stream",
     "text": [
      "<class 'pandas.core.frame.DataFrame'>\n",
      "RangeIndex: 18669166 entries, 0 to 18669165\n",
      "Data columns (total 18 columns):\n",
      " #   Column                        Dtype  \n",
      "---  ------                        -----  \n",
      " 0   case_id                       float64\n",
      " 1   party_number                  int64  \n",
      " 2   party_type                    object \n",
      " 3   at_fault                      int64  \n",
      " 4   party_sex                     object \n",
      " 5   party_age                     float64\n",
      " 6   party_sobriety                object \n",
      " 7   party_drug_physical           object \n",
      " 8   party_safety_equipment_1      object \n",
      " 9   party_safety_equipment_2      object \n",
      " 10  cellphone_use_type            object \n",
      " 11  oaf_violation_category        object \n",
      " 12  party_number_killed           int64  \n",
      " 13  party_number_injured          int64  \n",
      " 14  movement_preceding_collision  object \n",
      " 15  vehicle_year                  float64\n",
      " 16  vehicle_make                  object \n",
      " 17  party_race                    object \n",
      "dtypes: float64(3), int64(4), object(11)\n",
      "memory usage: 2.5+ GB\n"
     ]
    }
   ],
   "source": [
    "party_df_2.info()"
   ]
  },
  {
   "cell_type": "code",
   "execution_count": 325,
   "id": "1cbdf101-5e0f-48f4-ba7b-dc6394d0b8eb",
   "metadata": {
    "tags": []
   },
   "outputs": [
    {
     "data": {
      "text/plain": [
       "1777184"
      ]
     },
     "execution_count": 325,
     "metadata": {},
     "output_type": "execute_result"
    }
   ],
   "source": [
    "party_df_2['vehicle_year'].isna().sum()"
   ]
  },
  {
   "cell_type": "code",
   "execution_count": 70,
   "id": "7c11ead3-0d19-47bb-9fad-ee840c7647de",
   "metadata": {
    "tags": []
   },
   "outputs": [
    {
     "name": "stdout",
     "output_type": "stream",
     "text": [
      "DataFrame exported\n"
     ]
    }
   ],
   "source": [
    "#resaving csv version 2\n",
    "party_df_2.to_csv(f\"D:\\Computer Courses\\LHL Data Bootcamp\\LHL Projects\\Midterm Project\\parties_2.csv\", index=False)\n",
    "print(f\"DataFrame exported\")"
   ]
  },
  {
   "cell_type": "code",
   "execution_count": 69,
   "id": "93e4ad84-f1a6-4b86-9fa3-cf4730f7f8e1",
   "metadata": {
    "tags": []
   },
   "outputs": [
    {
     "data": {
      "text/plain": [
       "(18669166, 18)"
      ]
     },
     "execution_count": 69,
     "metadata": {},
     "output_type": "execute_result"
    }
   ],
   "source": [
    "party_df_2.shape"
   ]
  },
  {
   "cell_type": "code",
   "execution_count": 170,
   "id": "15287f1f-e2cc-4ac0-9695-e0c6a12bcf0f",
   "metadata": {
    "tags": []
   },
   "outputs": [
    {
     "name": "stdout",
     "output_type": "stream",
     "text": [
      "Index(['case_id', 'party_number', 'party_type', 'at_fault', 'party_sex',\n",
      "       'party_age', 'party_sobriety', 'party_drug_physical',\n",
      "       'party_safety_equipment_1', 'party_safety_equipment_2',\n",
      "       'cellphone_use_type', 'oaf_violation_category', 'party_number_killed',\n",
      "       'party_number_injured', 'movement_preceding_collision', 'vehicle_year',\n",
      "       'vehicle_make', 'party_race'],\n",
      "      dtype='object')\n"
     ]
    }
   ],
   "source": [
    "print(party_df_2.columns)"
   ]
  },
  {
   "cell_type": "code",
   "execution_count": 297,
   "id": "9053faf9-3b3f-461a-937e-6644249a03de",
   "metadata": {
    "tags": []
   },
   "outputs": [
    {
     "data": {
      "text/plain": [
       "array([-1], dtype=int64)"
      ]
     },
     "execution_count": 297,
     "metadata": {},
     "output_type": "execute_result"
    }
   ],
   "source": [
    "party_df_2['case_id'].unique()"
   ]
  },
  {
   "cell_type": "code",
   "execution_count": 347,
   "id": "96c1a70a-b53b-4ecc-abe1-dc27836a8dc5",
   "metadata": {
    "tags": []
   },
   "outputs": [],
   "source": [
    "del parties_df"
   ]
  },
  {
   "cell_type": "markdown",
   "id": "b3f43963-76e2-4323-ac24-28a024e7b8ed",
   "metadata": {},
   "source": [
    "-----------\n",
    "-----\n",
    "-----"
   ]
  },
  {
   "cell_type": "code",
   "execution_count": 78,
   "id": "ac352e53-5cc4-4400-b5f7-80551eac1fb3",
   "metadata": {
    "tags": []
   },
   "outputs": [
    {
     "name": "stderr",
     "output_type": "stream",
     "text": [
      "C:\\Users\\mufff\\AppData\\Local\\Temp\\ipykernel_37520\\3422329772.py:2: DtypeWarning: Columns (9,17) have mixed types. Specify dtype option on import or set low_memory=False.\n",
      "  party_df_2 = pd.read_csv(\"parties_2.csv\")\n"
     ]
    }
   ],
   "source": [
    "#import most version 2\n",
    "party_df_2 = pd.read_csv(\"parties_2.csv\")"
   ]
  },
  {
   "cell_type": "code",
   "execution_count": null,
   "id": "a3af6921-4099-422d-ac64-47008d1c5e0b",
   "metadata": {},
   "outputs": [],
   "source": [
    "#trying to adjust data types on import\n",
    "dtype_options = {\n",
    "    'case_id': float,\n",
    "    'party_number': int,\n",
    "    'party_type': str,\n",
    "    'at_fault': int,\n",
    "    'party_sex': str,\n",
    "    'party_age': float,\n",
    "    'party_safety_equipment_1': str,\n",
    "    'party_safety_equipment_2': str,\n",
    "    'cellphone_use_type': str,\n",
    "    'oaf_violation_category': str,\n",
    "    'party_number_killed': int,\n",
    "    'party_number_injured': int,\n",
    "    'movement_preceding_collision': str,\n",
    "    'vehicle_year': float,\n",
    "    'vehicle_make': str,\n",
    "    'party_race': str\n",
    "}\n",
    "\n",
    "party_df_3 = pd.read_csv(\"parties_3.csv\", dtype=dtype_options)"
   ]
  },
  {
   "cell_type": "code",
   "execution_count": 79,
   "id": "bf793923-758a-4601-b3a1-ad8019e5e787",
   "metadata": {
    "tags": []
   },
   "outputs": [
    {
     "data": {
      "text/html": [
       "<div>\n",
       "<style scoped>\n",
       "    .dataframe tbody tr th:only-of-type {\n",
       "        vertical-align: middle;\n",
       "    }\n",
       "\n",
       "    .dataframe tbody tr th {\n",
       "        vertical-align: top;\n",
       "    }\n",
       "\n",
       "    .dataframe thead th {\n",
       "        text-align: right;\n",
       "    }\n",
       "</style>\n",
       "<table border=\"1\" class=\"dataframe\">\n",
       "  <thead>\n",
       "    <tr style=\"text-align: right;\">\n",
       "      <th></th>\n",
       "      <th>case_id</th>\n",
       "      <th>party_number</th>\n",
       "      <th>party_type</th>\n",
       "      <th>at_fault</th>\n",
       "      <th>party_sex</th>\n",
       "      <th>party_age</th>\n",
       "      <th>party_sobriety</th>\n",
       "      <th>party_drug_physical</th>\n",
       "      <th>party_safety_equipment_1</th>\n",
       "      <th>party_safety_equipment_2</th>\n",
       "      <th>cellphone_use_type</th>\n",
       "      <th>oaf_violation_category</th>\n",
       "      <th>party_number_killed</th>\n",
       "      <th>party_number_injured</th>\n",
       "      <th>movement_preceding_collision</th>\n",
       "      <th>vehicle_year</th>\n",
       "      <th>vehicle_make</th>\n",
       "      <th>party_race</th>\n",
       "    </tr>\n",
       "  </thead>\n",
       "  <tbody>\n",
       "    <tr>\n",
       "      <th>0</th>\n",
       "      <td>81715.0</td>\n",
       "      <td>1</td>\n",
       "      <td>driver</td>\n",
       "      <td>1</td>\n",
       "      <td>female</td>\n",
       "      <td>35.0</td>\n",
       "      <td>not applicable</td>\n",
       "      <td>not applicable</td>\n",
       "      <td>air bag deployed</td>\n",
       "      <td>lap/shoulder harness used</td>\n",
       "      <td>cellphone not in use</td>\n",
       "      <td>NaN</td>\n",
       "      <td>0</td>\n",
       "      <td>0</td>\n",
       "      <td>proceeding straight</td>\n",
       "      <td>2007.0</td>\n",
       "      <td>ford</td>\n",
       "      <td>other</td>\n",
       "    </tr>\n",
       "  </tbody>\n",
       "</table>\n",
       "</div>"
      ],
      "text/plain": [
       "   case_id  party_number party_type  at_fault party_sex  party_age  \\\n",
       "0  81715.0             1     driver         1    female       35.0   \n",
       "\n",
       "   party_sobriety party_drug_physical party_safety_equipment_1  \\\n",
       "0  not applicable      not applicable         air bag deployed   \n",
       "\n",
       "    party_safety_equipment_2    cellphone_use_type oaf_violation_category  \\\n",
       "0  lap/shoulder harness used  cellphone not in use                    NaN   \n",
       "\n",
       "   party_number_killed  party_number_injured movement_preceding_collision  \\\n",
       "0                    0                     0          proceeding straight   \n",
       "\n",
       "   vehicle_year vehicle_make party_race  \n",
       "0        2007.0         ford      other  "
      ]
     },
     "execution_count": 79,
     "metadata": {},
     "output_type": "execute_result"
    }
   ],
   "source": [
    "party_df_2.head(1)"
   ]
  },
  {
   "cell_type": "code",
   "execution_count": 82,
   "id": "0a140ffb-f55e-430e-9413-d2faa2bf3c60",
   "metadata": {
    "tags": []
   },
   "outputs": [],
   "source": [
    "#pulling wanted columns\n",
    "party_df_3 = party_df_2[['case_id', 'party_number', 'party_type', 'at_fault', 'party_sex', 'party_age', 'party_safety_equipment_1', 'party_safety_equipment_2', 'cellphone_use_type', 'oaf_violation_category', 'party_number_killed', 'party_number_injured', 'movement_preceding_collision', 'vehicle_year', 'vehicle_make', 'party_race']].copy()\n"
   ]
  },
  {
   "cell_type": "code",
   "execution_count": 84,
   "id": "9d6713ba-a79a-48ef-a644-756b177bf000",
   "metadata": {
    "tags": []
   },
   "outputs": [
    {
     "data": {
      "text/plain": [
       "case_id                         18669166\n",
       "party_number                    18669166\n",
       "party_type                      18625299\n",
       "at_fault                        18669166\n",
       "party_sex                       16170123\n",
       "party_age                       15754455\n",
       "party_safety_equipment_1        15518152\n",
       "party_safety_equipment_2        11666542\n",
       "cellphone_use_type              14346749\n",
       "oaf_violation_category           1283832\n",
       "party_number_killed             18669166\n",
       "party_number_injured            18669166\n",
       "movement_preceding_collision    18335394\n",
       "vehicle_year                    16891982\n",
       "vehicle_make                    16719305\n",
       "party_race                      14295037\n",
       "dtype: int64"
      ]
     },
     "execution_count": 84,
     "metadata": {},
     "output_type": "execute_result"
    }
   ],
   "source": [
    "party_df_3.count()"
   ]
  },
  {
   "cell_type": "code",
   "execution_count": 85,
   "id": "20a4da43-159c-4c69-8939-bd78a69fa522",
   "metadata": {
    "tags": []
   },
   "outputs": [
    {
     "data": {
      "text/plain": [
       "(18669166, 16)"
      ]
     },
     "execution_count": 85,
     "metadata": {},
     "output_type": "execute_result"
    }
   ],
   "source": [
    "party_df_3.shape"
   ]
  },
  {
   "cell_type": "code",
   "execution_count": 86,
   "id": "acdbadc3-07de-4fe0-ae3f-333883dabd8b",
   "metadata": {
    "tags": []
   },
   "outputs": [
    {
     "name": "stdout",
     "output_type": "stream",
     "text": [
      "DataFrame exported\n"
     ]
    }
   ],
   "source": [
    "#resaving csv version 3\n",
    "party_df_3.to_csv(f\"D:\\Computer Courses\\LHL Data Bootcamp\\LHL Projects\\Midterm Project\\parties_3.csv\", index=False)\n",
    "print(f\"DataFrame exported\")"
   ]
  },
  {
   "cell_type": "code",
   "execution_count": 116,
   "id": "6ce8615f-1c1a-46f7-910d-d422e89d5b1f",
   "metadata": {
    "tags": []
   },
   "outputs": [
    {
     "data": {
      "text/html": [
       "<div>\n",
       "<style scoped>\n",
       "    .dataframe tbody tr th:only-of-type {\n",
       "        vertical-align: middle;\n",
       "    }\n",
       "\n",
       "    .dataframe tbody tr th {\n",
       "        vertical-align: top;\n",
       "    }\n",
       "\n",
       "    .dataframe thead th {\n",
       "        text-align: right;\n",
       "    }\n",
       "</style>\n",
       "<table border=\"1\" class=\"dataframe\">\n",
       "  <thead>\n",
       "    <tr style=\"text-align: right;\">\n",
       "      <th></th>\n",
       "      <th>case_id</th>\n",
       "      <th>party_number</th>\n",
       "      <th>party_type</th>\n",
       "      <th>at_fault</th>\n",
       "      <th>party_sex</th>\n",
       "      <th>party_age</th>\n",
       "      <th>party_safety_equipment_1</th>\n",
       "      <th>party_safety_equipment_2</th>\n",
       "      <th>cellphone_use_type</th>\n",
       "      <th>oaf_violation_category</th>\n",
       "      <th>party_number_killed</th>\n",
       "      <th>party_number_injured</th>\n",
       "      <th>movement_preceding_collision</th>\n",
       "      <th>vehicle_year</th>\n",
       "      <th>vehicle_make</th>\n",
       "      <th>party_race</th>\n",
       "    </tr>\n",
       "  </thead>\n",
       "  <tbody>\n",
       "    <tr>\n",
       "      <th>0</th>\n",
       "      <td>81715.0</td>\n",
       "      <td>1</td>\n",
       "      <td>driver</td>\n",
       "      <td>1</td>\n",
       "      <td>female</td>\n",
       "      <td>35.0</td>\n",
       "      <td>air bag deployed</td>\n",
       "      <td>lap/shoulder harness used</td>\n",
       "      <td>cellphone not in use</td>\n",
       "      <td>NaN</td>\n",
       "      <td>0</td>\n",
       "      <td>0</td>\n",
       "      <td>proceeding straight</td>\n",
       "      <td>2007.0</td>\n",
       "      <td>ford</td>\n",
       "      <td>other</td>\n",
       "    </tr>\n",
       "  </tbody>\n",
       "</table>\n",
       "</div>"
      ],
      "text/plain": [
       "   case_id  party_number party_type  at_fault party_sex  party_age  \\\n",
       "0  81715.0             1     driver         1    female       35.0   \n",
       "\n",
       "  party_safety_equipment_1   party_safety_equipment_2    cellphone_use_type  \\\n",
       "0         air bag deployed  lap/shoulder harness used  cellphone not in use   \n",
       "\n",
       "  oaf_violation_category  party_number_killed  party_number_injured  \\\n",
       "0                    NaN                    0                     0   \n",
       "\n",
       "  movement_preceding_collision  vehicle_year vehicle_make party_race  \n",
       "0          proceeding straight        2007.0         ford      other  "
      ]
     },
     "execution_count": 116,
     "metadata": {},
     "output_type": "execute_result"
    }
   ],
   "source": [
    "party_df_3.head(1)"
   ]
  },
  {
   "cell_type": "markdown",
   "id": "c535f024-26ce-4a89-a7a4-fa57e42508c7",
   "metadata": {},
   "source": [
    "----\n",
    "----\n",
    "----"
   ]
  },
  {
   "cell_type": "code",
   "execution_count": 5,
   "id": "757ec5bb-bda8-4d34-8aee-5490529667a7",
   "metadata": {},
   "outputs": [
    {
     "name": "stderr",
     "output_type": "stream",
     "text": [
      "C:\\Users\\mufff\\AppData\\Local\\Temp\\ipykernel_30420\\875214185.py:2: DtypeWarning: Columns (7,15) have mixed types. Specify dtype option on import or set low_memory=False.\n",
      "  party_df_3 = pd.read_csv(f\"..\\data\\parties_3.csv\")\n"
     ]
    }
   ],
   "source": [
    "#loading csv verion 3\n",
    "party_df_3 = pd.read_csv(f\"..\\data\\parties_3.csv\")"
   ]
  },
  {
   "cell_type": "code",
   "execution_count": 13,
   "id": "02740fdd-1a9d-4fa1-8777-203251f99cb0",
   "metadata": {
    "tags": []
   },
   "outputs": [
    {
     "data": {
      "text/html": [
       "<div>\n",
       "<style scoped>\n",
       "    .dataframe tbody tr th:only-of-type {\n",
       "        vertical-align: middle;\n",
       "    }\n",
       "\n",
       "    .dataframe tbody tr th {\n",
       "        vertical-align: top;\n",
       "    }\n",
       "\n",
       "    .dataframe thead th {\n",
       "        text-align: right;\n",
       "    }\n",
       "</style>\n",
       "<table border=\"1\" class=\"dataframe\">\n",
       "  <thead>\n",
       "    <tr style=\"text-align: right;\">\n",
       "      <th></th>\n",
       "      <th>case_id</th>\n",
       "      <th>party_number</th>\n",
       "      <th>party_type</th>\n",
       "      <th>at_fault</th>\n",
       "      <th>party_sex</th>\n",
       "      <th>party_age</th>\n",
       "      <th>party_safety_equipment_1</th>\n",
       "      <th>party_safety_equipment_2</th>\n",
       "      <th>cellphone_use_type</th>\n",
       "      <th>oaf_violation_category</th>\n",
       "      <th>party_number_killed</th>\n",
       "      <th>party_number_injured</th>\n",
       "      <th>movement_preceding_collision</th>\n",
       "      <th>vehicle_year</th>\n",
       "      <th>vehicle_make</th>\n",
       "      <th>party_race</th>\n",
       "    </tr>\n",
       "  </thead>\n",
       "  <tbody>\n",
       "    <tr>\n",
       "      <th>0</th>\n",
       "      <td>81715.0</td>\n",
       "      <td>1</td>\n",
       "      <td>driver</td>\n",
       "      <td>1</td>\n",
       "      <td>female</td>\n",
       "      <td>35.0</td>\n",
       "      <td>air bag deployed</td>\n",
       "      <td>lap/shoulder harness used</td>\n",
       "      <td>cellphone not in use</td>\n",
       "      <td>NaN</td>\n",
       "      <td>0</td>\n",
       "      <td>0</td>\n",
       "      <td>proceeding straight</td>\n",
       "      <td>2007.0</td>\n",
       "      <td>ford</td>\n",
       "      <td>other</td>\n",
       "    </tr>\n",
       "  </tbody>\n",
       "</table>\n",
       "</div>"
      ],
      "text/plain": [
       "   case_id  party_number party_type  at_fault party_sex  party_age  \\\n",
       "0  81715.0             1     driver         1    female       35.0   \n",
       "\n",
       "  party_safety_equipment_1   party_safety_equipment_2    cellphone_use_type  \\\n",
       "0         air bag deployed  lap/shoulder harness used  cellphone not in use   \n",
       "\n",
       "  oaf_violation_category  party_number_killed  party_number_injured  \\\n",
       "0                    NaN                    0                     0   \n",
       "\n",
       "  movement_preceding_collision  vehicle_year vehicle_make party_race  \n",
       "0          proceeding straight        2007.0         ford      other  "
      ]
     },
     "execution_count": 13,
     "metadata": {},
     "output_type": "execute_result"
    }
   ],
   "source": [
    "party_df_3.head(1)"
   ]
  },
  {
   "cell_type": "code",
   "execution_count": 36,
   "id": "357f6f20-0fad-4bf7-a9e5-8defa3b025ba",
   "metadata": {
    "tags": []
   },
   "outputs": [
    {
     "data": {
      "text/plain": [
       "array([ 1,  2,  3,  4,  5,  6,  7,  8,  9, 10, 11, 12, 13, 14, 15, 16, 17,\n",
       "       18, 19, 20, 21, 22, 23, 24, 25, 26, 27, 28, 29, 30, 31, 32, 33, 34,\n",
       "       35, 36, 37, 38, 39, 40, 41, 42, 43, 44, 45, 46, 47, 48, 49, 50, 51,\n",
       "       52, 53, 54, 55, 56, 57, 58, 59, 60, 61, 62, 63, 64, 65, 66, 67, 68,\n",
       "       69, 70, 71, 72, 73, 74, 75, 76, 77, 78, 79, 80, 81, 82, 83, 84, 85,\n",
       "       86, 87, 88, 89, 90, 91, 92], dtype=int64)"
      ]
     },
     "execution_count": 36,
     "metadata": {},
     "output_type": "execute_result"
    }
   ],
   "source": [
    "party_df_3['party_number'].unique()"
   ]
  },
  {
   "cell_type": "code",
   "execution_count": 37,
   "id": "c1d24c6e-7ce7-4a8f-873b-408c521fbcc9",
   "metadata": {
    "tags": []
   },
   "outputs": [],
   "source": [
    "#pulling wanted columns\n",
    "party_df_4 = party_df_3[['case_id', 'party_number', 'at_fault', 'party_sex', 'party_age', 'party_safety_equipment_1', 'party_safety_equipment_2', 'cellphone_use_type', 'oaf_violation_category', 'party_number_killed', 'party_number_injured', 'movement_preceding_collision', 'vehicle_year', 'vehicle_make', 'party_race']].copy()\n"
   ]
  },
  {
   "cell_type": "code",
   "execution_count": 39,
   "id": "03da6ded-7520-4b86-b797-e98a717d773e",
   "metadata": {
    "tags": []
   },
   "outputs": [
    {
     "data": {
      "text/html": [
       "<div>\n",
       "<style scoped>\n",
       "    .dataframe tbody tr th:only-of-type {\n",
       "        vertical-align: middle;\n",
       "    }\n",
       "\n",
       "    .dataframe tbody tr th {\n",
       "        vertical-align: top;\n",
       "    }\n",
       "\n",
       "    .dataframe thead th {\n",
       "        text-align: right;\n",
       "    }\n",
       "</style>\n",
       "<table border=\"1\" class=\"dataframe\">\n",
       "  <thead>\n",
       "    <tr style=\"text-align: right;\">\n",
       "      <th></th>\n",
       "      <th>case_id</th>\n",
       "      <th>party_number</th>\n",
       "      <th>at_fault</th>\n",
       "      <th>party_sex</th>\n",
       "      <th>party_age</th>\n",
       "      <th>party_safety_equipment_1</th>\n",
       "      <th>party_safety_equipment_2</th>\n",
       "      <th>cellphone_use_type</th>\n",
       "      <th>oaf_violation_category</th>\n",
       "      <th>party_number_killed</th>\n",
       "      <th>party_number_injured</th>\n",
       "      <th>movement_preceding_collision</th>\n",
       "      <th>vehicle_year</th>\n",
       "      <th>vehicle_make</th>\n",
       "      <th>party_race</th>\n",
       "    </tr>\n",
       "  </thead>\n",
       "  <tbody>\n",
       "    <tr>\n",
       "      <th>0</th>\n",
       "      <td>81715.0</td>\n",
       "      <td>1</td>\n",
       "      <td>1</td>\n",
       "      <td>female</td>\n",
       "      <td>35.0</td>\n",
       "      <td>air bag deployed</td>\n",
       "      <td>lap/shoulder harness used</td>\n",
       "      <td>cellphone not in use</td>\n",
       "      <td>NaN</td>\n",
       "      <td>0</td>\n",
       "      <td>0</td>\n",
       "      <td>proceeding straight</td>\n",
       "      <td>2007.0</td>\n",
       "      <td>ford</td>\n",
       "      <td>other</td>\n",
       "    </tr>\n",
       "  </tbody>\n",
       "</table>\n",
       "</div>"
      ],
      "text/plain": [
       "   case_id  party_number  at_fault party_sex  party_age  \\\n",
       "0  81715.0             1         1    female       35.0   \n",
       "\n",
       "  party_safety_equipment_1   party_safety_equipment_2    cellphone_use_type  \\\n",
       "0         air bag deployed  lap/shoulder harness used  cellphone not in use   \n",
       "\n",
       "  oaf_violation_category  party_number_killed  party_number_injured  \\\n",
       "0                    NaN                    0                     0   \n",
       "\n",
       "  movement_preceding_collision  vehicle_year vehicle_make party_race  \n",
       "0          proceeding straight        2007.0         ford      other  "
      ]
     },
     "execution_count": 39,
     "metadata": {},
     "output_type": "execute_result"
    }
   ],
   "source": [
    "party_df_4.head(1)"
   ]
  },
  {
   "cell_type": "code",
   "execution_count": 42,
   "id": "01dcf08a-ad67-4327-99d7-b88237c267dd",
   "metadata": {
    "tags": []
   },
   "outputs": [
    {
     "name": "stdout",
     "output_type": "stream",
     "text": [
      "DataFrame exported\n"
     ]
    }
   ],
   "source": [
    "#resaving csv version 4\n",
    "party_df_4.to_csv(f\"D:\\Computer Courses\\LHL Data Bootcamp\\LHL Projects\\Midterm Project\\LHL-Midterm-Project\\data\\parties_4.csv\", index=False)\n",
    "print(f\"DataFrame exported\")"
   ]
  },
  {
   "cell_type": "markdown",
   "id": "4844c5af-75b0-472c-a979-7ef0ce97a359",
   "metadata": {},
   "source": [
    "# Cleaning collisions csv"
   ]
  },
  {
   "cell_type": "code",
   "execution_count": 44,
   "id": "b03589c2-7d3c-4117-8e20-f9dc7a4ff674",
   "metadata": {
    "tags": []
   },
   "outputs": [
    {
     "name": "stderr",
     "output_type": "stream",
     "text": [
      "C:\\Users\\mufff\\AppData\\Local\\Temp\\ipykernel_30420\\1416443917.py:2: DtypeWarning: Columns (2,3,11,13,25,26,37,50,58,68,69) have mixed types. Specify dtype option on import or set low_memory=False.\n",
      "  collisions = pd.read_csv(\"D:\\Computer Courses\\LHL Data Bootcamp\\LHL Projects\\Midterm Project\\data csv versions\\collisions.csv\")\n"
     ]
    }
   ],
   "source": [
    "#import original collision csv\n",
    "collisions = pd.read_csv(\"D:\\Computer Courses\\LHL Data Bootcamp\\LHL Projects\\Midterm Project\\data csv versions\\collisions.csv\")"
   ]
  },
  {
   "cell_type": "code",
   "execution_count": 45,
   "id": "f39e252b-9778-4ea4-86ca-badc457ae94e",
   "metadata": {
    "tags": []
   },
   "outputs": [],
   "source": [
    "#create dataframe version 1\n",
    "collisions_df=pd.DataFrame(collisions)"
   ]
  },
  {
   "cell_type": "code",
   "execution_count": 46,
   "id": "fe4f609d-0f5d-406c-9c32-c59944fde254",
   "metadata": {
    "tags": []
   },
   "outputs": [
    {
     "data": {
      "text/plain": [
       "(9424334, 75)"
      ]
     },
     "execution_count": 46,
     "metadata": {},
     "output_type": "execute_result"
    }
   ],
   "source": [
    "collisions_df.shape"
   ]
  },
  {
   "cell_type": "code",
   "execution_count": 47,
   "id": "9f3fb94b-cbfa-4f26-9b9d-334accdc1a7c",
   "metadata": {
    "tags": []
   },
   "outputs": [
    {
     "data": {
      "text/html": [
       "<div>\n",
       "<style scoped>\n",
       "    .dataframe tbody tr th:only-of-type {\n",
       "        vertical-align: middle;\n",
       "    }\n",
       "\n",
       "    .dataframe tbody tr th {\n",
       "        vertical-align: top;\n",
       "    }\n",
       "\n",
       "    .dataframe thead th {\n",
       "        text-align: right;\n",
       "    }\n",
       "</style>\n",
       "<table border=\"1\" class=\"dataframe\">\n",
       "  <thead>\n",
       "    <tr style=\"text-align: right;\">\n",
       "      <th></th>\n",
       "      <th>case_id</th>\n",
       "      <th>jurisdiction</th>\n",
       "      <th>officer_id</th>\n",
       "      <th>reporting_district</th>\n",
       "      <th>chp_shift</th>\n",
       "      <th>population</th>\n",
       "      <th>county_city_location</th>\n",
       "      <th>county_location</th>\n",
       "      <th>special_condition</th>\n",
       "      <th>beat_type</th>\n",
       "      <th>chp_beat_type</th>\n",
       "      <th>city_division_lapd</th>\n",
       "      <th>chp_beat_class</th>\n",
       "      <th>beat_number</th>\n",
       "      <th>primary_road</th>\n",
       "      <th>secondary_road</th>\n",
       "      <th>distance</th>\n",
       "      <th>direction</th>\n",
       "      <th>intersection</th>\n",
       "      <th>weather_1</th>\n",
       "      <th>weather_2</th>\n",
       "      <th>state_highway_indicator</th>\n",
       "      <th>caltrans_county</th>\n",
       "      <th>caltrans_district</th>\n",
       "      <th>state_route</th>\n",
       "      <th>route_suffix</th>\n",
       "      <th>postmile_prefix</th>\n",
       "      <th>postmile</th>\n",
       "      <th>location_type</th>\n",
       "      <th>ramp_intersection</th>\n",
       "      <th>side_of_highway</th>\n",
       "      <th>tow_away</th>\n",
       "      <th>collision_severity</th>\n",
       "      <th>killed_victims</th>\n",
       "      <th>injured_victims</th>\n",
       "      <th>party_count</th>\n",
       "      <th>primary_collision_factor</th>\n",
       "      <th>pcf_violation_code</th>\n",
       "      <th>pcf_violation_category</th>\n",
       "      <th>pcf_violation</th>\n",
       "      <th>pcf_violation_subsection</th>\n",
       "      <th>hit_and_run</th>\n",
       "      <th>type_of_collision</th>\n",
       "      <th>motor_vehicle_involved_with</th>\n",
       "      <th>pedestrian_action</th>\n",
       "      <th>road_surface</th>\n",
       "      <th>road_condition_1</th>\n",
       "      <th>road_condition_2</th>\n",
       "      <th>lighting</th>\n",
       "      <th>control_device</th>\n",
       "      <th>chp_road_type</th>\n",
       "      <th>pedestrian_collision</th>\n",
       "      <th>bicycle_collision</th>\n",
       "      <th>motorcycle_collision</th>\n",
       "      <th>truck_collision</th>\n",
       "      <th>not_private_property</th>\n",
       "      <th>alcohol_involved</th>\n",
       "      <th>statewide_vehicle_type_at_fault</th>\n",
       "      <th>chp_vehicle_type_at_fault</th>\n",
       "      <th>severe_injury_count</th>\n",
       "      <th>other_visible_injury_count</th>\n",
       "      <th>complaint_of_pain_injury_count</th>\n",
       "      <th>pedestrian_killed_count</th>\n",
       "      <th>pedestrian_injured_count</th>\n",
       "      <th>bicyclist_killed_count</th>\n",
       "      <th>bicyclist_injured_count</th>\n",
       "      <th>motorcyclist_killed_count</th>\n",
       "      <th>motorcyclist_injured_count</th>\n",
       "      <th>primary_ramp</th>\n",
       "      <th>secondary_ramp</th>\n",
       "      <th>latitude</th>\n",
       "      <th>longitude</th>\n",
       "      <th>collision_date</th>\n",
       "      <th>collision_time</th>\n",
       "      <th>process_date</th>\n",
       "    </tr>\n",
       "  </thead>\n",
       "  <tbody>\n",
       "    <tr>\n",
       "      <th>0</th>\n",
       "      <td>81715.0</td>\n",
       "      <td>1941.0</td>\n",
       "      <td>11342</td>\n",
       "      <td>212</td>\n",
       "      <td>not chp</td>\n",
       "      <td>&gt;250000</td>\n",
       "      <td>1941</td>\n",
       "      <td>los angeles</td>\n",
       "      <td>0.0</td>\n",
       "      <td>not chp</td>\n",
       "      <td>not chp</td>\n",
       "      <td>NaN</td>\n",
       "      <td>not chp</td>\n",
       "      <td>003</td>\n",
       "      <td>PATTERSON ST</td>\n",
       "      <td>ATLANTIC AV</td>\n",
       "      <td>0.0</td>\n",
       "      <td>NaN</td>\n",
       "      <td>1.0</td>\n",
       "      <td>cloudy</td>\n",
       "      <td>NaN</td>\n",
       "      <td>0.0</td>\n",
       "      <td>NaN</td>\n",
       "      <td>NaN</td>\n",
       "      <td>NaN</td>\n",
       "      <td>NaN</td>\n",
       "      <td>NaN</td>\n",
       "      <td>NaN</td>\n",
       "      <td>NaN</td>\n",
       "      <td>NaN</td>\n",
       "      <td>NaN</td>\n",
       "      <td>1.0</td>\n",
       "      <td>property damage only</td>\n",
       "      <td>0.0</td>\n",
       "      <td>0.0</td>\n",
       "      <td>2.0</td>\n",
       "      <td>vehicle code violation</td>\n",
       "      <td>NaN</td>\n",
       "      <td>speeding</td>\n",
       "      <td>22350.0</td>\n",
       "      <td>NaN</td>\n",
       "      <td>not hit and run</td>\n",
       "      <td>rear end</td>\n",
       "      <td>other motor vehicle</td>\n",
       "      <td>no pedestrian involved</td>\n",
       "      <td>dry</td>\n",
       "      <td>normal</td>\n",
       "      <td>NaN</td>\n",
       "      <td>daylight</td>\n",
       "      <td>none</td>\n",
       "      <td>0</td>\n",
       "      <td>0</td>\n",
       "      <td>0</td>\n",
       "      <td>0</td>\n",
       "      <td>0</td>\n",
       "      <td>1.0</td>\n",
       "      <td>NaN</td>\n",
       "      <td>NaN</td>\n",
       "      <td>NaN</td>\n",
       "      <td>0</td>\n",
       "      <td>0</td>\n",
       "      <td>0</td>\n",
       "      <td>0</td>\n",
       "      <td>0</td>\n",
       "      <td>0</td>\n",
       "      <td>0</td>\n",
       "      <td>0</td>\n",
       "      <td>0.0</td>\n",
       "      <td>NaN</td>\n",
       "      <td>NaN</td>\n",
       "      <td>NaN</td>\n",
       "      <td>NaN</td>\n",
       "      <td>2020-03-14</td>\n",
       "      <td>07:45:00</td>\n",
       "      <td>2020-06-22</td>\n",
       "    </tr>\n",
       "  </tbody>\n",
       "</table>\n",
       "</div>"
      ],
      "text/plain": [
       "   case_id  jurisdiction officer_id reporting_district chp_shift population  \\\n",
       "0  81715.0        1941.0      11342                212   not chp    >250000   \n",
       "\n",
       "   county_city_location county_location  special_condition beat_type  \\\n",
       "0                  1941     los angeles                0.0   not chp   \n",
       "\n",
       "  chp_beat_type city_division_lapd chp_beat_class beat_number  primary_road  \\\n",
       "0       not chp                NaN        not chp         003  PATTERSON ST   \n",
       "\n",
       "  secondary_road  distance direction  intersection weather_1 weather_2  \\\n",
       "0    ATLANTIC AV       0.0       NaN           1.0    cloudy       NaN   \n",
       "\n",
       "   state_highway_indicator caltrans_county  caltrans_district  state_route  \\\n",
       "0                      0.0             NaN                NaN          NaN   \n",
       "\n",
       "  route_suffix postmile_prefix  postmile location_type ramp_intersection  \\\n",
       "0          NaN             NaN       NaN           NaN               NaN   \n",
       "\n",
       "  side_of_highway  tow_away    collision_severity  killed_victims  \\\n",
       "0             NaN       1.0  property damage only             0.0   \n",
       "\n",
       "   injured_victims  party_count primary_collision_factor pcf_violation_code  \\\n",
       "0              0.0          2.0   vehicle code violation                NaN   \n",
       "\n",
       "  pcf_violation_category  pcf_violation pcf_violation_subsection  \\\n",
       "0               speeding        22350.0                      NaN   \n",
       "\n",
       "       hit_and_run type_of_collision motor_vehicle_involved_with  \\\n",
       "0  not hit and run          rear end         other motor vehicle   \n",
       "\n",
       "        pedestrian_action road_surface road_condition_1 road_condition_2  \\\n",
       "0  no pedestrian involved          dry           normal              NaN   \n",
       "\n",
       "   lighting control_device chp_road_type  pedestrian_collision  \\\n",
       "0  daylight           none             0                     0   \n",
       "\n",
       "   bicycle_collision  motorcycle_collision  truck_collision  \\\n",
       "0                  0                     0                0   \n",
       "\n",
       "   not_private_property  alcohol_involved statewide_vehicle_type_at_fault  \\\n",
       "0                   1.0               NaN                             NaN   \n",
       "\n",
       "  chp_vehicle_type_at_fault  severe_injury_count  other_visible_injury_count  \\\n",
       "0                       NaN                    0                           0   \n",
       "\n",
       "   complaint_of_pain_injury_count  pedestrian_killed_count  \\\n",
       "0                               0                        0   \n",
       "\n",
       "   pedestrian_injured_count  bicyclist_killed_count  bicyclist_injured_count  \\\n",
       "0                         0                       0                        0   \n",
       "\n",
       "   motorcyclist_killed_count  motorcyclist_injured_count primary_ramp  \\\n",
       "0                          0                         0.0          NaN   \n",
       "\n",
       "  secondary_ramp  latitude  longitude collision_date collision_time  \\\n",
       "0            NaN       NaN        NaN     2020-03-14       07:45:00   \n",
       "\n",
       "  process_date  \n",
       "0   2020-06-22  "
      ]
     },
     "execution_count": 47,
     "metadata": {},
     "output_type": "execute_result"
    }
   ],
   "source": [
    "collisions_df.head(1)"
   ]
  },
  {
   "cell_type": "code",
   "execution_count": 48,
   "id": "df49692b-1123-4961-b709-7d08cad7a57e",
   "metadata": {
    "collapsed": true,
    "jupyter": {
     "outputs_hidden": true
    },
    "tags": []
   },
   "outputs": [
    {
     "name": "stdout",
     "output_type": "stream",
     "text": [
      "Index(['case_id', 'jurisdiction', 'officer_id', 'reporting_district',\n",
      "       'chp_shift', 'population', 'county_city_location', 'county_location',\n",
      "       'special_condition', 'beat_type', 'chp_beat_type', 'city_division_lapd',\n",
      "       'chp_beat_class', 'beat_number', 'primary_road', 'secondary_road',\n",
      "       'distance', 'direction', 'intersection', 'weather_1', 'weather_2',\n",
      "       'state_highway_indicator', 'caltrans_county', 'caltrans_district',\n",
      "       'state_route', 'route_suffix', 'postmile_prefix', 'postmile',\n",
      "       'location_type', 'ramp_intersection', 'side_of_highway', 'tow_away',\n",
      "       'collision_severity', 'killed_victims', 'injured_victims',\n",
      "       'party_count', 'primary_collision_factor', 'pcf_violation_code',\n",
      "       'pcf_violation_category', 'pcf_violation', 'pcf_violation_subsection',\n",
      "       'hit_and_run', 'type_of_collision', 'motor_vehicle_involved_with',\n",
      "       'pedestrian_action', 'road_surface', 'road_condition_1',\n",
      "       'road_condition_2', 'lighting', 'control_device', 'chp_road_type',\n",
      "       'pedestrian_collision', 'bicycle_collision', 'motorcycle_collision',\n",
      "       'truck_collision', 'not_private_property', 'alcohol_involved',\n",
      "       'statewide_vehicle_type_at_fault', 'chp_vehicle_type_at_fault',\n",
      "       'severe_injury_count', 'other_visible_injury_count',\n",
      "       'complaint_of_pain_injury_count', 'pedestrian_killed_count',\n",
      "       'pedestrian_injured_count', 'bicyclist_killed_count',\n",
      "       'bicyclist_injured_count', 'motorcyclist_killed_count',\n",
      "       'motorcyclist_injured_count', 'primary_ramp', 'secondary_ramp',\n",
      "       'latitude', 'longitude', 'collision_date', 'collision_time',\n",
      "       'process_date'],\n",
      "      dtype='object')\n"
     ]
    }
   ],
   "source": [
    "#column headers\n",
    "print(collisions_df.columns)"
   ]
  },
  {
   "cell_type": "code",
   "execution_count": 49,
   "id": "4db6c381-d9c5-4a88-8249-3777a5b1d0c7",
   "metadata": {
    "tags": []
   },
   "outputs": [
    {
     "data": {
      "text/plain": [
       "array([nan,  1.,  0.])"
      ]
     },
     "execution_count": 49,
     "metadata": {},
     "output_type": "execute_result"
    }
   ],
   "source": [
    "#checking unique values in columns\n",
    "collisions_df['alcohol_involved'].unique()"
   ]
  },
  {
   "cell_type": "code",
   "execution_count": 50,
   "id": "c8c81d80-5282-4a0e-823d-8519eb0968a1",
   "metadata": {
    "tags": []
   },
   "outputs": [],
   "source": [
    "#create new df using specific columns\n",
    "collisions_df2=collisions_df[['case_id', 'population', 'county_location', 'primary_road', 'secondary_road', 'intersection', 'weather_1', 'weather_2', 'caltrans_district', 'state_route', 'route_suffix', 'location_type', 'collision_severity', 'killed_victims', 'injured_victims','party_count', 'primary_collision_factor','pcf_violation_category','hit_and_run', 'type_of_collision', 'motor_vehicle_involved_with','pedestrian_action', 'road_surface', 'road_condition_1','road_condition_2', 'lighting', 'alcohol_involved', 'chp_vehicle_type_at_fault', 'pedestrian_killed_count','pedestrian_injured_count', 'bicyclist_killed_count','bicyclist_injured_count', 'motorcyclist_killed_count', 'motorcyclist_injured_count','latitude', 'longitude', 'collision_date', 'collision_time','process_date']].copy()\n"
   ]
  },
  {
   "cell_type": "code",
   "execution_count": 51,
   "id": "e5fdd9fd-e7c4-4570-93f1-14a511e46a3a",
   "metadata": {
    "tags": []
   },
   "outputs": [
    {
     "data": {
      "text/html": [
       "<div>\n",
       "<style scoped>\n",
       "    .dataframe tbody tr th:only-of-type {\n",
       "        vertical-align: middle;\n",
       "    }\n",
       "\n",
       "    .dataframe tbody tr th {\n",
       "        vertical-align: top;\n",
       "    }\n",
       "\n",
       "    .dataframe thead th {\n",
       "        text-align: right;\n",
       "    }\n",
       "</style>\n",
       "<table border=\"1\" class=\"dataframe\">\n",
       "  <thead>\n",
       "    <tr style=\"text-align: right;\">\n",
       "      <th></th>\n",
       "      <th>case_id</th>\n",
       "      <th>population</th>\n",
       "      <th>county_location</th>\n",
       "      <th>primary_road</th>\n",
       "      <th>secondary_road</th>\n",
       "      <th>intersection</th>\n",
       "      <th>weather_1</th>\n",
       "      <th>weather_2</th>\n",
       "      <th>caltrans_district</th>\n",
       "      <th>state_route</th>\n",
       "      <th>route_suffix</th>\n",
       "      <th>location_type</th>\n",
       "      <th>collision_severity</th>\n",
       "      <th>killed_victims</th>\n",
       "      <th>injured_victims</th>\n",
       "      <th>party_count</th>\n",
       "      <th>primary_collision_factor</th>\n",
       "      <th>pcf_violation_category</th>\n",
       "      <th>hit_and_run</th>\n",
       "      <th>type_of_collision</th>\n",
       "      <th>motor_vehicle_involved_with</th>\n",
       "      <th>pedestrian_action</th>\n",
       "      <th>road_surface</th>\n",
       "      <th>road_condition_1</th>\n",
       "      <th>road_condition_2</th>\n",
       "      <th>lighting</th>\n",
       "      <th>alcohol_involved</th>\n",
       "      <th>chp_vehicle_type_at_fault</th>\n",
       "      <th>pedestrian_killed_count</th>\n",
       "      <th>pedestrian_injured_count</th>\n",
       "      <th>bicyclist_killed_count</th>\n",
       "      <th>bicyclist_injured_count</th>\n",
       "      <th>motorcyclist_killed_count</th>\n",
       "      <th>motorcyclist_injured_count</th>\n",
       "      <th>latitude</th>\n",
       "      <th>longitude</th>\n",
       "      <th>collision_date</th>\n",
       "      <th>collision_time</th>\n",
       "      <th>process_date</th>\n",
       "    </tr>\n",
       "  </thead>\n",
       "  <tbody>\n",
       "    <tr>\n",
       "      <th>0</th>\n",
       "      <td>81715.0</td>\n",
       "      <td>&gt;250000</td>\n",
       "      <td>los angeles</td>\n",
       "      <td>PATTERSON ST</td>\n",
       "      <td>ATLANTIC AV</td>\n",
       "      <td>1.0</td>\n",
       "      <td>cloudy</td>\n",
       "      <td>NaN</td>\n",
       "      <td>NaN</td>\n",
       "      <td>NaN</td>\n",
       "      <td>NaN</td>\n",
       "      <td>NaN</td>\n",
       "      <td>property damage only</td>\n",
       "      <td>0.0</td>\n",
       "      <td>0.0</td>\n",
       "      <td>2.0</td>\n",
       "      <td>vehicle code violation</td>\n",
       "      <td>speeding</td>\n",
       "      <td>not hit and run</td>\n",
       "      <td>rear end</td>\n",
       "      <td>other motor vehicle</td>\n",
       "      <td>no pedestrian involved</td>\n",
       "      <td>dry</td>\n",
       "      <td>normal</td>\n",
       "      <td>NaN</td>\n",
       "      <td>daylight</td>\n",
       "      <td>NaN</td>\n",
       "      <td>NaN</td>\n",
       "      <td>0</td>\n",
       "      <td>0</td>\n",
       "      <td>0</td>\n",
       "      <td>0</td>\n",
       "      <td>0</td>\n",
       "      <td>0.0</td>\n",
       "      <td>NaN</td>\n",
       "      <td>NaN</td>\n",
       "      <td>2020-03-14</td>\n",
       "      <td>07:45:00</td>\n",
       "      <td>2020-06-22</td>\n",
       "    </tr>\n",
       "  </tbody>\n",
       "</table>\n",
       "</div>"
      ],
      "text/plain": [
       "   case_id population county_location  primary_road secondary_road  \\\n",
       "0  81715.0    >250000     los angeles  PATTERSON ST    ATLANTIC AV   \n",
       "\n",
       "   intersection weather_1 weather_2  caltrans_district  state_route  \\\n",
       "0           1.0    cloudy       NaN                NaN          NaN   \n",
       "\n",
       "  route_suffix location_type    collision_severity  killed_victims  \\\n",
       "0          NaN           NaN  property damage only             0.0   \n",
       "\n",
       "   injured_victims  party_count primary_collision_factor  \\\n",
       "0              0.0          2.0   vehicle code violation   \n",
       "\n",
       "  pcf_violation_category      hit_and_run type_of_collision  \\\n",
       "0               speeding  not hit and run          rear end   \n",
       "\n",
       "  motor_vehicle_involved_with       pedestrian_action road_surface  \\\n",
       "0         other motor vehicle  no pedestrian involved          dry   \n",
       "\n",
       "  road_condition_1 road_condition_2  lighting  alcohol_involved  \\\n",
       "0           normal              NaN  daylight               NaN   \n",
       "\n",
       "  chp_vehicle_type_at_fault  pedestrian_killed_count  \\\n",
       "0                       NaN                        0   \n",
       "\n",
       "   pedestrian_injured_count  bicyclist_killed_count  bicyclist_injured_count  \\\n",
       "0                         0                       0                        0   \n",
       "\n",
       "   motorcyclist_killed_count  motorcyclist_injured_count  latitude  longitude  \\\n",
       "0                          0                         0.0       NaN        NaN   \n",
       "\n",
       "  collision_date collision_time process_date  \n",
       "0     2020-03-14       07:45:00   2020-06-22  "
      ]
     },
     "execution_count": 51,
     "metadata": {},
     "output_type": "execute_result"
    }
   ],
   "source": [
    "collisions_df2.head(1)"
   ]
  },
  {
   "cell_type": "code",
   "execution_count": 52,
   "id": "d29747c8-e84f-4958-afd3-e4db4085df40",
   "metadata": {},
   "outputs": [
    {
     "data": {
      "text/plain": [
       "(9424334, 39)"
      ]
     },
     "execution_count": 52,
     "metadata": {},
     "output_type": "execute_result"
    }
   ],
   "source": [
    "collisions_df2.shape"
   ]
  },
  {
   "cell_type": "code",
   "execution_count": 279,
   "id": "869cf679-7aa6-4bc8-b316-dfcaac0a1bd3",
   "metadata": {
    "tags": []
   },
   "outputs": [
    {
     "name": "stdout",
     "output_type": "stream",
     "text": [
      "DataFrame exported\n"
     ]
    }
   ],
   "source": [
    "#resaving csv version 2\n",
    "collisions_df2.to_csv(f\"D:\\Computer Courses\\LHL Data Bootcamp\\LHL Projects\\Midterm Project\\collisions_df2.csv\", index=False)\n",
    "print(f\"DataFrame exported\")"
   ]
  },
  {
   "cell_type": "code",
   "execution_count": 351,
   "id": "8a791728-fc99-455e-9251-483033dc808f",
   "metadata": {
    "tags": []
   },
   "outputs": [],
   "source": [
    "#these files are so big, need to delete dataframe alone the way for memory\n",
    "del collisions_df"
   ]
  },
  {
   "cell_type": "code",
   "execution_count": 188,
   "id": "f24414c6-e5c2-4f5a-bcc1-b9f8f4625b24",
   "metadata": {
    "tags": []
   },
   "outputs": [],
   "source": [
    "#creating column to contain info from these 4 columns\n",
    "for index, row in collisions_df2.iterrows():\n",
    "    if row['pedestrian_collision'] == 1:\n",
    "        collisions_df2.at[index, 'collision_type'] = 'pedestrian'\n",
    "    elif row['bicycle_collision'] == 1:\n",
    "        collisions_df2.at[index, 'collision_type'] = 'bicycle'\n",
    "    elif row['motorcycle_collision'] == 1:\n",
    "        collisions_df2.at[index, 'collision_type'] = 'motorcycle'\n",
    "    elif row['truck_collision'] == 1:\n",
    "        collisions_df2.at[index, 'collision_type'] = 'truck'"
   ]
  },
  {
   "cell_type": "code",
   "execution_count": 59,
   "id": "42904bd8-09f1-4a7d-84ae-c2fbcbf8699e",
   "metadata": {
    "tags": []
   },
   "outputs": [],
   "source": [
    "#creating new df with specific columns\n",
    "collisions_df3=collisions_df2[['case_id', 'county_location', 'intersection', 'weather_1', 'weather_2', 'state_route', 'route_suffix', 'location_type', 'killed_victims', 'injured_victims','party_count', 'primary_collision_factor','pcf_violation_category','hit_and_run', 'type_of_collision', 'motor_vehicle_involved_with','pedestrian_action', 'road_surface', 'road_condition_1','road_condition_2', 'lighting', 'alcohol_involved', 'chp_vehicle_type_at_fault', 'pedestrian_killed_count','pedestrian_injured_count', 'bicyclist_killed_count','bicyclist_injured_count', 'motorcyclist_killed_count', 'motorcyclist_injured_count','latitude', 'longitude', 'collision_date', 'collision_time']].copy()\n"
   ]
  },
  {
   "cell_type": "code",
   "execution_count": 60,
   "id": "0ea770d2-e83f-4692-a67c-96663987c44b",
   "metadata": {
    "tags": []
   },
   "outputs": [
    {
     "data": {
      "text/plain": [
       "(9424334, 33)"
      ]
     },
     "execution_count": 60,
     "metadata": {},
     "output_type": "execute_result"
    }
   ],
   "source": [
    "collisions_df3.shape"
   ]
  },
  {
   "cell_type": "code",
   "execution_count": 61,
   "id": "236d47d3-c98e-4671-a23d-878093d9d9aa",
   "metadata": {
    "tags": []
   },
   "outputs": [
    {
     "data": {
      "text/html": [
       "<div>\n",
       "<style scoped>\n",
       "    .dataframe tbody tr th:only-of-type {\n",
       "        vertical-align: middle;\n",
       "    }\n",
       "\n",
       "    .dataframe tbody tr th {\n",
       "        vertical-align: top;\n",
       "    }\n",
       "\n",
       "    .dataframe thead th {\n",
       "        text-align: right;\n",
       "    }\n",
       "</style>\n",
       "<table border=\"1\" class=\"dataframe\">\n",
       "  <thead>\n",
       "    <tr style=\"text-align: right;\">\n",
       "      <th></th>\n",
       "      <th>case_id</th>\n",
       "      <th>county_location</th>\n",
       "      <th>intersection</th>\n",
       "      <th>weather_1</th>\n",
       "      <th>weather_2</th>\n",
       "      <th>state_route</th>\n",
       "      <th>route_suffix</th>\n",
       "      <th>location_type</th>\n",
       "      <th>killed_victims</th>\n",
       "      <th>injured_victims</th>\n",
       "      <th>party_count</th>\n",
       "      <th>primary_collision_factor</th>\n",
       "      <th>pcf_violation_category</th>\n",
       "      <th>hit_and_run</th>\n",
       "      <th>type_of_collision</th>\n",
       "      <th>motor_vehicle_involved_with</th>\n",
       "      <th>pedestrian_action</th>\n",
       "      <th>road_surface</th>\n",
       "      <th>road_condition_1</th>\n",
       "      <th>road_condition_2</th>\n",
       "      <th>lighting</th>\n",
       "      <th>alcohol_involved</th>\n",
       "      <th>chp_vehicle_type_at_fault</th>\n",
       "      <th>pedestrian_killed_count</th>\n",
       "      <th>pedestrian_injured_count</th>\n",
       "      <th>bicyclist_killed_count</th>\n",
       "      <th>bicyclist_injured_count</th>\n",
       "      <th>motorcyclist_killed_count</th>\n",
       "      <th>motorcyclist_injured_count</th>\n",
       "      <th>latitude</th>\n",
       "      <th>longitude</th>\n",
       "      <th>collision_date</th>\n",
       "      <th>collision_time</th>\n",
       "    </tr>\n",
       "  </thead>\n",
       "  <tbody>\n",
       "    <tr>\n",
       "      <th>0</th>\n",
       "      <td>81715.0</td>\n",
       "      <td>los angeles</td>\n",
       "      <td>1.0</td>\n",
       "      <td>cloudy</td>\n",
       "      <td>NaN</td>\n",
       "      <td>NaN</td>\n",
       "      <td>NaN</td>\n",
       "      <td>NaN</td>\n",
       "      <td>0.0</td>\n",
       "      <td>0.0</td>\n",
       "      <td>2.0</td>\n",
       "      <td>vehicle code violation</td>\n",
       "      <td>speeding</td>\n",
       "      <td>not hit and run</td>\n",
       "      <td>rear end</td>\n",
       "      <td>other motor vehicle</td>\n",
       "      <td>no pedestrian involved</td>\n",
       "      <td>dry</td>\n",
       "      <td>normal</td>\n",
       "      <td>NaN</td>\n",
       "      <td>daylight</td>\n",
       "      <td>NaN</td>\n",
       "      <td>NaN</td>\n",
       "      <td>0</td>\n",
       "      <td>0</td>\n",
       "      <td>0</td>\n",
       "      <td>0</td>\n",
       "      <td>0</td>\n",
       "      <td>0.0</td>\n",
       "      <td>NaN</td>\n",
       "      <td>NaN</td>\n",
       "      <td>2020-03-14</td>\n",
       "      <td>07:45:00</td>\n",
       "    </tr>\n",
       "  </tbody>\n",
       "</table>\n",
       "</div>"
      ],
      "text/plain": [
       "   case_id county_location  intersection weather_1 weather_2  state_route  \\\n",
       "0  81715.0     los angeles           1.0    cloudy       NaN          NaN   \n",
       "\n",
       "  route_suffix location_type  killed_victims  injured_victims  party_count  \\\n",
       "0          NaN           NaN             0.0              0.0          2.0   \n",
       "\n",
       "  primary_collision_factor pcf_violation_category      hit_and_run  \\\n",
       "0   vehicle code violation               speeding  not hit and run   \n",
       "\n",
       "  type_of_collision motor_vehicle_involved_with       pedestrian_action  \\\n",
       "0          rear end         other motor vehicle  no pedestrian involved   \n",
       "\n",
       "  road_surface road_condition_1 road_condition_2  lighting  alcohol_involved  \\\n",
       "0          dry           normal              NaN  daylight               NaN   \n",
       "\n",
       "  chp_vehicle_type_at_fault  pedestrian_killed_count  \\\n",
       "0                       NaN                        0   \n",
       "\n",
       "   pedestrian_injured_count  bicyclist_killed_count  bicyclist_injured_count  \\\n",
       "0                         0                       0                        0   \n",
       "\n",
       "   motorcyclist_killed_count  motorcyclist_injured_count  latitude  longitude  \\\n",
       "0                          0                         0.0       NaN        NaN   \n",
       "\n",
       "  collision_date collision_time  \n",
       "0     2020-03-14       07:45:00  "
      ]
     },
     "execution_count": 61,
     "metadata": {},
     "output_type": "execute_result"
    }
   ],
   "source": [
    "collisions_df3.head(1)"
   ]
  },
  {
   "cell_type": "code",
   "execution_count": 10,
   "id": "24040bc3-c390-405d-86ac-8f7ecada89d4",
   "metadata": {
    "tags": []
   },
   "outputs": [],
   "source": [
    "#comparing to party df to see if we can get rid of some more columns"
   ]
  },
  {
   "cell_type": "code",
   "execution_count": 64,
   "id": "f81c4de3-e11e-4a63-afae-d8de5687f379",
   "metadata": {
    "tags": []
   },
   "outputs": [
    {
     "data": {
      "text/html": [
       "<div>\n",
       "<style scoped>\n",
       "    .dataframe tbody tr th:only-of-type {\n",
       "        vertical-align: middle;\n",
       "    }\n",
       "\n",
       "    .dataframe tbody tr th {\n",
       "        vertical-align: top;\n",
       "    }\n",
       "\n",
       "    .dataframe thead th {\n",
       "        text-align: right;\n",
       "    }\n",
       "</style>\n",
       "<table border=\"1\" class=\"dataframe\">\n",
       "  <thead>\n",
       "    <tr style=\"text-align: right;\">\n",
       "      <th></th>\n",
       "      <th>case_id</th>\n",
       "      <th>party_number</th>\n",
       "      <th>at_fault</th>\n",
       "      <th>party_sex</th>\n",
       "      <th>party_age</th>\n",
       "      <th>party_safety_equipment_1</th>\n",
       "      <th>party_safety_equipment_2</th>\n",
       "      <th>cellphone_use_type</th>\n",
       "      <th>oaf_violation_category</th>\n",
       "      <th>party_number_killed</th>\n",
       "      <th>party_number_injured</th>\n",
       "      <th>movement_preceding_collision</th>\n",
       "      <th>vehicle_year</th>\n",
       "      <th>vehicle_make</th>\n",
       "      <th>party_race</th>\n",
       "    </tr>\n",
       "  </thead>\n",
       "  <tbody>\n",
       "    <tr>\n",
       "      <th>0</th>\n",
       "      <td>81715.0</td>\n",
       "      <td>1</td>\n",
       "      <td>1</td>\n",
       "      <td>female</td>\n",
       "      <td>35.0</td>\n",
       "      <td>air bag deployed</td>\n",
       "      <td>lap/shoulder harness used</td>\n",
       "      <td>cellphone not in use</td>\n",
       "      <td>NaN</td>\n",
       "      <td>0</td>\n",
       "      <td>0</td>\n",
       "      <td>proceeding straight</td>\n",
       "      <td>2007.0</td>\n",
       "      <td>ford</td>\n",
       "      <td>other</td>\n",
       "    </tr>\n",
       "    <tr>\n",
       "      <th>1</th>\n",
       "      <td>81715.0</td>\n",
       "      <td>2</td>\n",
       "      <td>0</td>\n",
       "      <td>female</td>\n",
       "      <td>43.0</td>\n",
       "      <td>air bag not deployed</td>\n",
       "      <td>lap/shoulder harness used</td>\n",
       "      <td>cellphone not in use</td>\n",
       "      <td>NaN</td>\n",
       "      <td>0</td>\n",
       "      <td>0</td>\n",
       "      <td>proceeding straight</td>\n",
       "      <td>2019.0</td>\n",
       "      <td>NaN</td>\n",
       "      <td>hispanic</td>\n",
       "    </tr>\n",
       "  </tbody>\n",
       "</table>\n",
       "</div>"
      ],
      "text/plain": [
       "   case_id  party_number  at_fault party_sex  party_age  \\\n",
       "0  81715.0             1         1    female       35.0   \n",
       "1  81715.0             2         0    female       43.0   \n",
       "\n",
       "  party_safety_equipment_1   party_safety_equipment_2    cellphone_use_type  \\\n",
       "0         air bag deployed  lap/shoulder harness used  cellphone not in use   \n",
       "1     air bag not deployed  lap/shoulder harness used  cellphone not in use   \n",
       "\n",
       "  oaf_violation_category  party_number_killed  party_number_injured  \\\n",
       "0                    NaN                    0                     0   \n",
       "1                    NaN                    0                     0   \n",
       "\n",
       "  movement_preceding_collision  vehicle_year vehicle_make party_race  \n",
       "0          proceeding straight        2007.0         ford      other  \n",
       "1          proceeding straight        2019.0          NaN   hispanic  "
      ]
     },
     "execution_count": 64,
     "metadata": {},
     "output_type": "execute_result"
    }
   ],
   "source": [
    "party_df_4.head(2)"
   ]
  },
  {
   "cell_type": "code",
   "execution_count": 65,
   "id": "ca74e9ea-375c-4501-90a2-5ccc6d4e7650",
   "metadata": {
    "tags": []
   },
   "outputs": [
    {
     "data": {
      "text/plain": [
       "array(['lap/shoulder harness used', nan, 'unknown', 'lap belt used',\n",
       "       'driver, motorcycle helmet used', 'lap/shoulder harness not used',\n",
       "       'air bag not deployed', 'not required', 'air bag deployed',\n",
       "       'other', 'shoulder harness used', 'none in vehicle',\n",
       "       'lap belt not used', 'passive restraint not used',\n",
       "       'driver, motorcycle helmet not used', 'shoulder harness not used',\n",
       "       'child restraint in vehicle, use unknown',\n",
       "       'passive restraint used', 'passenger, motorcycle helmet used',\n",
       "       'no child restraint in vehicle',\n",
       "       'child restraint in vehicle not used',\n",
       "       'child restraint in vehicle used',\n",
       "       'child restraint in vehicle, improper use',\n",
       "       'passenger, motorcycle helmet not used'], dtype=object)"
      ]
     },
     "execution_count": 65,
     "metadata": {},
     "output_type": "execute_result"
    }
   ],
   "source": [
    "#checking values in columns\n",
    "party_df_4['party_safety_equipment_2'].unique()"
   ]
  },
  {
   "cell_type": "code",
   "execution_count": 62,
   "id": "b38c8354-3807-45d2-bcb8-dfc5de145789",
   "metadata": {
    "tags": []
   },
   "outputs": [
    {
     "data": {
      "text/plain": [
       "array([nan,  1.,  0.])"
      ]
     },
     "execution_count": 62,
     "metadata": {},
     "output_type": "execute_result"
    }
   ],
   "source": [
    "collisions_df3['alcohol_involved'].unique()"
   ]
  },
  {
   "cell_type": "code",
   "execution_count": 66,
   "id": "6e93fb93-13fc-4a74-ad8c-96f0c004eb9b",
   "metadata": {
    "tags": []
   },
   "outputs": [
    {
     "data": {
      "text/html": [
       "<div>\n",
       "<style scoped>\n",
       "    .dataframe tbody tr th:only-of-type {\n",
       "        vertical-align: middle;\n",
       "    }\n",
       "\n",
       "    .dataframe tbody tr th {\n",
       "        vertical-align: top;\n",
       "    }\n",
       "\n",
       "    .dataframe thead th {\n",
       "        text-align: right;\n",
       "    }\n",
       "</style>\n",
       "<table border=\"1\" class=\"dataframe\">\n",
       "  <thead>\n",
       "    <tr style=\"text-align: right;\">\n",
       "      <th></th>\n",
       "      <th>case_id</th>\n",
       "      <th>party_number</th>\n",
       "      <th>at_fault</th>\n",
       "      <th>party_sex</th>\n",
       "      <th>party_age</th>\n",
       "      <th>party_safety_equipment_1</th>\n",
       "      <th>party_safety_equipment_2</th>\n",
       "      <th>cellphone_use_type</th>\n",
       "      <th>oaf_violation_category</th>\n",
       "      <th>party_number_killed</th>\n",
       "      <th>party_number_injured</th>\n",
       "      <th>movement_preceding_collision</th>\n",
       "      <th>vehicle_year</th>\n",
       "      <th>vehicle_make</th>\n",
       "      <th>party_race</th>\n",
       "    </tr>\n",
       "  </thead>\n",
       "  <tbody>\n",
       "    <tr>\n",
       "      <th>256</th>\n",
       "      <td>3984218.0</td>\n",
       "      <td>1</td>\n",
       "      <td>1</td>\n",
       "      <td>male</td>\n",
       "      <td>23.0</td>\n",
       "      <td>NaN</td>\n",
       "      <td>NaN</td>\n",
       "      <td>cellphone not in use</td>\n",
       "      <td>driving or bicycling under the influence of al...</td>\n",
       "      <td>1</td>\n",
       "      <td>0</td>\n",
       "      <td>proceeding straight</td>\n",
       "      <td>2005.0</td>\n",
       "      <td>ford</td>\n",
       "      <td>black</td>\n",
       "    </tr>\n",
       "    <tr>\n",
       "      <th>257</th>\n",
       "      <td>3984219.0</td>\n",
       "      <td>1</td>\n",
       "      <td>1</td>\n",
       "      <td>male</td>\n",
       "      <td>19.0</td>\n",
       "      <td>air bag deployed</td>\n",
       "      <td>lap/shoulder harness used</td>\n",
       "      <td>NaN</td>\n",
       "      <td>NaN</td>\n",
       "      <td>1</td>\n",
       "      <td>0</td>\n",
       "      <td>proceeding straight</td>\n",
       "      <td>2004.0</td>\n",
       "      <td>toyota</td>\n",
       "      <td>hispanic</td>\n",
       "    </tr>\n",
       "    <tr>\n",
       "      <th>258</th>\n",
       "      <td>3984244.0</td>\n",
       "      <td>1</td>\n",
       "      <td>1</td>\n",
       "      <td>female</td>\n",
       "      <td>35.0</td>\n",
       "      <td>air bag not deployed</td>\n",
       "      <td>lap/shoulder harness used</td>\n",
       "      <td>cellphone not in use</td>\n",
       "      <td>improper turning</td>\n",
       "      <td>1</td>\n",
       "      <td>1</td>\n",
       "      <td>other</td>\n",
       "      <td>1991.0</td>\n",
       "      <td>honda</td>\n",
       "      <td>hispanic</td>\n",
       "    </tr>\n",
       "    <tr>\n",
       "      <th>260</th>\n",
       "      <td>3984245.0</td>\n",
       "      <td>2</td>\n",
       "      <td>0</td>\n",
       "      <td>female</td>\n",
       "      <td>74.0</td>\n",
       "      <td>NaN</td>\n",
       "      <td>NaN</td>\n",
       "      <td>NaN</td>\n",
       "      <td>NaN</td>\n",
       "      <td>1</td>\n",
       "      <td>0</td>\n",
       "      <td>proceeding straight</td>\n",
       "      <td>NaN</td>\n",
       "      <td>NaN</td>\n",
       "      <td>asian</td>\n",
       "    </tr>\n",
       "    <tr>\n",
       "      <th>261</th>\n",
       "      <td>3984246.0</td>\n",
       "      <td>1</td>\n",
       "      <td>1</td>\n",
       "      <td>male</td>\n",
       "      <td>28.0</td>\n",
       "      <td>not required</td>\n",
       "      <td>driver, motorcycle helmet used</td>\n",
       "      <td>cellphone not in use</td>\n",
       "      <td>NaN</td>\n",
       "      <td>1</td>\n",
       "      <td>0</td>\n",
       "      <td>proceeding straight</td>\n",
       "      <td>2005.0</td>\n",
       "      <td>suzuki</td>\n",
       "      <td>other</td>\n",
       "    </tr>\n",
       "    <tr>\n",
       "      <th>...</th>\n",
       "      <td>...</td>\n",
       "      <td>...</td>\n",
       "      <td>...</td>\n",
       "      <td>...</td>\n",
       "      <td>...</td>\n",
       "      <td>...</td>\n",
       "      <td>...</td>\n",
       "      <td>...</td>\n",
       "      <td>...</td>\n",
       "      <td>...</td>\n",
       "      <td>...</td>\n",
       "      <td>...</td>\n",
       "      <td>...</td>\n",
       "      <td>...</td>\n",
       "      <td>...</td>\n",
       "    </tr>\n",
       "    <tr>\n",
       "      <th>18669102</th>\n",
       "      <td>90275406.0</td>\n",
       "      <td>1</td>\n",
       "      <td>0</td>\n",
       "      <td>male</td>\n",
       "      <td>82.0</td>\n",
       "      <td>air bag deployed</td>\n",
       "      <td>lap/shoulder harness used</td>\n",
       "      <td>cellphone not in use</td>\n",
       "      <td>NaN</td>\n",
       "      <td>1</td>\n",
       "      <td>0</td>\n",
       "      <td>proceeding straight</td>\n",
       "      <td>2015.0</td>\n",
       "      <td>ford</td>\n",
       "      <td>white</td>\n",
       "    </tr>\n",
       "    <tr>\n",
       "      <th>18669103</th>\n",
       "      <td>90298443.0</td>\n",
       "      <td>1</td>\n",
       "      <td>1</td>\n",
       "      <td>male</td>\n",
       "      <td>58.0</td>\n",
       "      <td>NaN</td>\n",
       "      <td>NaN</td>\n",
       "      <td>cellphone not in use</td>\n",
       "      <td>NaN</td>\n",
       "      <td>1</td>\n",
       "      <td>0</td>\n",
       "      <td>NaN</td>\n",
       "      <td>NaN</td>\n",
       "      <td>NaN</td>\n",
       "      <td>white</td>\n",
       "    </tr>\n",
       "    <tr>\n",
       "      <th>18669105</th>\n",
       "      <td>90309377.0</td>\n",
       "      <td>1</td>\n",
       "      <td>1</td>\n",
       "      <td>male</td>\n",
       "      <td>43.0</td>\n",
       "      <td>NaN</td>\n",
       "      <td>driver, motorcycle helmet used</td>\n",
       "      <td>cellphone not in use</td>\n",
       "      <td>wrong side of road</td>\n",
       "      <td>1</td>\n",
       "      <td>0</td>\n",
       "      <td>other unsafe turning</td>\n",
       "      <td>2005.0</td>\n",
       "      <td>suzuki</td>\n",
       "      <td>hispanic</td>\n",
       "    </tr>\n",
       "    <tr>\n",
       "      <th>18669110</th>\n",
       "      <td>90326285.0</td>\n",
       "      <td>1</td>\n",
       "      <td>1</td>\n",
       "      <td>male</td>\n",
       "      <td>29.0</td>\n",
       "      <td>air bag not deployed</td>\n",
       "      <td>unknown</td>\n",
       "      <td>cellphone not in use</td>\n",
       "      <td>improper turning</td>\n",
       "      <td>1</td>\n",
       "      <td>3</td>\n",
       "      <td>other unsafe turning</td>\n",
       "      <td>2000.0</td>\n",
       "      <td>honda</td>\n",
       "      <td>hispanic</td>\n",
       "    </tr>\n",
       "    <tr>\n",
       "      <th>18669125</th>\n",
       "      <td>7006193.0</td>\n",
       "      <td>1</td>\n",
       "      <td>1</td>\n",
       "      <td>male</td>\n",
       "      <td>46.0</td>\n",
       "      <td>air bag deployed</td>\n",
       "      <td>lap/shoulder harness used</td>\n",
       "      <td>cellphone not in use</td>\n",
       "      <td>wrong side of road</td>\n",
       "      <td>1</td>\n",
       "      <td>0</td>\n",
       "      <td>proceeding straight</td>\n",
       "      <td>2008.0</td>\n",
       "      <td>mini</td>\n",
       "      <td>white</td>\n",
       "    </tr>\n",
       "  </tbody>\n",
       "</table>\n",
       "<p>67781 rows × 15 columns</p>\n",
       "</div>"
      ],
      "text/plain": [
       "             case_id  party_number  at_fault party_sex  party_age  \\\n",
       "256        3984218.0             1         1      male       23.0   \n",
       "257        3984219.0             1         1      male       19.0   \n",
       "258        3984244.0             1         1    female       35.0   \n",
       "260        3984245.0             2         0    female       74.0   \n",
       "261        3984246.0             1         1      male       28.0   \n",
       "...              ...           ...       ...       ...        ...   \n",
       "18669102  90275406.0             1         0      male       82.0   \n",
       "18669103  90298443.0             1         1      male       58.0   \n",
       "18669105  90309377.0             1         1      male       43.0   \n",
       "18669110  90326285.0             1         1      male       29.0   \n",
       "18669125   7006193.0             1         1      male       46.0   \n",
       "\n",
       "         party_safety_equipment_1        party_safety_equipment_2  \\\n",
       "256                           NaN                             NaN   \n",
       "257              air bag deployed       lap/shoulder harness used   \n",
       "258          air bag not deployed       lap/shoulder harness used   \n",
       "260                           NaN                             NaN   \n",
       "261                  not required  driver, motorcycle helmet used   \n",
       "...                           ...                             ...   \n",
       "18669102         air bag deployed       lap/shoulder harness used   \n",
       "18669103                      NaN                             NaN   \n",
       "18669105                      NaN  driver, motorcycle helmet used   \n",
       "18669110     air bag not deployed                         unknown   \n",
       "18669125         air bag deployed       lap/shoulder harness used   \n",
       "\n",
       "            cellphone_use_type  \\\n",
       "256       cellphone not in use   \n",
       "257                        NaN   \n",
       "258       cellphone not in use   \n",
       "260                        NaN   \n",
       "261       cellphone not in use   \n",
       "...                        ...   \n",
       "18669102  cellphone not in use   \n",
       "18669103  cellphone not in use   \n",
       "18669105  cellphone not in use   \n",
       "18669110  cellphone not in use   \n",
       "18669125  cellphone not in use   \n",
       "\n",
       "                                     oaf_violation_category  \\\n",
       "256       driving or bicycling under the influence of al...   \n",
       "257                                                     NaN   \n",
       "258                                        improper turning   \n",
       "260                                                     NaN   \n",
       "261                                                     NaN   \n",
       "...                                                     ...   \n",
       "18669102                                                NaN   \n",
       "18669103                                                NaN   \n",
       "18669105                                 wrong side of road   \n",
       "18669110                                   improper turning   \n",
       "18669125                                 wrong side of road   \n",
       "\n",
       "          party_number_killed  party_number_injured  \\\n",
       "256                         1                     0   \n",
       "257                         1                     0   \n",
       "258                         1                     1   \n",
       "260                         1                     0   \n",
       "261                         1                     0   \n",
       "...                       ...                   ...   \n",
       "18669102                    1                     0   \n",
       "18669103                    1                     0   \n",
       "18669105                    1                     0   \n",
       "18669110                    1                     3   \n",
       "18669125                    1                     0   \n",
       "\n",
       "         movement_preceding_collision  vehicle_year vehicle_make party_race  \n",
       "256               proceeding straight        2005.0         ford      black  \n",
       "257               proceeding straight        2004.0       toyota   hispanic  \n",
       "258                             other        1991.0        honda   hispanic  \n",
       "260               proceeding straight           NaN          NaN      asian  \n",
       "261               proceeding straight        2005.0       suzuki      other  \n",
       "...                               ...           ...          ...        ...  \n",
       "18669102          proceeding straight        2015.0         ford      white  \n",
       "18669103                          NaN           NaN          NaN      white  \n",
       "18669105         other unsafe turning        2005.0       suzuki   hispanic  \n",
       "18669110         other unsafe turning        2000.0        honda   hispanic  \n",
       "18669125          proceeding straight        2008.0         mini      white  \n",
       "\n",
       "[67781 rows x 15 columns]"
      ]
     },
     "execution_count": 66,
     "metadata": {},
     "output_type": "execute_result"
    }
   ],
   "source": [
    "party_df_4[party_df_4['party_number_killed']!=0]"
   ]
  },
  {
   "cell_type": "code",
   "execution_count": 67,
   "id": "8dd7971a-84b8-45e3-9d86-8271069d498d",
   "metadata": {
    "tags": []
   },
   "outputs": [
    {
     "name": "stdout",
     "output_type": "stream",
     "text": [
      "DataFrame exported\n"
     ]
    }
   ],
   "source": [
    "#resaving csv version 3\n",
    "collisions_df3.to_csv(f\"D:\\Computer Courses\\LHL Data Bootcamp\\LHL Projects\\Midterm Project\\collisions_df3.csv\", index=False)\n",
    "print(f\"DataFrame exported\")"
   ]
  },
  {
   "cell_type": "code",
   "execution_count": 68,
   "id": "b9e32e54-310f-464d-afe1-08a4e7ab1e1e",
   "metadata": {
    "tags": []
   },
   "outputs": [
    {
     "data": {
      "text/html": [
       "<div>\n",
       "<style scoped>\n",
       "    .dataframe tbody tr th:only-of-type {\n",
       "        vertical-align: middle;\n",
       "    }\n",
       "\n",
       "    .dataframe tbody tr th {\n",
       "        vertical-align: top;\n",
       "    }\n",
       "\n",
       "    .dataframe thead th {\n",
       "        text-align: right;\n",
       "    }\n",
       "</style>\n",
       "<table border=\"1\" class=\"dataframe\">\n",
       "  <thead>\n",
       "    <tr style=\"text-align: right;\">\n",
       "      <th></th>\n",
       "      <th>case_id</th>\n",
       "      <th>county_location</th>\n",
       "      <th>intersection</th>\n",
       "      <th>weather_1</th>\n",
       "      <th>weather_2</th>\n",
       "      <th>state_route</th>\n",
       "      <th>route_suffix</th>\n",
       "      <th>location_type</th>\n",
       "      <th>killed_victims</th>\n",
       "      <th>injured_victims</th>\n",
       "      <th>party_count</th>\n",
       "      <th>primary_collision_factor</th>\n",
       "      <th>pcf_violation_category</th>\n",
       "      <th>hit_and_run</th>\n",
       "      <th>type_of_collision</th>\n",
       "      <th>motor_vehicle_involved_with</th>\n",
       "      <th>pedestrian_action</th>\n",
       "      <th>road_surface</th>\n",
       "      <th>road_condition_1</th>\n",
       "      <th>road_condition_2</th>\n",
       "      <th>lighting</th>\n",
       "      <th>alcohol_involved</th>\n",
       "      <th>chp_vehicle_type_at_fault</th>\n",
       "      <th>pedestrian_killed_count</th>\n",
       "      <th>pedestrian_injured_count</th>\n",
       "      <th>bicyclist_killed_count</th>\n",
       "      <th>bicyclist_injured_count</th>\n",
       "      <th>motorcyclist_killed_count</th>\n",
       "      <th>motorcyclist_injured_count</th>\n",
       "      <th>latitude</th>\n",
       "      <th>longitude</th>\n",
       "      <th>collision_date</th>\n",
       "      <th>collision_time</th>\n",
       "    </tr>\n",
       "  </thead>\n",
       "  <tbody>\n",
       "    <tr>\n",
       "      <th>0</th>\n",
       "      <td>81715.0</td>\n",
       "      <td>los angeles</td>\n",
       "      <td>1.0</td>\n",
       "      <td>cloudy</td>\n",
       "      <td>NaN</td>\n",
       "      <td>NaN</td>\n",
       "      <td>NaN</td>\n",
       "      <td>NaN</td>\n",
       "      <td>0.0</td>\n",
       "      <td>0.0</td>\n",
       "      <td>2.0</td>\n",
       "      <td>vehicle code violation</td>\n",
       "      <td>speeding</td>\n",
       "      <td>not hit and run</td>\n",
       "      <td>rear end</td>\n",
       "      <td>other motor vehicle</td>\n",
       "      <td>no pedestrian involved</td>\n",
       "      <td>dry</td>\n",
       "      <td>normal</td>\n",
       "      <td>NaN</td>\n",
       "      <td>daylight</td>\n",
       "      <td>NaN</td>\n",
       "      <td>NaN</td>\n",
       "      <td>0</td>\n",
       "      <td>0</td>\n",
       "      <td>0</td>\n",
       "      <td>0</td>\n",
       "      <td>0</td>\n",
       "      <td>0.0</td>\n",
       "      <td>NaN</td>\n",
       "      <td>NaN</td>\n",
       "      <td>2020-03-14</td>\n",
       "      <td>07:45:00</td>\n",
       "    </tr>\n",
       "  </tbody>\n",
       "</table>\n",
       "</div>"
      ],
      "text/plain": [
       "   case_id county_location  intersection weather_1 weather_2  state_route  \\\n",
       "0  81715.0     los angeles           1.0    cloudy       NaN          NaN   \n",
       "\n",
       "  route_suffix location_type  killed_victims  injured_victims  party_count  \\\n",
       "0          NaN           NaN             0.0              0.0          2.0   \n",
       "\n",
       "  primary_collision_factor pcf_violation_category      hit_and_run  \\\n",
       "0   vehicle code violation               speeding  not hit and run   \n",
       "\n",
       "  type_of_collision motor_vehicle_involved_with       pedestrian_action  \\\n",
       "0          rear end         other motor vehicle  no pedestrian involved   \n",
       "\n",
       "  road_surface road_condition_1 road_condition_2  lighting  alcohol_involved  \\\n",
       "0          dry           normal              NaN  daylight               NaN   \n",
       "\n",
       "  chp_vehicle_type_at_fault  pedestrian_killed_count  \\\n",
       "0                       NaN                        0   \n",
       "\n",
       "   pedestrian_injured_count  bicyclist_killed_count  bicyclist_injured_count  \\\n",
       "0                         0                       0                        0   \n",
       "\n",
       "   motorcyclist_killed_count  motorcyclist_injured_count  latitude  longitude  \\\n",
       "0                          0                         0.0       NaN        NaN   \n",
       "\n",
       "  collision_date collision_time  \n",
       "0     2020-03-14       07:45:00  "
      ]
     },
     "execution_count": 68,
     "metadata": {},
     "output_type": "execute_result"
    }
   ],
   "source": [
    "collisions_df3.head(1)"
   ]
  },
  {
   "cell_type": "code",
   "execution_count": 69,
   "id": "4cf5fc0c-6444-44bf-92c7-2ed7f5be0b73",
   "metadata": {
    "collapsed": true,
    "jupyter": {
     "outputs_hidden": true
    },
    "tags": []
   },
   "outputs": [
    {
     "name": "stdout",
     "output_type": "stream",
     "text": [
      "<class 'pandas.core.frame.DataFrame'>\n",
      "RangeIndex: 9424334 entries, 0 to 9424333\n",
      "Data columns (total 33 columns):\n",
      " #   Column                       Dtype  \n",
      "---  ------                       -----  \n",
      " 0   case_id                      float64\n",
      " 1   county_location              object \n",
      " 2   intersection                 float64\n",
      " 3   weather_1                    object \n",
      " 4   weather_2                    object \n",
      " 5   state_route                  float64\n",
      " 6   route_suffix                 object \n",
      " 7   location_type                object \n",
      " 8   killed_victims               float64\n",
      " 9   injured_victims              float64\n",
      " 10  party_count                  float64\n",
      " 11  primary_collision_factor     object \n",
      " 12  pcf_violation_category       object \n",
      " 13  hit_and_run                  object \n",
      " 14  type_of_collision            object \n",
      " 15  motor_vehicle_involved_with  object \n",
      " 16  pedestrian_action            object \n",
      " 17  road_surface                 object \n",
      " 18  road_condition_1             object \n",
      " 19  road_condition_2             object \n",
      " 20  lighting                     object \n",
      " 21  alcohol_involved             float64\n",
      " 22  chp_vehicle_type_at_fault    object \n",
      " 23  pedestrian_killed_count      int64  \n",
      " 24  pedestrian_injured_count     int64  \n",
      " 25  bicyclist_killed_count       int64  \n",
      " 26  bicyclist_injured_count      int64  \n",
      " 27  motorcyclist_killed_count    int64  \n",
      " 28  motorcyclist_injured_count   float64\n",
      " 29  latitude                     float64\n",
      " 30  longitude                    float64\n",
      " 31  collision_date               object \n",
      " 32  collision_time               object \n",
      "dtypes: float64(10), int64(5), object(18)\n",
      "memory usage: 2.3+ GB\n"
     ]
    }
   ],
   "source": [
    "#checking data types\n",
    "collisions_df3.info()"
   ]
  },
  {
   "cell_type": "markdown",
   "id": "5228b9f9-004b-479b-951d-c3b7370892ee",
   "metadata": {},
   "source": [
    "---\n",
    "---\n",
    "---"
   ]
  },
  {
   "cell_type": "code",
   "execution_count": 5,
   "id": "c5b77707-a8ba-4210-b8fb-504924d899ae",
   "metadata": {
    "tags": []
   },
   "outputs": [
    {
     "name": "stderr",
     "output_type": "stream",
     "text": [
      "C:\\Users\\mufff\\AppData\\Local\\Temp\\ipykernel_37520\\2648935488.py:2: DtypeWarning: Columns (9,24) have mixed types. Specify dtype option on import or set low_memory=False.\n",
      "  collisions_df3 = pd.read_csv(\"collisions_df3.csv\")\n"
     ]
    }
   ],
   "source": [
    "#import most recent csv\n",
    "collisions_df3 = pd.read_csv(\"collisions_df3.csv\")"
   ]
  },
  {
   "cell_type": "code",
   "execution_count": 6,
   "id": "f1dfc964-8f96-439f-bb1b-5f7068478166",
   "metadata": {
    "tags": []
   },
   "outputs": [],
   "source": [
    "collisions_df3=pd.DataFrame(collisions_df3)"
   ]
  },
  {
   "cell_type": "code",
   "execution_count": 70,
   "id": "7aab8348-d5b0-4c3b-a999-f2b72318a9b4",
   "metadata": {
    "tags": []
   },
   "outputs": [
    {
     "data": {
      "text/plain": [
       "(9424334, 33)"
      ]
     },
     "execution_count": 70,
     "metadata": {},
     "output_type": "execute_result"
    }
   ],
   "source": [
    "collisions_df3.shape"
   ]
  },
  {
   "cell_type": "code",
   "execution_count": 71,
   "id": "127fc3f9-a56f-43bf-8d96-a1670304215a",
   "metadata": {
    "tags": []
   },
   "outputs": [
    {
     "data": {
      "text/html": [
       "<div>\n",
       "<style scoped>\n",
       "    .dataframe tbody tr th:only-of-type {\n",
       "        vertical-align: middle;\n",
       "    }\n",
       "\n",
       "    .dataframe tbody tr th {\n",
       "        vertical-align: top;\n",
       "    }\n",
       "\n",
       "    .dataframe thead th {\n",
       "        text-align: right;\n",
       "    }\n",
       "</style>\n",
       "<table border=\"1\" class=\"dataframe\">\n",
       "  <thead>\n",
       "    <tr style=\"text-align: right;\">\n",
       "      <th></th>\n",
       "      <th>case_id</th>\n",
       "      <th>county_location</th>\n",
       "      <th>intersection</th>\n",
       "      <th>weather_1</th>\n",
       "      <th>weather_2</th>\n",
       "      <th>state_route</th>\n",
       "      <th>route_suffix</th>\n",
       "      <th>location_type</th>\n",
       "      <th>killed_victims</th>\n",
       "      <th>injured_victims</th>\n",
       "      <th>party_count</th>\n",
       "      <th>primary_collision_factor</th>\n",
       "      <th>pcf_violation_category</th>\n",
       "      <th>hit_and_run</th>\n",
       "      <th>type_of_collision</th>\n",
       "      <th>motor_vehicle_involved_with</th>\n",
       "      <th>pedestrian_action</th>\n",
       "      <th>road_surface</th>\n",
       "      <th>road_condition_1</th>\n",
       "      <th>road_condition_2</th>\n",
       "      <th>lighting</th>\n",
       "      <th>alcohol_involved</th>\n",
       "      <th>chp_vehicle_type_at_fault</th>\n",
       "      <th>pedestrian_killed_count</th>\n",
       "      <th>pedestrian_injured_count</th>\n",
       "      <th>bicyclist_killed_count</th>\n",
       "      <th>bicyclist_injured_count</th>\n",
       "      <th>motorcyclist_killed_count</th>\n",
       "      <th>motorcyclist_injured_count</th>\n",
       "      <th>latitude</th>\n",
       "      <th>longitude</th>\n",
       "      <th>collision_date</th>\n",
       "      <th>collision_time</th>\n",
       "    </tr>\n",
       "  </thead>\n",
       "  <tbody>\n",
       "    <tr>\n",
       "      <th>0</th>\n",
       "      <td>81715.0</td>\n",
       "      <td>los angeles</td>\n",
       "      <td>1.0</td>\n",
       "      <td>cloudy</td>\n",
       "      <td>NaN</td>\n",
       "      <td>NaN</td>\n",
       "      <td>NaN</td>\n",
       "      <td>NaN</td>\n",
       "      <td>0.0</td>\n",
       "      <td>0.0</td>\n",
       "      <td>2.0</td>\n",
       "      <td>vehicle code violation</td>\n",
       "      <td>speeding</td>\n",
       "      <td>not hit and run</td>\n",
       "      <td>rear end</td>\n",
       "      <td>other motor vehicle</td>\n",
       "      <td>no pedestrian involved</td>\n",
       "      <td>dry</td>\n",
       "      <td>normal</td>\n",
       "      <td>NaN</td>\n",
       "      <td>daylight</td>\n",
       "      <td>NaN</td>\n",
       "      <td>NaN</td>\n",
       "      <td>0</td>\n",
       "      <td>0</td>\n",
       "      <td>0</td>\n",
       "      <td>0</td>\n",
       "      <td>0</td>\n",
       "      <td>0.0</td>\n",
       "      <td>NaN</td>\n",
       "      <td>NaN</td>\n",
       "      <td>2020-03-14</td>\n",
       "      <td>07:45:00</td>\n",
       "    </tr>\n",
       "  </tbody>\n",
       "</table>\n",
       "</div>"
      ],
      "text/plain": [
       "   case_id county_location  intersection weather_1 weather_2  state_route  \\\n",
       "0  81715.0     los angeles           1.0    cloudy       NaN          NaN   \n",
       "\n",
       "  route_suffix location_type  killed_victims  injured_victims  party_count  \\\n",
       "0          NaN           NaN             0.0              0.0          2.0   \n",
       "\n",
       "  primary_collision_factor pcf_violation_category      hit_and_run  \\\n",
       "0   vehicle code violation               speeding  not hit and run   \n",
       "\n",
       "  type_of_collision motor_vehicle_involved_with       pedestrian_action  \\\n",
       "0          rear end         other motor vehicle  no pedestrian involved   \n",
       "\n",
       "  road_surface road_condition_1 road_condition_2  lighting  alcohol_involved  \\\n",
       "0          dry           normal              NaN  daylight               NaN   \n",
       "\n",
       "  chp_vehicle_type_at_fault  pedestrian_killed_count  \\\n",
       "0                       NaN                        0   \n",
       "\n",
       "   pedestrian_injured_count  bicyclist_killed_count  bicyclist_injured_count  \\\n",
       "0                         0                       0                        0   \n",
       "\n",
       "   motorcyclist_killed_count  motorcyclist_injured_count  latitude  longitude  \\\n",
       "0                          0                         0.0       NaN        NaN   \n",
       "\n",
       "  collision_date collision_time  \n",
       "0     2020-03-14       07:45:00  "
      ]
     },
     "execution_count": 71,
     "metadata": {},
     "output_type": "execute_result"
    }
   ],
   "source": [
    "collisions_df3.head(1)"
   ]
  },
  {
   "cell_type": "code",
   "execution_count": 73,
   "id": "0545427f-1e54-42c2-9912-9074bfd8232f",
   "metadata": {
    "tags": []
   },
   "outputs": [],
   "source": [
    "#creating new df with specific columns\n",
    "collisions_df4=collisions_df3[['case_id', 'county_location', 'intersection', 'weather_1', 'weather_2', 'state_route', 'location_type', 'killed_victims', 'injured_victims','party_count', 'primary_collision_factor','pcf_violation_category','hit_and_run', 'type_of_collision', 'motor_vehicle_involved_with','pedestrian_action', 'road_surface', 'road_condition_1','road_condition_2', 'lighting', 'alcohol_involved', 'chp_vehicle_type_at_fault', 'pedestrian_killed_count','pedestrian_injured_count', 'bicyclist_killed_count','bicyclist_injured_count', 'motorcyclist_killed_count', 'motorcyclist_injured_count','latitude', 'longitude', 'collision_date', 'collision_time']].copy()\n"
   ]
  },
  {
   "cell_type": "code",
   "execution_count": 74,
   "id": "7df9d28f-8340-4a96-822c-6153eb3735f4",
   "metadata": {
    "tags": []
   },
   "outputs": [
    {
     "data": {
      "text/plain": [
       "(9424334, 32)"
      ]
     },
     "execution_count": 74,
     "metadata": {},
     "output_type": "execute_result"
    }
   ],
   "source": [
    "collisions_df4.shape"
   ]
  },
  {
   "cell_type": "code",
   "execution_count": 75,
   "id": "6273501f-ad99-42dd-9e5a-25d8873cb238",
   "metadata": {
    "tags": []
   },
   "outputs": [],
   "source": [
    "#changing collision date to datetime again\n",
    "collisions_df4['collision_date'] = pd.to_datetime(collisions_df4['collision_date'])"
   ]
  },
  {
   "cell_type": "code",
   "execution_count": 76,
   "id": "abc67eac-7847-4153-955b-553165a65b99",
   "metadata": {
    "tags": []
   },
   "outputs": [],
   "source": [
    "collisions_df4['years'] = collisions_df4['collision_date'].dt.strftime('%Y')"
   ]
  },
  {
   "cell_type": "code",
   "execution_count": 77,
   "id": "11344dad-3312-4fae-bb3d-e08e4c985e56",
   "metadata": {
    "tags": []
   },
   "outputs": [
    {
     "data": {
      "text/plain": [
       "array(['2020', '2009', '2010', '2011', '2012', '2013', '2014', '2015',\n",
       "       '2016', '2017', '2018', '2021', '2019', '2008', '2002', '2003',\n",
       "       '2001', '2004', '2005', '2006', '2007'], dtype=object)"
      ]
     },
     "execution_count": 77,
     "metadata": {},
     "output_type": "execute_result"
    }
   ],
   "source": [
    "collisions_df4['years'].unique()"
   ]
  },
  {
   "cell_type": "code",
   "execution_count": 78,
   "id": "ccaec030-f5f6-4e6d-9541-5f2f58beb910",
   "metadata": {
    "tags": []
   },
   "outputs": [],
   "source": [
    "#removing data from earlier years\n",
    "years_to_drop = ['2001', '2002', '2003', '2004', '2005']\n",
    "\n",
    "collisions_df4 = collisions_df4[~collisions_df4['years'].isin(years_to_drop)]"
   ]
  },
  {
   "cell_type": "code",
   "execution_count": 79,
   "id": "68545570-71a2-4c04-957e-c1196fa301e3",
   "metadata": {
    "tags": []
   },
   "outputs": [
    {
     "data": {
      "text/plain": [
       "array(['2020', '2009', '2010', '2011', '2012', '2013', '2014', '2015',\n",
       "       '2016', '2017', '2018', '2021', '2019', '2008', '2006', '2007'],\n",
       "      dtype=object)"
      ]
     },
     "execution_count": 79,
     "metadata": {},
     "output_type": "execute_result"
    }
   ],
   "source": [
    "collisions_df4['years'].unique()"
   ]
  },
  {
   "cell_type": "code",
   "execution_count": 80,
   "id": "71eec515-78ad-4226-a6d0-82eea2ccc93c",
   "metadata": {
    "tags": []
   },
   "outputs": [
    {
     "data": {
      "text/plain": [
       "(6747057, 33)"
      ]
     },
     "execution_count": 80,
     "metadata": {},
     "output_type": "execute_result"
    }
   ],
   "source": [
    "collisions_df4.shape"
   ]
  },
  {
   "cell_type": "code",
   "execution_count": 81,
   "id": "fbf9ebf6-8929-4a88-a16d-3fbe6b74f798",
   "metadata": {
    "tags": []
   },
   "outputs": [
    {
     "data": {
      "text/plain": [
       "6747057"
      ]
     },
     "execution_count": 81,
     "metadata": {},
     "output_type": "execute_result"
    }
   ],
   "source": [
    "collisions_df4['county_location'].count()"
   ]
  },
  {
   "cell_type": "code",
   "execution_count": 82,
   "id": "22c1b1d3-a85e-4d97-b3a4-95f325910de6",
   "metadata": {
    "tags": []
   },
   "outputs": [
    {
     "data": {
      "text/html": [
       "<div>\n",
       "<style scoped>\n",
       "    .dataframe tbody tr th:only-of-type {\n",
       "        vertical-align: middle;\n",
       "    }\n",
       "\n",
       "    .dataframe tbody tr th {\n",
       "        vertical-align: top;\n",
       "    }\n",
       "\n",
       "    .dataframe thead th {\n",
       "        text-align: right;\n",
       "    }\n",
       "</style>\n",
       "<table border=\"1\" class=\"dataframe\">\n",
       "  <thead>\n",
       "    <tr style=\"text-align: right;\">\n",
       "      <th></th>\n",
       "      <th>case_id</th>\n",
       "      <th>county_location</th>\n",
       "      <th>intersection</th>\n",
       "      <th>weather_1</th>\n",
       "      <th>weather_2</th>\n",
       "      <th>state_route</th>\n",
       "      <th>location_type</th>\n",
       "      <th>killed_victims</th>\n",
       "      <th>injured_victims</th>\n",
       "      <th>party_count</th>\n",
       "      <th>primary_collision_factor</th>\n",
       "      <th>pcf_violation_category</th>\n",
       "      <th>hit_and_run</th>\n",
       "      <th>type_of_collision</th>\n",
       "      <th>motor_vehicle_involved_with</th>\n",
       "      <th>pedestrian_action</th>\n",
       "      <th>road_surface</th>\n",
       "      <th>road_condition_1</th>\n",
       "      <th>road_condition_2</th>\n",
       "      <th>lighting</th>\n",
       "      <th>alcohol_involved</th>\n",
       "      <th>chp_vehicle_type_at_fault</th>\n",
       "      <th>pedestrian_killed_count</th>\n",
       "      <th>pedestrian_injured_count</th>\n",
       "      <th>bicyclist_killed_count</th>\n",
       "      <th>bicyclist_injured_count</th>\n",
       "      <th>motorcyclist_killed_count</th>\n",
       "      <th>motorcyclist_injured_count</th>\n",
       "      <th>latitude</th>\n",
       "      <th>longitude</th>\n",
       "      <th>collision_date</th>\n",
       "      <th>collision_time</th>\n",
       "      <th>years</th>\n",
       "    </tr>\n",
       "  </thead>\n",
       "  <tbody>\n",
       "    <tr>\n",
       "      <th>0</th>\n",
       "      <td>81715.0</td>\n",
       "      <td>los angeles</td>\n",
       "      <td>1.0</td>\n",
       "      <td>cloudy</td>\n",
       "      <td>NaN</td>\n",
       "      <td>NaN</td>\n",
       "      <td>NaN</td>\n",
       "      <td>0.0</td>\n",
       "      <td>0.0</td>\n",
       "      <td>2.0</td>\n",
       "      <td>vehicle code violation</td>\n",
       "      <td>speeding</td>\n",
       "      <td>not hit and run</td>\n",
       "      <td>rear end</td>\n",
       "      <td>other motor vehicle</td>\n",
       "      <td>no pedestrian involved</td>\n",
       "      <td>dry</td>\n",
       "      <td>normal</td>\n",
       "      <td>NaN</td>\n",
       "      <td>daylight</td>\n",
       "      <td>NaN</td>\n",
       "      <td>NaN</td>\n",
       "      <td>0</td>\n",
       "      <td>0</td>\n",
       "      <td>0</td>\n",
       "      <td>0</td>\n",
       "      <td>0</td>\n",
       "      <td>0.0</td>\n",
       "      <td>NaN</td>\n",
       "      <td>NaN</td>\n",
       "      <td>2020-03-14</td>\n",
       "      <td>07:45:00</td>\n",
       "      <td>2020</td>\n",
       "    </tr>\n",
       "  </tbody>\n",
       "</table>\n",
       "</div>"
      ],
      "text/plain": [
       "   case_id county_location  intersection weather_1 weather_2  state_route  \\\n",
       "0  81715.0     los angeles           1.0    cloudy       NaN          NaN   \n",
       "\n",
       "  location_type  killed_victims  injured_victims  party_count  \\\n",
       "0           NaN             0.0              0.0          2.0   \n",
       "\n",
       "  primary_collision_factor pcf_violation_category      hit_and_run  \\\n",
       "0   vehicle code violation               speeding  not hit and run   \n",
       "\n",
       "  type_of_collision motor_vehicle_involved_with       pedestrian_action  \\\n",
       "0          rear end         other motor vehicle  no pedestrian involved   \n",
       "\n",
       "  road_surface road_condition_1 road_condition_2  lighting  alcohol_involved  \\\n",
       "0          dry           normal              NaN  daylight               NaN   \n",
       "\n",
       "  chp_vehicle_type_at_fault  pedestrian_killed_count  \\\n",
       "0                       NaN                        0   \n",
       "\n",
       "   pedestrian_injured_count  bicyclist_killed_count  bicyclist_injured_count  \\\n",
       "0                         0                       0                        0   \n",
       "\n",
       "   motorcyclist_killed_count  motorcyclist_injured_count  latitude  longitude  \\\n",
       "0                          0                         0.0       NaN        NaN   \n",
       "\n",
       "  collision_date collision_time years  \n",
       "0     2020-03-14       07:45:00  2020  "
      ]
     },
     "execution_count": 82,
     "metadata": {},
     "output_type": "execute_result"
    }
   ],
   "source": [
    "collisions_df4.head(1)"
   ]
  },
  {
   "cell_type": "code",
   "execution_count": 12,
   "id": "d454e59b-4a00-42f9-9c78-709e374ad474",
   "metadata": {
    "tags": []
   },
   "outputs": [],
   "source": [
    "#comparing columns to see if we can reduce our data size"
   ]
  },
  {
   "cell_type": "code",
   "execution_count": 83,
   "id": "5f421045-2e7a-4d8c-9fdc-7696a23f89a2",
   "metadata": {
    "tags": []
   },
   "outputs": [
    {
     "data": {
      "text/plain": [
       "array(['cloudy', 'clear', 'raining', 'fog', nan, 'snowing', 'wind',\n",
       "       'other'], dtype=object)"
      ]
     },
     "execution_count": 83,
     "metadata": {},
     "output_type": "execute_result"
    }
   ],
   "source": [
    "collisions_df4['weather_1'].unique()"
   ]
  },
  {
   "cell_type": "code",
   "execution_count": 84,
   "id": "1ac9bb72-d90b-47d6-b3ac-2ac5f0bc234b",
   "metadata": {
    "tags": []
   },
   "outputs": [
    {
     "data": {
      "text/plain": [
       "array([nan, 'raining', 'wind', 'fog', 'cloudy', 'other', 'snowing',\n",
       "       'clear'], dtype=object)"
      ]
     },
     "execution_count": 84,
     "metadata": {},
     "output_type": "execute_result"
    }
   ],
   "source": [
    "collisions_df4['weather_2'].unique()"
   ]
  },
  {
   "cell_type": "code",
   "execution_count": 85,
   "id": "16b05bc9-a2e3-4a32-9971-e60cf993f968",
   "metadata": {
    "tags": []
   },
   "outputs": [
    {
     "data": {
      "text/plain": [
       "28172"
      ]
     },
     "execution_count": 85,
     "metadata": {},
     "output_type": "execute_result"
    }
   ],
   "source": [
    "collisions_df4['weather_1'].isna().sum()"
   ]
  },
  {
   "cell_type": "code",
   "execution_count": 86,
   "id": "2ede4d9a-1053-449a-b40e-c80b12d7c823",
   "metadata": {
    "tags": []
   },
   "outputs": [
    {
     "data": {
      "text/plain": [
       "6564715"
      ]
     },
     "execution_count": 86,
     "metadata": {},
     "output_type": "execute_result"
    }
   ],
   "source": [
    "collisions_df4['weather_2'].isna().sum()"
   ]
  },
  {
   "cell_type": "code",
   "execution_count": 87,
   "id": "1a3c1694-009b-4d6a-a098-dc42d8fcf7d6",
   "metadata": {
    "tags": []
   },
   "outputs": [],
   "source": [
    "na_test = collisions_df4[collisions_df4['weather_1'].isna()]"
   ]
  },
  {
   "cell_type": "code",
   "execution_count": 88,
   "id": "f05a76d9-0a66-4b26-8c1c-63722d9e3eb5",
   "metadata": {
    "tags": []
   },
   "outputs": [
    {
     "data": {
      "text/plain": [
       "28171"
      ]
     },
     "execution_count": 88,
     "metadata": {},
     "output_type": "execute_result"
    }
   ],
   "source": [
    "na_test['weather_2'].isna().sum()"
   ]
  },
  {
   "cell_type": "code",
   "execution_count": 89,
   "id": "1bc0fa8c-d479-4871-83ac-11e7203ecef5",
   "metadata": {
    "collapsed": true,
    "jupyter": {
     "outputs_hidden": true
    },
    "tags": []
   },
   "outputs": [
    {
     "data": {
      "text/plain": [
       "case_id                        6747057\n",
       "county_location                6747057\n",
       "intersection                   6692654\n",
       "weather_1                      6718885\n",
       "weather_2                       182342\n",
       "state_route                    1593563\n",
       "location_type                  1593563\n",
       "killed_victims                 6747057\n",
       "injured_victims                6747057\n",
       "party_count                    6747055\n",
       "primary_collision_factor       6714658\n",
       "pcf_violation_category         6646738\n",
       "hit_and_run                    6747056\n",
       "type_of_collision              6689681\n",
       "motor_vehicle_involved_with    6711842\n",
       "pedestrian_action              6743153\n",
       "road_surface                   6693353\n",
       "road_condition_1               6696254\n",
       "road_condition_2                 30758\n",
       "lighting                       6712426\n",
       "alcohol_involved                696758\n",
       "chp_vehicle_type_at_fault      5452876\n",
       "pedestrian_killed_count        6747057\n",
       "pedestrian_injured_count       6747057\n",
       "bicyclist_killed_count         6747057\n",
       "bicyclist_injured_count        6747057\n",
       "motorcyclist_killed_count      6747057\n",
       "motorcyclist_injured_count     6747055\n",
       "latitude                       2693996\n",
       "longitude                      2693996\n",
       "collision_date                 6747057\n",
       "collision_time                 6685136\n",
       "years                          6747057\n",
       "dtype: int64"
      ]
     },
     "execution_count": 89,
     "metadata": {},
     "output_type": "execute_result"
    }
   ],
   "source": [
    "collisions_df4.count()"
   ]
  },
  {
   "cell_type": "code",
   "execution_count": 90,
   "id": "8d677cef-9f48-4af4-8413-95452fd95f9a",
   "metadata": {
    "collapsed": true,
    "jupyter": {
     "outputs_hidden": true
    },
    "tags": []
   },
   "outputs": [
    {
     "data": {
      "text/plain": [
       "array([nan, 'passenger car, station', 'police car', 'pedestrian',\n",
       "       'sport utility vehicle', 'unknown hit and run vehicle involvement',\n",
       "       'pickups & panels', 'mini-vans', 'two axle truck',\n",
       "       'three or more axle truck', 'motor home', 'motorcycle',\n",
       "       'public transit authority', 'truck tractor', 'other commercial',\n",
       "       'two axle tank truck', 'paratransit', 'two-axle tow truck',\n",
       "       'general public paratransit',\n",
       "       'pickups and panels: hazardous material',\n",
       "       'pickups and panels: hazardous waste or hazardous waste/material combination',\n",
       "       'tour bus', 'truck tractor: hazardous material',\n",
       "       'school bus private type ii', 'two-axle truck: hazardous material',\n",
       "       'school bus public type i', 'three-axle tow truck',\n",
       "       'non-commercial bus', 'pickup w/camper',\n",
       "       'three or more axle truck: hazardous material', 'bicycle',\n",
       "       'two-axle tank truck: hazardous waste or hazardous waste/material combination',\n",
       "       'school bus public type ii', 'hwy. construction equip.',\n",
       "       'three axle tank truck', 'implement of husbandry',\n",
       "       'all terrain vehicle', 'motor driven',\n",
       "       'two-axle tank truck: hazardous material',\n",
       "       'school bus contractual type i',\n",
       "       'three or more axle truck: hazardous waste or hazardous waste/material combination',\n",
       "       'ambulance', 'school bus private type i',\n",
       "       'passenger car, station wagon, jeep: hazardous waste or hazardous waste/material combination',\n",
       "       'police motorcycle', 'fire truck',\n",
       "       'go-ped, zip electric scooter, motoboard',\n",
       "       'misc. non-motor vehicle',\n",
       "       'misc. motor vehicle (snowmobile, golf cart)',\n",
       "       'motor home > 40 feet',\n",
       "       'passenger car, station wagon, jeep: hazardous material',\n",
       "       'motorized bicycle',\n",
       "       'three-axle tank truck: hazardous waste or hazardous waste/material combination',\n",
       "       'fork lift', 'dune buggy', 'mobile equipment',\n",
       "       'school bus contractual type ii',\n",
       "       'pickup and camper: hazardous material',\n",
       "       'two-axle truck: hazardous waste or hazardous waste/material combination',\n",
       "       'truck tractor: hazardous waste or hazardous waste/material combination',\n",
       "       'school pupil activity bus type i',\n",
       "       'farm labor vehicle (certified)', '66', 'low speed vehicle',\n",
       "       'school pupil activity bus type ii', 'farm labor transporter',\n",
       "       'pickup and camper: hazardous waste or hazardous waste/material combination',\n",
       "       'youth bus', 'farm labor vehicle',\n",
       "       'three-axle tank truck: hazardous material',\n",
       "       'emergency vehicle (on emergency run)', 'utility',\n",
       "       'three trailers', 'extralegal permit load', 'semi',\n",
       "       'fifth wheel travel trailer',\n",
       "       'federally legal double combo over 75 feet', 'semi tank trailer',\n",
       "       '91', 'container chassis', '93',\n",
       "       'two trailers (includes semi & pull)', 'pull', 'trailer coach',\n",
       "       '0', 'two tank trailer', 'passengers',\n",
       "       'second or additional enforcement action(s)', 'boat',\n",
       "       'federally legal semi', 'pull tank trailer', 'D'], dtype=object)"
      ]
     },
     "execution_count": 90,
     "metadata": {},
     "output_type": "execute_result"
    }
   ],
   "source": [
    "collisions_df4['chp_vehicle_type_at_fault'].unique()"
   ]
  },
  {
   "cell_type": "code",
   "execution_count": 91,
   "id": "0660e958-3c2d-4219-bb10-e5a467f5d136",
   "metadata": {
    "tags": []
   },
   "outputs": [
    {
     "name": "stdout",
     "output_type": "stream",
     "text": [
      "DataFrame exported\n"
     ]
    }
   ],
   "source": [
    "#resaving csv version 4\n",
    "collisions_df4.to_csv(f\"D:\\Computer Courses\\LHL Data Bootcamp\\LHL Projects\\Midterm Project\\collisions_df4.csv\", index=False)\n",
    "print(f\"DataFrame exported\")"
   ]
  },
  {
   "cell_type": "markdown",
   "id": "9ca77b42-cbb9-4a9c-ba74-bee5028cef01",
   "metadata": {},
   "source": [
    "---\n",
    "---\n",
    "---"
   ]
  },
  {
   "cell_type": "code",
   "execution_count": 7,
   "id": "9806b2fb-5a58-4b48-ada6-98262d1fddf6",
   "metadata": {
    "tags": []
   },
   "outputs": [
    {
     "name": "stderr",
     "output_type": "stream",
     "text": [
      "C:\\Users\\mufff\\AppData\\Local\\Temp\\ipykernel_30420\\1657112751.py:2: DtypeWarning: Columns (6,21) have mixed types. Specify dtype option on import or set low_memory=False.\n",
      "  collisions_df4 = pd.read_csv(f\"..\\data\\collisions_df4.csv\")\n"
     ]
    }
   ],
   "source": [
    "#loading csv \n",
    "collisions_df4 = pd.read_csv(f\"..\\data\\collisions_df4.csv\")"
   ]
  },
  {
   "cell_type": "code",
   "execution_count": 92,
   "id": "140bdf6a-6082-4238-ad74-cadc801e945b",
   "metadata": {},
   "outputs": [
    {
     "data": {
      "text/html": [
       "<div>\n",
       "<style scoped>\n",
       "    .dataframe tbody tr th:only-of-type {\n",
       "        vertical-align: middle;\n",
       "    }\n",
       "\n",
       "    .dataframe tbody tr th {\n",
       "        vertical-align: top;\n",
       "    }\n",
       "\n",
       "    .dataframe thead th {\n",
       "        text-align: right;\n",
       "    }\n",
       "</style>\n",
       "<table border=\"1\" class=\"dataframe\">\n",
       "  <thead>\n",
       "    <tr style=\"text-align: right;\">\n",
       "      <th></th>\n",
       "      <th>case_id</th>\n",
       "      <th>county_location</th>\n",
       "      <th>intersection</th>\n",
       "      <th>weather_1</th>\n",
       "      <th>weather_2</th>\n",
       "      <th>state_route</th>\n",
       "      <th>location_type</th>\n",
       "      <th>killed_victims</th>\n",
       "      <th>injured_victims</th>\n",
       "      <th>party_count</th>\n",
       "      <th>primary_collision_factor</th>\n",
       "      <th>pcf_violation_category</th>\n",
       "      <th>hit_and_run</th>\n",
       "      <th>type_of_collision</th>\n",
       "      <th>motor_vehicle_involved_with</th>\n",
       "      <th>pedestrian_action</th>\n",
       "      <th>road_surface</th>\n",
       "      <th>road_condition_1</th>\n",
       "      <th>road_condition_2</th>\n",
       "      <th>lighting</th>\n",
       "      <th>alcohol_involved</th>\n",
       "      <th>chp_vehicle_type_at_fault</th>\n",
       "      <th>pedestrian_killed_count</th>\n",
       "      <th>pedestrian_injured_count</th>\n",
       "      <th>bicyclist_killed_count</th>\n",
       "      <th>bicyclist_injured_count</th>\n",
       "      <th>motorcyclist_killed_count</th>\n",
       "      <th>motorcyclist_injured_count</th>\n",
       "      <th>latitude</th>\n",
       "      <th>longitude</th>\n",
       "      <th>collision_date</th>\n",
       "      <th>collision_time</th>\n",
       "      <th>years</th>\n",
       "    </tr>\n",
       "  </thead>\n",
       "  <tbody>\n",
       "    <tr>\n",
       "      <th>0</th>\n",
       "      <td>81715.0</td>\n",
       "      <td>los angeles</td>\n",
       "      <td>1.0</td>\n",
       "      <td>cloudy</td>\n",
       "      <td>NaN</td>\n",
       "      <td>NaN</td>\n",
       "      <td>NaN</td>\n",
       "      <td>0.0</td>\n",
       "      <td>0.0</td>\n",
       "      <td>2.0</td>\n",
       "      <td>vehicle code violation</td>\n",
       "      <td>speeding</td>\n",
       "      <td>not hit and run</td>\n",
       "      <td>rear end</td>\n",
       "      <td>other motor vehicle</td>\n",
       "      <td>no pedestrian involved</td>\n",
       "      <td>dry</td>\n",
       "      <td>normal</td>\n",
       "      <td>NaN</td>\n",
       "      <td>daylight</td>\n",
       "      <td>NaN</td>\n",
       "      <td>NaN</td>\n",
       "      <td>0</td>\n",
       "      <td>0</td>\n",
       "      <td>0</td>\n",
       "      <td>0</td>\n",
       "      <td>0</td>\n",
       "      <td>0.0</td>\n",
       "      <td>NaN</td>\n",
       "      <td>NaN</td>\n",
       "      <td>2020-03-14</td>\n",
       "      <td>07:45:00</td>\n",
       "      <td>2020</td>\n",
       "    </tr>\n",
       "  </tbody>\n",
       "</table>\n",
       "</div>"
      ],
      "text/plain": [
       "   case_id county_location  intersection weather_1 weather_2  state_route  \\\n",
       "0  81715.0     los angeles           1.0    cloudy       NaN          NaN   \n",
       "\n",
       "  location_type  killed_victims  injured_victims  party_count  \\\n",
       "0           NaN             0.0              0.0          2.0   \n",
       "\n",
       "  primary_collision_factor pcf_violation_category      hit_and_run  \\\n",
       "0   vehicle code violation               speeding  not hit and run   \n",
       "\n",
       "  type_of_collision motor_vehicle_involved_with       pedestrian_action  \\\n",
       "0          rear end         other motor vehicle  no pedestrian involved   \n",
       "\n",
       "  road_surface road_condition_1 road_condition_2  lighting  alcohol_involved  \\\n",
       "0          dry           normal              NaN  daylight               NaN   \n",
       "\n",
       "  chp_vehicle_type_at_fault  pedestrian_killed_count  \\\n",
       "0                       NaN                        0   \n",
       "\n",
       "   pedestrian_injured_count  bicyclist_killed_count  bicyclist_injured_count  \\\n",
       "0                         0                       0                        0   \n",
       "\n",
       "   motorcyclist_killed_count  motorcyclist_injured_count  latitude  longitude  \\\n",
       "0                          0                         0.0       NaN        NaN   \n",
       "\n",
       "  collision_date collision_time years  \n",
       "0     2020-03-14       07:45:00  2020  "
      ]
     },
     "execution_count": 92,
     "metadata": {},
     "output_type": "execute_result"
    }
   ],
   "source": [
    "collisions_df4.head(1)"
   ]
  },
  {
   "cell_type": "code",
   "execution_count": 93,
   "id": "2b35fc85-d542-45a2-9792-07156fc16af2",
   "metadata": {},
   "outputs": [
    {
     "data": {
      "text/plain": [
       "array([nan, 'highway', 'ramp', 'intersection'], dtype=object)"
      ]
     },
     "execution_count": 93,
     "metadata": {},
     "output_type": "execute_result"
    }
   ],
   "source": [
    "collisions_df4['location_type'].unique()"
   ]
  },
  {
   "cell_type": "code",
   "execution_count": 95,
   "id": "03267afd-7fbc-4def-9037-1315450425ab",
   "metadata": {
    "tags": []
   },
   "outputs": [],
   "source": [
    "#creating new df with specific columns\n",
    "collisions_df5=collisions_df4[['case_id', 'county_location', 'weather_1', 'weather_2', 'state_route', 'killed_victims', 'injured_victims','party_count', 'pcf_violation_category', 'pedestrian_action', 'road_surface', 'lighting', 'alcohol_involved', 'pedestrian_killed_count','pedestrian_injured_count', 'bicyclist_killed_count','bicyclist_injured_count', 'motorcyclist_killed_count', 'motorcyclist_injured_count','latitude', 'longitude', 'collision_date', 'collision_time']].copy()\n"
   ]
  },
  {
   "cell_type": "code",
   "execution_count": 96,
   "id": "17583f6a-1982-4718-a845-09839626ab71",
   "metadata": {
    "tags": []
   },
   "outputs": [
    {
     "name": "stdout",
     "output_type": "stream",
     "text": [
      "DataFrame exported\n"
     ]
    }
   ],
   "source": [
    "#resaving csv version 5\n",
    "collisions_df5.to_csv(f\"D:\\Computer Courses\\LHL Data Bootcamp\\LHL Projects\\Midterm Project\\LHL-Midterm-Project\\data\\collisions_df5.csv\", index=False)\n",
    "print(f\"DataFrame exported\")"
   ]
  },
  {
   "cell_type": "code",
   "execution_count": null,
   "id": "6fe4abf1-d42f-4347-9dde-b42a3c6e3597",
   "metadata": {},
   "outputs": [],
   "source": []
  },
  {
   "cell_type": "code",
   "execution_count": null,
   "id": "d99cc98e-40a4-47fa-8d7e-cfed061d7700",
   "metadata": {},
   "outputs": [],
   "source": []
  },
  {
   "cell_type": "code",
   "execution_count": null,
   "id": "21cb2b69-40b3-452f-917d-1b52a4a37205",
   "metadata": {},
   "outputs": [],
   "source": []
  },
  {
   "cell_type": "markdown",
   "id": "2e8a8a6b-a33d-4bee-bd4f-66f8aaca7680",
   "metadata": {},
   "source": [
    "## Cleaning victims csv - HAVEN'T CHANGED ANYTHING HERE YET"
   ]
  },
  {
   "cell_type": "code",
   "execution_count": 237,
   "id": "3df6366f-e439-48e9-a3aa-e3c1e0bbdfd5",
   "metadata": {
    "tags": []
   },
   "outputs": [
    {
     "name": "stderr",
     "output_type": "stream",
     "text": [
      "C:\\Users\\mufff\\AppData\\Local\\Temp\\ipykernel_42672\\1939914625.py:2: DtypeWarning: Columns (9) have mixed types. Specify dtype option on import or set low_memory=False.\n",
      "  victims = pd.read_csv(\"victims.csv\")\n"
     ]
    }
   ],
   "source": [
    "#loading csv \n",
    "victims = pd.read_csv(\"victims.csv\")"
   ]
  },
  {
   "cell_type": "code",
   "execution_count": 238,
   "id": "11d6b0d7-a2b4-41dc-8412-1c86f4a31d2e",
   "metadata": {
    "tags": []
   },
   "outputs": [],
   "source": [
    "victims_df=pd.DataFrame(victims)"
   ]
  },
  {
   "cell_type": "code",
   "execution_count": 239,
   "id": "0d8a5f01-43f3-46db-930b-e6fc06dd1898",
   "metadata": {
    "tags": []
   },
   "outputs": [
    {
     "data": {
      "text/plain": [
       "(9639334, 11)"
      ]
     },
     "execution_count": 239,
     "metadata": {},
     "output_type": "execute_result"
    }
   ],
   "source": [
    "victims_df.shape"
   ]
  },
  {
   "cell_type": "code",
   "execution_count": 242,
   "id": "92301905-ab82-43cd-8b3a-ca10b4acc0a1",
   "metadata": {
    "collapsed": true,
    "jupyter": {
     "outputs_hidden": true
    },
    "tags": []
   },
   "outputs": [
    {
     "data": {
      "text/html": [
       "<div>\n",
       "<style scoped>\n",
       "    .dataframe tbody tr th:only-of-type {\n",
       "        vertical-align: middle;\n",
       "    }\n",
       "\n",
       "    .dataframe tbody tr th {\n",
       "        vertical-align: top;\n",
       "    }\n",
       "\n",
       "    .dataframe thead th {\n",
       "        text-align: right;\n",
       "    }\n",
       "</style>\n",
       "<table border=\"1\" class=\"dataframe\">\n",
       "  <thead>\n",
       "    <tr style=\"text-align: right;\">\n",
       "      <th></th>\n",
       "      <th>id</th>\n",
       "      <th>case_id</th>\n",
       "      <th>party_number</th>\n",
       "      <th>victim_role</th>\n",
       "      <th>victim_sex</th>\n",
       "      <th>victim_age</th>\n",
       "      <th>victim_degree_of_injury</th>\n",
       "      <th>victim_seating_position</th>\n",
       "      <th>victim_safety_equipment_1</th>\n",
       "      <th>victim_safety_equipment_2</th>\n",
       "      <th>victim_ejected</th>\n",
       "    </tr>\n",
       "  </thead>\n",
       "  <tbody>\n",
       "    <tr>\n",
       "      <th>0</th>\n",
       "      <td>1</td>\n",
       "      <td>3858022.0</td>\n",
       "      <td>1</td>\n",
       "      <td>passenger</td>\n",
       "      <td>female</td>\n",
       "      <td>24.0</td>\n",
       "      <td>no injury</td>\n",
       "      <td>passenger seat 4</td>\n",
       "      <td>air bag not deployed</td>\n",
       "      <td>NaN</td>\n",
       "      <td>not ejected</td>\n",
       "    </tr>\n",
       "    <tr>\n",
       "      <th>1</th>\n",
       "      <td>2</td>\n",
       "      <td>3858022.0</td>\n",
       "      <td>1</td>\n",
       "      <td>passenger</td>\n",
       "      <td>male</td>\n",
       "      <td>31.0</td>\n",
       "      <td>no injury</td>\n",
       "      <td>passenger seat 6</td>\n",
       "      <td>air bag not deployed</td>\n",
       "      <td>NaN</td>\n",
       "      <td>not ejected</td>\n",
       "    </tr>\n",
       "    <tr>\n",
       "      <th>2</th>\n",
       "      <td>3</td>\n",
       "      <td>3899450.0</td>\n",
       "      <td>1</td>\n",
       "      <td>driver</td>\n",
       "      <td>female</td>\n",
       "      <td>72.0</td>\n",
       "      <td>complaint of pain</td>\n",
       "      <td>driver</td>\n",
       "      <td>air bag not deployed</td>\n",
       "      <td>lap/shoulder harness used</td>\n",
       "      <td>not ejected</td>\n",
       "    </tr>\n",
       "    <tr>\n",
       "      <th>3</th>\n",
       "      <td>4</td>\n",
       "      <td>3899453.0</td>\n",
       "      <td>2</td>\n",
       "      <td>driver</td>\n",
       "      <td>male</td>\n",
       "      <td>66.0</td>\n",
       "      <td>complaint of pain</td>\n",
       "      <td>driver</td>\n",
       "      <td>air bag deployed</td>\n",
       "      <td>lap/shoulder harness used</td>\n",
       "      <td>not ejected</td>\n",
       "    </tr>\n",
       "    <tr>\n",
       "      <th>4</th>\n",
       "      <td>5</td>\n",
       "      <td>3899453.0</td>\n",
       "      <td>3</td>\n",
       "      <td>passenger</td>\n",
       "      <td>male</td>\n",
       "      <td>65.0</td>\n",
       "      <td>no injury</td>\n",
       "      <td>passenger seat 3</td>\n",
       "      <td>air bag not deployed</td>\n",
       "      <td>lap/shoulder harness used</td>\n",
       "      <td>not ejected</td>\n",
       "    </tr>\n",
       "  </tbody>\n",
       "</table>\n",
       "</div>"
      ],
      "text/plain": [
       "   id    case_id  party_number victim_role victim_sex  victim_age  \\\n",
       "0   1  3858022.0             1   passenger     female        24.0   \n",
       "1   2  3858022.0             1   passenger       male        31.0   \n",
       "2   3  3899450.0             1      driver     female        72.0   \n",
       "3   4  3899453.0             2      driver       male        66.0   \n",
       "4   5  3899453.0             3   passenger       male        65.0   \n",
       "\n",
       "  victim_degree_of_injury victim_seating_position victim_safety_equipment_1  \\\n",
       "0               no injury        passenger seat 4      air bag not deployed   \n",
       "1               no injury        passenger seat 6      air bag not deployed   \n",
       "2       complaint of pain                  driver      air bag not deployed   \n",
       "3       complaint of pain                  driver          air bag deployed   \n",
       "4               no injury        passenger seat 3      air bag not deployed   \n",
       "\n",
       "   victim_safety_equipment_2 victim_ejected  \n",
       "0                        NaN    not ejected  \n",
       "1                        NaN    not ejected  \n",
       "2  lap/shoulder harness used    not ejected  \n",
       "3  lap/shoulder harness used    not ejected  \n",
       "4  lap/shoulder harness used    not ejected  "
      ]
     },
     "execution_count": 242,
     "metadata": {},
     "output_type": "execute_result"
    }
   ],
   "source": [
    "victims_df.head()"
   ]
  },
  {
   "cell_type": "code",
   "execution_count": 358,
   "id": "485a3421-74b5-40d3-bd76-2623ee8ecb4f",
   "metadata": {
    "tags": []
   },
   "outputs": [
    {
     "data": {
      "text/html": [
       "<div>\n",
       "<style scoped>\n",
       "    .dataframe tbody tr th:only-of-type {\n",
       "        vertical-align: middle;\n",
       "    }\n",
       "\n",
       "    .dataframe tbody tr th {\n",
       "        vertical-align: top;\n",
       "    }\n",
       "\n",
       "    .dataframe thead th {\n",
       "        text-align: right;\n",
       "    }\n",
       "</style>\n",
       "<table border=\"1\" class=\"dataframe\">\n",
       "  <thead>\n",
       "    <tr style=\"text-align: right;\">\n",
       "      <th></th>\n",
       "      <th>id</th>\n",
       "      <th>case_id</th>\n",
       "      <th>party_number</th>\n",
       "      <th>victim_role</th>\n",
       "      <th>victim_sex</th>\n",
       "      <th>victim_age</th>\n",
       "      <th>victim_degree_of_injury</th>\n",
       "      <th>victim_seating_position</th>\n",
       "      <th>victim_safety_equipment_1</th>\n",
       "      <th>victim_safety_equipment_2</th>\n",
       "      <th>victim_ejected</th>\n",
       "    </tr>\n",
       "  </thead>\n",
       "  <tbody>\n",
       "  </tbody>\n",
       "</table>\n",
       "</div>"
      ],
      "text/plain": [
       "Empty DataFrame\n",
       "Columns: [id, case_id, party_number, victim_role, victim_sex, victim_age, victim_degree_of_injury, victim_seating_position, victim_safety_equipment_1, victim_safety_equipment_2, victim_ejected]\n",
       "Index: []"
      ]
     },
     "execution_count": 358,
     "metadata": {},
     "output_type": "execute_result"
    }
   ],
   "source": [
    "victims_df[victims_df['case_id']==81715.0]"
   ]
  },
  {
   "cell_type": "code",
   "execution_count": 359,
   "id": "a6c852de-e2d7-4b37-9543-128e3d6fa140",
   "metadata": {
    "collapsed": true,
    "jupyter": {
     "outputs_hidden": true
    },
    "tags": []
   },
   "outputs": [
    {
     "ename": "MemoryError",
     "evalue": "Unable to allocate 1.40 GiB for an array with shape (20, 9424334) and data type object",
     "output_type": "error",
     "traceback": [
      "\u001b[1;31m---------------------------------------------------------------------------\u001b[0m",
      "\u001b[1;31mMemoryError\u001b[0m                               Traceback (most recent call last)",
      "Cell \u001b[1;32mIn[359], line 1\u001b[0m\n\u001b[1;32m----> 1\u001b[0m \u001b[43mcollisions_df3\u001b[49m\u001b[43m[\u001b[49m\u001b[43mcollisions_df3\u001b[49m\u001b[43m[\u001b[49m\u001b[38;5;124;43m'\u001b[39;49m\u001b[38;5;124;43mcase_id\u001b[39;49m\u001b[38;5;124;43m'\u001b[39;49m\u001b[43m]\u001b[49m\u001b[38;5;241;43m==\u001b[39;49m\u001b[38;5;241;43m81715.0\u001b[39;49m\u001b[43m]\u001b[49m\n",
      "File \u001b[1;32m~\\anaconda3\\envs\\LHL_python_environment\\lib\\site-packages\\pandas\\core\\frame.py:3798\u001b[0m, in \u001b[0;36mDataFrame.__getitem__\u001b[1;34m(self, key)\u001b[0m\n\u001b[0;32m   3796\u001b[0m \u001b[38;5;66;03m# Do we have a (boolean) 1d indexer?\u001b[39;00m\n\u001b[0;32m   3797\u001b[0m \u001b[38;5;28;01mif\u001b[39;00m com\u001b[38;5;241m.\u001b[39mis_bool_indexer(key):\n\u001b[1;32m-> 3798\u001b[0m     \u001b[38;5;28;01mreturn\u001b[39;00m \u001b[38;5;28;43mself\u001b[39;49m\u001b[38;5;241;43m.\u001b[39;49m\u001b[43m_getitem_bool_array\u001b[49m\u001b[43m(\u001b[49m\u001b[43mkey\u001b[49m\u001b[43m)\u001b[49m\n\u001b[0;32m   3800\u001b[0m \u001b[38;5;66;03m# We are left with two options: a single key, and a collection of keys,\u001b[39;00m\n\u001b[0;32m   3801\u001b[0m \u001b[38;5;66;03m# We interpret tuples as collections only for non-MultiIndex\u001b[39;00m\n\u001b[0;32m   3802\u001b[0m is_single_key \u001b[38;5;241m=\u001b[39m \u001b[38;5;28misinstance\u001b[39m(key, \u001b[38;5;28mtuple\u001b[39m) \u001b[38;5;129;01mor\u001b[39;00m \u001b[38;5;129;01mnot\u001b[39;00m is_list_like(key)\n",
      "File \u001b[1;32m~\\anaconda3\\envs\\LHL_python_environment\\lib\\site-packages\\pandas\\core\\frame.py:3853\u001b[0m, in \u001b[0;36mDataFrame._getitem_bool_array\u001b[1;34m(self, key)\u001b[0m\n\u001b[0;32m   3851\u001b[0m key \u001b[38;5;241m=\u001b[39m check_bool_indexer(\u001b[38;5;28mself\u001b[39m\u001b[38;5;241m.\u001b[39mindex, key)\n\u001b[0;32m   3852\u001b[0m indexer \u001b[38;5;241m=\u001b[39m key\u001b[38;5;241m.\u001b[39mnonzero()[\u001b[38;5;241m0\u001b[39m]\n\u001b[1;32m-> 3853\u001b[0m \u001b[38;5;28;01mreturn\u001b[39;00m \u001b[38;5;28;43mself\u001b[39;49m\u001b[38;5;241;43m.\u001b[39;49m\u001b[43m_take_with_is_copy\u001b[49m\u001b[43m(\u001b[49m\u001b[43mindexer\u001b[49m\u001b[43m,\u001b[49m\u001b[43m \u001b[49m\u001b[43maxis\u001b[49m\u001b[38;5;241;43m=\u001b[39;49m\u001b[38;5;241;43m0\u001b[39;49m\u001b[43m)\u001b[49m\n",
      "File \u001b[1;32m~\\anaconda3\\envs\\LHL_python_environment\\lib\\site-packages\\pandas\\core\\generic.py:3902\u001b[0m, in \u001b[0;36mNDFrame._take_with_is_copy\u001b[1;34m(self, indices, axis)\u001b[0m\n\u001b[0;32m   3894\u001b[0m \u001b[38;5;28;01mdef\u001b[39;00m \u001b[38;5;21m_take_with_is_copy\u001b[39m(\u001b[38;5;28mself\u001b[39m: NDFrameT, indices, axis\u001b[38;5;241m=\u001b[39m\u001b[38;5;241m0\u001b[39m) \u001b[38;5;241m-\u001b[39m\u001b[38;5;241m>\u001b[39m NDFrameT:\n\u001b[0;32m   3895\u001b[0m     \u001b[38;5;124;03m\"\"\"\u001b[39;00m\n\u001b[0;32m   3896\u001b[0m \u001b[38;5;124;03m    Internal version of the `take` method that sets the `_is_copy`\u001b[39;00m\n\u001b[0;32m   3897\u001b[0m \u001b[38;5;124;03m    attribute to keep track of the parent dataframe (using in indexing\u001b[39;00m\n\u001b[1;32m   (...)\u001b[0m\n\u001b[0;32m   3900\u001b[0m \u001b[38;5;124;03m    See the docstring of `take` for full explanation of the parameters.\u001b[39;00m\n\u001b[0;32m   3901\u001b[0m \u001b[38;5;124;03m    \"\"\"\u001b[39;00m\n\u001b[1;32m-> 3902\u001b[0m     result \u001b[38;5;241m=\u001b[39m \u001b[38;5;28;43mself\u001b[39;49m\u001b[38;5;241;43m.\u001b[39;49m\u001b[43m_take\u001b[49m\u001b[43m(\u001b[49m\u001b[43mindices\u001b[49m\u001b[38;5;241;43m=\u001b[39;49m\u001b[43mindices\u001b[49m\u001b[43m,\u001b[49m\u001b[43m \u001b[49m\u001b[43maxis\u001b[49m\u001b[38;5;241;43m=\u001b[39;49m\u001b[43maxis\u001b[49m\u001b[43m)\u001b[49m\n\u001b[0;32m   3903\u001b[0m     \u001b[38;5;66;03m# Maybe set copy if we didn't actually change the index.\u001b[39;00m\n\u001b[0;32m   3904\u001b[0m     \u001b[38;5;28;01mif\u001b[39;00m \u001b[38;5;129;01mnot\u001b[39;00m result\u001b[38;5;241m.\u001b[39m_get_axis(axis)\u001b[38;5;241m.\u001b[39mequals(\u001b[38;5;28mself\u001b[39m\u001b[38;5;241m.\u001b[39m_get_axis(axis)):\n",
      "File \u001b[1;32m~\\anaconda3\\envs\\LHL_python_environment\\lib\\site-packages\\pandas\\core\\generic.py:3884\u001b[0m, in \u001b[0;36mNDFrame._take\u001b[1;34m(self, indices, axis, convert_indices)\u001b[0m\n\u001b[0;32m   3873\u001b[0m \u001b[38;5;28;01mdef\u001b[39;00m \u001b[38;5;21m_take\u001b[39m(\n\u001b[0;32m   3874\u001b[0m     \u001b[38;5;28mself\u001b[39m: NDFrameT,\n\u001b[0;32m   3875\u001b[0m     indices,\n\u001b[0;32m   3876\u001b[0m     axis\u001b[38;5;241m=\u001b[39m\u001b[38;5;241m0\u001b[39m,\n\u001b[0;32m   3877\u001b[0m     convert_indices: bool_t \u001b[38;5;241m=\u001b[39m \u001b[38;5;28;01mTrue\u001b[39;00m,\n\u001b[0;32m   3878\u001b[0m ) \u001b[38;5;241m-\u001b[39m\u001b[38;5;241m>\u001b[39m NDFrameT:\n\u001b[0;32m   3879\u001b[0m     \u001b[38;5;124;03m\"\"\"\u001b[39;00m\n\u001b[0;32m   3880\u001b[0m \u001b[38;5;124;03m    Internal version of the `take` allowing specification of additional args.\u001b[39;00m\n\u001b[0;32m   3881\u001b[0m \n\u001b[0;32m   3882\u001b[0m \u001b[38;5;124;03m    See the docstring of `take` for full explanation of the parameters.\u001b[39;00m\n\u001b[0;32m   3883\u001b[0m \u001b[38;5;124;03m    \"\"\"\u001b[39;00m\n\u001b[1;32m-> 3884\u001b[0m     \u001b[38;5;28;43mself\u001b[39;49m\u001b[38;5;241;43m.\u001b[39;49m\u001b[43m_consolidate_inplace\u001b[49m\u001b[43m(\u001b[49m\u001b[43m)\u001b[49m\n\u001b[0;32m   3886\u001b[0m     new_data \u001b[38;5;241m=\u001b[39m \u001b[38;5;28mself\u001b[39m\u001b[38;5;241m.\u001b[39m_mgr\u001b[38;5;241m.\u001b[39mtake(\n\u001b[0;32m   3887\u001b[0m         indices,\n\u001b[0;32m   3888\u001b[0m         axis\u001b[38;5;241m=\u001b[39m\u001b[38;5;28mself\u001b[39m\u001b[38;5;241m.\u001b[39m_get_block_manager_axis(axis),\n\u001b[0;32m   3889\u001b[0m         verify\u001b[38;5;241m=\u001b[39m\u001b[38;5;28;01mTrue\u001b[39;00m,\n\u001b[0;32m   3890\u001b[0m         convert_indices\u001b[38;5;241m=\u001b[39mconvert_indices,\n\u001b[0;32m   3891\u001b[0m     )\n\u001b[0;32m   3892\u001b[0m     \u001b[38;5;28;01mreturn\u001b[39;00m \u001b[38;5;28mself\u001b[39m\u001b[38;5;241m.\u001b[39m_constructor(new_data)\u001b[38;5;241m.\u001b[39m__finalize__(\u001b[38;5;28mself\u001b[39m, method\u001b[38;5;241m=\u001b[39m\u001b[38;5;124m\"\u001b[39m\u001b[38;5;124mtake\u001b[39m\u001b[38;5;124m\"\u001b[39m)\n",
      "File \u001b[1;32m~\\anaconda3\\envs\\LHL_python_environment\\lib\\site-packages\\pandas\\core\\generic.py:5980\u001b[0m, in \u001b[0;36mNDFrame._consolidate_inplace\u001b[1;34m(self)\u001b[0m\n\u001b[0;32m   5977\u001b[0m \u001b[38;5;28;01mdef\u001b[39;00m \u001b[38;5;21mf\u001b[39m():\n\u001b[0;32m   5978\u001b[0m     \u001b[38;5;28mself\u001b[39m\u001b[38;5;241m.\u001b[39m_mgr \u001b[38;5;241m=\u001b[39m \u001b[38;5;28mself\u001b[39m\u001b[38;5;241m.\u001b[39m_mgr\u001b[38;5;241m.\u001b[39mconsolidate()\n\u001b[1;32m-> 5980\u001b[0m \u001b[38;5;28;43mself\u001b[39;49m\u001b[38;5;241;43m.\u001b[39;49m\u001b[43m_protect_consolidate\u001b[49m\u001b[43m(\u001b[49m\u001b[43mf\u001b[49m\u001b[43m)\u001b[49m\n",
      "File \u001b[1;32m~\\anaconda3\\envs\\LHL_python_environment\\lib\\site-packages\\pandas\\core\\generic.py:5968\u001b[0m, in \u001b[0;36mNDFrame._protect_consolidate\u001b[1;34m(self, f)\u001b[0m\n\u001b[0;32m   5966\u001b[0m     \u001b[38;5;28;01mreturn\u001b[39;00m f()\n\u001b[0;32m   5967\u001b[0m blocks_before \u001b[38;5;241m=\u001b[39m \u001b[38;5;28mlen\u001b[39m(\u001b[38;5;28mself\u001b[39m\u001b[38;5;241m.\u001b[39m_mgr\u001b[38;5;241m.\u001b[39mblocks)\n\u001b[1;32m-> 5968\u001b[0m result \u001b[38;5;241m=\u001b[39m \u001b[43mf\u001b[49m\u001b[43m(\u001b[49m\u001b[43m)\u001b[49m\n\u001b[0;32m   5969\u001b[0m \u001b[38;5;28;01mif\u001b[39;00m \u001b[38;5;28mlen\u001b[39m(\u001b[38;5;28mself\u001b[39m\u001b[38;5;241m.\u001b[39m_mgr\u001b[38;5;241m.\u001b[39mblocks) \u001b[38;5;241m!=\u001b[39m blocks_before:\n\u001b[0;32m   5970\u001b[0m     \u001b[38;5;28mself\u001b[39m\u001b[38;5;241m.\u001b[39m_clear_item_cache()\n",
      "File \u001b[1;32m~\\anaconda3\\envs\\LHL_python_environment\\lib\\site-packages\\pandas\\core\\generic.py:5978\u001b[0m, in \u001b[0;36mNDFrame._consolidate_inplace.<locals>.f\u001b[1;34m()\u001b[0m\n\u001b[0;32m   5977\u001b[0m \u001b[38;5;28;01mdef\u001b[39;00m \u001b[38;5;21mf\u001b[39m():\n\u001b[1;32m-> 5978\u001b[0m     \u001b[38;5;28mself\u001b[39m\u001b[38;5;241m.\u001b[39m_mgr \u001b[38;5;241m=\u001b[39m \u001b[38;5;28;43mself\u001b[39;49m\u001b[38;5;241;43m.\u001b[39;49m\u001b[43m_mgr\u001b[49m\u001b[38;5;241;43m.\u001b[39;49m\u001b[43mconsolidate\u001b[49m\u001b[43m(\u001b[49m\u001b[43m)\u001b[49m\n",
      "File \u001b[1;32m~\\anaconda3\\envs\\LHL_python_environment\\lib\\site-packages\\pandas\\core\\internals\\managers.py:686\u001b[0m, in \u001b[0;36mBaseBlockManager.consolidate\u001b[1;34m(self)\u001b[0m\n\u001b[0;32m    684\u001b[0m bm \u001b[38;5;241m=\u001b[39m \u001b[38;5;28mtype\u001b[39m(\u001b[38;5;28mself\u001b[39m)(\u001b[38;5;28mself\u001b[39m\u001b[38;5;241m.\u001b[39mblocks, \u001b[38;5;28mself\u001b[39m\u001b[38;5;241m.\u001b[39maxes, \u001b[38;5;28mself\u001b[39m\u001b[38;5;241m.\u001b[39mrefs, verify_integrity\u001b[38;5;241m=\u001b[39m\u001b[38;5;28;01mFalse\u001b[39;00m)\n\u001b[0;32m    685\u001b[0m bm\u001b[38;5;241m.\u001b[39m_is_consolidated \u001b[38;5;241m=\u001b[39m \u001b[38;5;28;01mFalse\u001b[39;00m\n\u001b[1;32m--> 686\u001b[0m \u001b[43mbm\u001b[49m\u001b[38;5;241;43m.\u001b[39;49m\u001b[43m_consolidate_inplace\u001b[49m\u001b[43m(\u001b[49m\u001b[43m)\u001b[49m\n\u001b[0;32m    687\u001b[0m \u001b[38;5;28;01mreturn\u001b[39;00m bm\n",
      "File \u001b[1;32m~\\anaconda3\\envs\\LHL_python_environment\\lib\\site-packages\\pandas\\core\\internals\\managers.py:1871\u001b[0m, in \u001b[0;36mBlockManager._consolidate_inplace\u001b[1;34m(self)\u001b[0m\n\u001b[0;32m   1869\u001b[0m \u001b[38;5;28;01mif\u001b[39;00m \u001b[38;5;129;01mnot\u001b[39;00m \u001b[38;5;28mself\u001b[39m\u001b[38;5;241m.\u001b[39mis_consolidated():\n\u001b[0;32m   1870\u001b[0m     \u001b[38;5;28;01mif\u001b[39;00m \u001b[38;5;28mself\u001b[39m\u001b[38;5;241m.\u001b[39mrefs \u001b[38;5;129;01mis\u001b[39;00m \u001b[38;5;28;01mNone\u001b[39;00m:\n\u001b[1;32m-> 1871\u001b[0m         \u001b[38;5;28mself\u001b[39m\u001b[38;5;241m.\u001b[39mblocks \u001b[38;5;241m=\u001b[39m \u001b[43m_consolidate\u001b[49m\u001b[43m(\u001b[49m\u001b[38;5;28;43mself\u001b[39;49m\u001b[38;5;241;43m.\u001b[39;49m\u001b[43mblocks\u001b[49m\u001b[43m)\u001b[49m\n\u001b[0;32m   1872\u001b[0m     \u001b[38;5;28;01melse\u001b[39;00m:\n\u001b[0;32m   1873\u001b[0m         \u001b[38;5;28mself\u001b[39m\u001b[38;5;241m.\u001b[39mblocks, \u001b[38;5;28mself\u001b[39m\u001b[38;5;241m.\u001b[39mrefs \u001b[38;5;241m=\u001b[39m _consolidate_with_refs(\u001b[38;5;28mself\u001b[39m\u001b[38;5;241m.\u001b[39mblocks, \u001b[38;5;28mself\u001b[39m\u001b[38;5;241m.\u001b[39mrefs)\n",
      "File \u001b[1;32m~\\anaconda3\\envs\\LHL_python_environment\\lib\\site-packages\\pandas\\core\\internals\\managers.py:2329\u001b[0m, in \u001b[0;36m_consolidate\u001b[1;34m(blocks)\u001b[0m\n\u001b[0;32m   2327\u001b[0m new_blocks: \u001b[38;5;28mlist\u001b[39m[Block] \u001b[38;5;241m=\u001b[39m []\n\u001b[0;32m   2328\u001b[0m \u001b[38;5;28;01mfor\u001b[39;00m (_can_consolidate, dtype), group_blocks \u001b[38;5;129;01min\u001b[39;00m grouper:\n\u001b[1;32m-> 2329\u001b[0m     merged_blocks, _ \u001b[38;5;241m=\u001b[39m \u001b[43m_merge_blocks\u001b[49m\u001b[43m(\u001b[49m\n\u001b[0;32m   2330\u001b[0m \u001b[43m        \u001b[49m\u001b[38;5;28;43mlist\u001b[39;49m\u001b[43m(\u001b[49m\u001b[43mgroup_blocks\u001b[49m\u001b[43m)\u001b[49m\u001b[43m,\u001b[49m\u001b[43m \u001b[49m\u001b[43mdtype\u001b[49m\u001b[38;5;241;43m=\u001b[39;49m\u001b[43mdtype\u001b[49m\u001b[43m,\u001b[49m\u001b[43m \u001b[49m\u001b[43mcan_consolidate\u001b[49m\u001b[38;5;241;43m=\u001b[39;49m\u001b[43m_can_consolidate\u001b[49m\n\u001b[0;32m   2331\u001b[0m \u001b[43m    \u001b[49m\u001b[43m)\u001b[49m\n\u001b[0;32m   2332\u001b[0m     new_blocks \u001b[38;5;241m=\u001b[39m extend_blocks(merged_blocks, new_blocks)\n\u001b[0;32m   2333\u001b[0m \u001b[38;5;28;01mreturn\u001b[39;00m \u001b[38;5;28mtuple\u001b[39m(new_blocks)\n",
      "File \u001b[1;32m~\\anaconda3\\envs\\LHL_python_environment\\lib\\site-packages\\pandas\\core\\internals\\managers.py:2381\u001b[0m, in \u001b[0;36m_merge_blocks\u001b[1;34m(blocks, dtype, can_consolidate)\u001b[0m\n\u001b[0;32m   2374\u001b[0m new_values: ArrayLike\n\u001b[0;32m   2376\u001b[0m \u001b[38;5;28;01mif\u001b[39;00m \u001b[38;5;28misinstance\u001b[39m(blocks[\u001b[38;5;241m0\u001b[39m]\u001b[38;5;241m.\u001b[39mdtype, np\u001b[38;5;241m.\u001b[39mdtype):\n\u001b[0;32m   2377\u001b[0m     \u001b[38;5;66;03m# error: List comprehension has incompatible type List[Union[ndarray,\u001b[39;00m\n\u001b[0;32m   2378\u001b[0m     \u001b[38;5;66;03m# ExtensionArray]]; expected List[Union[complex, generic,\u001b[39;00m\n\u001b[0;32m   2379\u001b[0m     \u001b[38;5;66;03m# Sequence[Union[int, float, complex, str, bytes, generic]],\u001b[39;00m\n\u001b[0;32m   2380\u001b[0m     \u001b[38;5;66;03m# Sequence[Sequence[Any]], SupportsArray]]\u001b[39;00m\n\u001b[1;32m-> 2381\u001b[0m     new_values \u001b[38;5;241m=\u001b[39m \u001b[43mnp\u001b[49m\u001b[38;5;241;43m.\u001b[39;49m\u001b[43mvstack\u001b[49m\u001b[43m(\u001b[49m\u001b[43m[\u001b[49m\u001b[43mb\u001b[49m\u001b[38;5;241;43m.\u001b[39;49m\u001b[43mvalues\u001b[49m\u001b[43m \u001b[49m\u001b[38;5;28;43;01mfor\u001b[39;49;00m\u001b[43m \u001b[49m\u001b[43mb\u001b[49m\u001b[43m \u001b[49m\u001b[38;5;129;43;01min\u001b[39;49;00m\u001b[43m \u001b[49m\u001b[43mblocks\u001b[49m\u001b[43m]\u001b[49m\u001b[43m)\u001b[49m  \u001b[38;5;66;03m# type: ignore[misc]\u001b[39;00m\n\u001b[0;32m   2382\u001b[0m \u001b[38;5;28;01melse\u001b[39;00m:\n\u001b[0;32m   2383\u001b[0m     bvals \u001b[38;5;241m=\u001b[39m [blk\u001b[38;5;241m.\u001b[39mvalues \u001b[38;5;28;01mfor\u001b[39;00m blk \u001b[38;5;129;01min\u001b[39;00m blocks]\n",
      "File \u001b[1;32m~\\anaconda3\\envs\\LHL_python_environment\\lib\\site-packages\\numpy\\core\\shape_base.py:289\u001b[0m, in \u001b[0;36mvstack\u001b[1;34m(tup, dtype, casting)\u001b[0m\n\u001b[0;32m    287\u001b[0m \u001b[38;5;28;01mif\u001b[39;00m \u001b[38;5;129;01mnot\u001b[39;00m \u001b[38;5;28misinstance\u001b[39m(arrs, \u001b[38;5;28mlist\u001b[39m):\n\u001b[0;32m    288\u001b[0m     arrs \u001b[38;5;241m=\u001b[39m [arrs]\n\u001b[1;32m--> 289\u001b[0m \u001b[38;5;28;01mreturn\u001b[39;00m \u001b[43m_nx\u001b[49m\u001b[38;5;241;43m.\u001b[39;49m\u001b[43mconcatenate\u001b[49m\u001b[43m(\u001b[49m\u001b[43marrs\u001b[49m\u001b[43m,\u001b[49m\u001b[43m \u001b[49m\u001b[38;5;241;43m0\u001b[39;49m\u001b[43m,\u001b[49m\u001b[43m \u001b[49m\u001b[43mdtype\u001b[49m\u001b[38;5;241;43m=\u001b[39;49m\u001b[43mdtype\u001b[49m\u001b[43m,\u001b[49m\u001b[43m \u001b[49m\u001b[43mcasting\u001b[49m\u001b[38;5;241;43m=\u001b[39;49m\u001b[43mcasting\u001b[49m\u001b[43m)\u001b[49m\n",
      "\u001b[1;31mMemoryError\u001b[0m: Unable to allocate 1.40 GiB for an array with shape (20, 9424334) and data type object"
     ]
    }
   ],
   "source": [
    "collisions_df3[collisions_df3['case_id']==81715.0]"
   ]
  },
  {
   "cell_type": "code",
   "execution_count": 257,
   "id": "a4267c06-5391-4709-91ff-76ee0671ddeb",
   "metadata": {
    "tags": []
   },
   "outputs": [
    {
     "data": {
      "text/html": [
       "<div>\n",
       "<style scoped>\n",
       "    .dataframe tbody tr th:only-of-type {\n",
       "        vertical-align: middle;\n",
       "    }\n",
       "\n",
       "    .dataframe tbody tr th {\n",
       "        vertical-align: top;\n",
       "    }\n",
       "\n",
       "    .dataframe thead th {\n",
       "        text-align: right;\n",
       "    }\n",
       "</style>\n",
       "<table border=\"1\" class=\"dataframe\">\n",
       "  <thead>\n",
       "    <tr style=\"text-align: right;\">\n",
       "      <th></th>\n",
       "      <th>case_id</th>\n",
       "      <th>party_number</th>\n",
       "      <th>party_type</th>\n",
       "      <th>at_fault</th>\n",
       "      <th>party_sex</th>\n",
       "      <th>party_age</th>\n",
       "      <th>party_sobriety</th>\n",
       "      <th>party_drug_physical</th>\n",
       "      <th>party_safety_equipment_1</th>\n",
       "      <th>party_safety_equipment_2</th>\n",
       "      <th>cellphone_use_type</th>\n",
       "      <th>oaf_violation_category</th>\n",
       "      <th>party_number_killed</th>\n",
       "      <th>party_number_injured</th>\n",
       "      <th>movement_preceding_collision</th>\n",
       "      <th>vehicle_year</th>\n",
       "      <th>vehicle_make</th>\n",
       "      <th>party_race</th>\n",
       "    </tr>\n",
       "  </thead>\n",
       "  <tbody>\n",
       "    <tr>\n",
       "      <th>261</th>\n",
       "      <td>3984246.0</td>\n",
       "      <td>1</td>\n",
       "      <td>driver</td>\n",
       "      <td>1</td>\n",
       "      <td>male</td>\n",
       "      <td>28.0</td>\n",
       "      <td>NaN</td>\n",
       "      <td>under drug influence</td>\n",
       "      <td>not required</td>\n",
       "      <td>driver, motorcycle helmet used</td>\n",
       "      <td>cellphone not in use</td>\n",
       "      <td>NaN</td>\n",
       "      <td>1</td>\n",
       "      <td>0</td>\n",
       "      <td>proceeding straight</td>\n",
       "      <td>2005.0</td>\n",
       "      <td>suzuki</td>\n",
       "      <td>other</td>\n",
       "    </tr>\n",
       "    <tr>\n",
       "      <th>262</th>\n",
       "      <td>3984246.0</td>\n",
       "      <td>2</td>\n",
       "      <td>driver</td>\n",
       "      <td>0</td>\n",
       "      <td>male</td>\n",
       "      <td>45.0</td>\n",
       "      <td>had not been drinking</td>\n",
       "      <td>NaN</td>\n",
       "      <td>air bag not deployed</td>\n",
       "      <td>lap/shoulder harness used</td>\n",
       "      <td>cellphone not in use</td>\n",
       "      <td>NaN</td>\n",
       "      <td>0</td>\n",
       "      <td>0</td>\n",
       "      <td>proceeding straight</td>\n",
       "      <td>2004.0</td>\n",
       "      <td>chevrolet</td>\n",
       "      <td>hispanic</td>\n",
       "    </tr>\n",
       "  </tbody>\n",
       "</table>\n",
       "</div>"
      ],
      "text/plain": [
       "       case_id  party_number party_type  at_fault party_sex  party_age  \\\n",
       "261  3984246.0             1     driver         1      male       28.0   \n",
       "262  3984246.0             2     driver         0      male       45.0   \n",
       "\n",
       "            party_sobriety   party_drug_physical party_safety_equipment_1  \\\n",
       "261                    NaN  under drug influence             not required   \n",
       "262  had not been drinking                   NaN     air bag not deployed   \n",
       "\n",
       "           party_safety_equipment_2    cellphone_use_type  \\\n",
       "261  driver, motorcycle helmet used  cellphone not in use   \n",
       "262       lap/shoulder harness used  cellphone not in use   \n",
       "\n",
       "    oaf_violation_category  party_number_killed  party_number_injured  \\\n",
       "261                    NaN                    1                     0   \n",
       "262                    NaN                    0                     0   \n",
       "\n",
       "    movement_preceding_collision  vehicle_year vehicle_make party_race  \n",
       "261          proceeding straight        2005.0       suzuki      other  \n",
       "262          proceeding straight        2004.0    chevrolet   hispanic  "
      ]
     },
     "execution_count": 257,
     "metadata": {},
     "output_type": "execute_result"
    }
   ],
   "source": [
    "party_df_2[party_df_2['case_id']==3984246.0]"
   ]
  },
  {
   "cell_type": "code",
   "execution_count": 374,
   "id": "45cf316b-098b-4381-b998-2bd966df248a",
   "metadata": {
    "tags": []
   },
   "outputs": [],
   "source": [
    "del victims_df"
   ]
  },
  {
   "cell_type": "markdown",
   "id": "9c15ee7e-e9b5-4cda-a70c-e0168aabd043",
   "metadata": {},
   "source": [
    "## Case ids - Not using this data for project"
   ]
  },
  {
   "cell_type": "code",
   "execution_count": 24,
   "id": "93eaa5a3-ccd5-4798-affa-6bf4173fb599",
   "metadata": {
    "tags": []
   },
   "outputs": [],
   "source": [
    "#loading csv \n",
    "caseids = pd.read_csv(\"caseids.csv\")"
   ]
  },
  {
   "cell_type": "code",
   "execution_count": 25,
   "id": "5128cc26-2682-42a5-bb01-8c7279a6ccbd",
   "metadata": {
    "tags": []
   },
   "outputs": [],
   "source": [
    "caseids_df = pd.DataFrame(caseids)"
   ]
  },
  {
   "cell_type": "code",
   "execution_count": 26,
   "id": "dee5f4d9-f0f9-4f6c-9c5b-5bd6833a20c6",
   "metadata": {
    "tags": []
   },
   "outputs": [
    {
     "data": {
      "text/html": [
       "<div>\n",
       "<style scoped>\n",
       "    .dataframe tbody tr th:only-of-type {\n",
       "        vertical-align: middle;\n",
       "    }\n",
       "\n",
       "    .dataframe tbody tr th {\n",
       "        vertical-align: top;\n",
       "    }\n",
       "\n",
       "    .dataframe thead th {\n",
       "        text-align: right;\n",
       "    }\n",
       "</style>\n",
       "<table border=\"1\" class=\"dataframe\">\n",
       "  <thead>\n",
       "    <tr style=\"text-align: right;\">\n",
       "      <th></th>\n",
       "      <th>case_id</th>\n",
       "      <th>db_year</th>\n",
       "    </tr>\n",
       "  </thead>\n",
       "  <tbody>\n",
       "    <tr>\n",
       "      <th>0</th>\n",
       "      <td>81715.0</td>\n",
       "      <td>2021</td>\n",
       "    </tr>\n",
       "    <tr>\n",
       "      <th>1</th>\n",
       "      <td>726202.0</td>\n",
       "      <td>2021</td>\n",
       "    </tr>\n",
       "    <tr>\n",
       "      <th>2</th>\n",
       "      <td>3858022.0</td>\n",
       "      <td>2021</td>\n",
       "    </tr>\n",
       "    <tr>\n",
       "      <th>3</th>\n",
       "      <td>3899441.0</td>\n",
       "      <td>2021</td>\n",
       "    </tr>\n",
       "    <tr>\n",
       "      <th>4</th>\n",
       "      <td>3899442.0</td>\n",
       "      <td>2021</td>\n",
       "    </tr>\n",
       "  </tbody>\n",
       "</table>\n",
       "</div>"
      ],
      "text/plain": [
       "     case_id  db_year\n",
       "0    81715.0     2021\n",
       "1   726202.0     2021\n",
       "2  3858022.0     2021\n",
       "3  3899441.0     2021\n",
       "4  3899442.0     2021"
      ]
     },
     "execution_count": 26,
     "metadata": {},
     "output_type": "execute_result"
    }
   ],
   "source": [
    "caseids_df.head()"
   ]
  },
  {
   "cell_type": "code",
   "execution_count": 27,
   "id": "bb9fe972-2b68-4e78-8b06-4328682afd93",
   "metadata": {
    "tags": []
   },
   "outputs": [
    {
     "data": {
      "text/plain": [
       "array([2021, 2020, 2018, 2017, 2016], dtype=int64)"
      ]
     },
     "execution_count": 27,
     "metadata": {},
     "output_type": "execute_result"
    }
   ],
   "source": [
    "caseids_df['db_year'].unique()"
   ]
  },
  {
   "cell_type": "code",
   "execution_count": 31,
   "id": "f94e8844-9429-41be-a8c5-a0abb5305257",
   "metadata": {
    "tags": []
   },
   "outputs": [
    {
     "data": {
      "text/plain": [
       "(9424334, 2)"
      ]
     },
     "execution_count": 31,
     "metadata": {},
     "output_type": "execute_result"
    }
   ],
   "source": [
    "caseids_df.shape"
   ]
  },
  {
   "cell_type": "code",
   "execution_count": 47,
   "id": "e5a260d2-a57c-4bcd-a6d4-d480cfff28a0",
   "metadata": {
    "tags": []
   },
   "outputs": [],
   "source": [
    "# checking case #s in caseid\n",
    "cases_only_in_coll = pd.merge(collisions_df4, caseids_df, on='case_id', how='left')"
   ]
  },
  {
   "cell_type": "code",
   "execution_count": 48,
   "id": "c12d46ea-4c6f-4a9c-888b-3f25d8c66639",
   "metadata": {
    "tags": []
   },
   "outputs": [
    {
     "data": {
      "text/html": [
       "<div>\n",
       "<style scoped>\n",
       "    .dataframe tbody tr th:only-of-type {\n",
       "        vertical-align: middle;\n",
       "    }\n",
       "\n",
       "    .dataframe tbody tr th {\n",
       "        vertical-align: top;\n",
       "    }\n",
       "\n",
       "    .dataframe thead th {\n",
       "        text-align: right;\n",
       "    }\n",
       "</style>\n",
       "<table border=\"1\" class=\"dataframe\">\n",
       "  <thead>\n",
       "    <tr style=\"text-align: right;\">\n",
       "      <th></th>\n",
       "      <th>case_id</th>\n",
       "      <th>county_location</th>\n",
       "      <th>intersection</th>\n",
       "      <th>weather_1</th>\n",
       "      <th>weather_2</th>\n",
       "      <th>state_route</th>\n",
       "      <th>route_suffix</th>\n",
       "      <th>location_type</th>\n",
       "      <th>killed_victims</th>\n",
       "      <th>injured_victims</th>\n",
       "      <th>party_count</th>\n",
       "      <th>primary_collision_factor</th>\n",
       "      <th>hit_and_run</th>\n",
       "      <th>type_of_collision</th>\n",
       "      <th>motor_vehicle_involved_with</th>\n",
       "      <th>pedestrian_action</th>\n",
       "      <th>road_surface</th>\n",
       "      <th>road_condition_1</th>\n",
       "      <th>road_condition_2</th>\n",
       "      <th>lighting</th>\n",
       "      <th>alcohol_involved</th>\n",
       "      <th>chp_vehicle_type_at_fault</th>\n",
       "      <th>pedestrian_killed_count</th>\n",
       "      <th>pedestrian_injured_count</th>\n",
       "      <th>bicyclist_killed_count</th>\n",
       "      <th>bicyclist_injured_count</th>\n",
       "      <th>motorcyclist_killed_count</th>\n",
       "      <th>motorcyclist_injured_count</th>\n",
       "      <th>latitude</th>\n",
       "      <th>longitude</th>\n",
       "      <th>collision_date</th>\n",
       "      <th>collision_time</th>\n",
       "      <th>collision_type</th>\n",
       "      <th>years</th>\n",
       "      <th>db_year</th>\n",
       "    </tr>\n",
       "  </thead>\n",
       "  <tbody>\n",
       "    <tr>\n",
       "      <th>0</th>\n",
       "      <td>81715.0</td>\n",
       "      <td>los angeles</td>\n",
       "      <td>1.0</td>\n",
       "      <td>cloudy</td>\n",
       "      <td>NaN</td>\n",
       "      <td>NaN</td>\n",
       "      <td>NaN</td>\n",
       "      <td>NaN</td>\n",
       "      <td>0.0</td>\n",
       "      <td>0.0</td>\n",
       "      <td>2.0</td>\n",
       "      <td>vehicle code violation</td>\n",
       "      <td>not hit and run</td>\n",
       "      <td>rear end</td>\n",
       "      <td>other motor vehicle</td>\n",
       "      <td>no pedestrian involved</td>\n",
       "      <td>dry</td>\n",
       "      <td>normal</td>\n",
       "      <td>NaN</td>\n",
       "      <td>daylight</td>\n",
       "      <td>NaN</td>\n",
       "      <td>NaN</td>\n",
       "      <td>0</td>\n",
       "      <td>0</td>\n",
       "      <td>0</td>\n",
       "      <td>0</td>\n",
       "      <td>0</td>\n",
       "      <td>0.0</td>\n",
       "      <td>NaN</td>\n",
       "      <td>NaN</td>\n",
       "      <td>2020-03-14</td>\n",
       "      <td>07:45:00</td>\n",
       "      <td>NaN</td>\n",
       "      <td>2020</td>\n",
       "      <td>2021</td>\n",
       "    </tr>\n",
       "  </tbody>\n",
       "</table>\n",
       "</div>"
      ],
      "text/plain": [
       "   case_id county_location  intersection weather_1 weather_2  state_route  \\\n",
       "0  81715.0     los angeles           1.0    cloudy       NaN          NaN   \n",
       "\n",
       "  route_suffix location_type  killed_victims  injured_victims  party_count  \\\n",
       "0          NaN           NaN             0.0              0.0          2.0   \n",
       "\n",
       "  primary_collision_factor      hit_and_run type_of_collision  \\\n",
       "0   vehicle code violation  not hit and run          rear end   \n",
       "\n",
       "  motor_vehicle_involved_with       pedestrian_action road_surface  \\\n",
       "0         other motor vehicle  no pedestrian involved          dry   \n",
       "\n",
       "  road_condition_1 road_condition_2  lighting  alcohol_involved  \\\n",
       "0           normal              NaN  daylight               NaN   \n",
       "\n",
       "  chp_vehicle_type_at_fault  pedestrian_killed_count  \\\n",
       "0                       NaN                        0   \n",
       "\n",
       "   pedestrian_injured_count  bicyclist_killed_count  bicyclist_injured_count  \\\n",
       "0                         0                       0                        0   \n",
       "\n",
       "   motorcyclist_killed_count  motorcyclist_injured_count  latitude  longitude  \\\n",
       "0                          0                         0.0       NaN        NaN   \n",
       "\n",
       "  collision_date collision_time collision_type years  db_year  \n",
       "0     2020-03-14       07:45:00            NaN  2020     2021  "
      ]
     },
     "execution_count": 48,
     "metadata": {},
     "output_type": "execute_result"
    }
   ],
   "source": [
    "cases_only_in_coll.head(1)"
   ]
  },
  {
   "cell_type": "code",
   "execution_count": 49,
   "id": "f4b0302a-d583-4c8b-8648-2bab7895c75b",
   "metadata": {
    "tags": []
   },
   "outputs": [
    {
     "data": {
      "text/plain": [
       "0"
      ]
     },
     "execution_count": 49,
     "metadata": {},
     "output_type": "execute_result"
    }
   ],
   "source": [
    "cases_only_in_coll['db_year'].isnull().sum()"
   ]
  },
  {
   "cell_type": "code",
   "execution_count": 51,
   "id": "b329f648-9ffb-4ce0-b3b9-0a5fa5c967cc",
   "metadata": {
    "tags": []
   },
   "outputs": [],
   "source": [
    "cases_only_in_caseid = pd.merge(caseids_df, collisions_df4, on='case_id', how='left')"
   ]
  },
  {
   "cell_type": "code",
   "execution_count": 52,
   "id": "474411b7-06ca-48b3-904f-7f3e68cd2954",
   "metadata": {
    "tags": []
   },
   "outputs": [
    {
     "data": {
      "text/html": [
       "<div>\n",
       "<style scoped>\n",
       "    .dataframe tbody tr th:only-of-type {\n",
       "        vertical-align: middle;\n",
       "    }\n",
       "\n",
       "    .dataframe tbody tr th {\n",
       "        vertical-align: top;\n",
       "    }\n",
       "\n",
       "    .dataframe thead th {\n",
       "        text-align: right;\n",
       "    }\n",
       "</style>\n",
       "<table border=\"1\" class=\"dataframe\">\n",
       "  <thead>\n",
       "    <tr style=\"text-align: right;\">\n",
       "      <th></th>\n",
       "      <th>case_id</th>\n",
       "      <th>db_year</th>\n",
       "      <th>county_location</th>\n",
       "      <th>intersection</th>\n",
       "      <th>weather_1</th>\n",
       "      <th>weather_2</th>\n",
       "      <th>state_route</th>\n",
       "      <th>route_suffix</th>\n",
       "      <th>location_type</th>\n",
       "      <th>killed_victims</th>\n",
       "      <th>injured_victims</th>\n",
       "      <th>party_count</th>\n",
       "      <th>primary_collision_factor</th>\n",
       "      <th>hit_and_run</th>\n",
       "      <th>type_of_collision</th>\n",
       "      <th>motor_vehicle_involved_with</th>\n",
       "      <th>pedestrian_action</th>\n",
       "      <th>road_surface</th>\n",
       "      <th>road_condition_1</th>\n",
       "      <th>road_condition_2</th>\n",
       "      <th>lighting</th>\n",
       "      <th>alcohol_involved</th>\n",
       "      <th>chp_vehicle_type_at_fault</th>\n",
       "      <th>pedestrian_killed_count</th>\n",
       "      <th>pedestrian_injured_count</th>\n",
       "      <th>bicyclist_killed_count</th>\n",
       "      <th>bicyclist_injured_count</th>\n",
       "      <th>motorcyclist_killed_count</th>\n",
       "      <th>motorcyclist_injured_count</th>\n",
       "      <th>latitude</th>\n",
       "      <th>longitude</th>\n",
       "      <th>collision_date</th>\n",
       "      <th>collision_time</th>\n",
       "      <th>collision_type</th>\n",
       "      <th>years</th>\n",
       "    </tr>\n",
       "  </thead>\n",
       "  <tbody>\n",
       "    <tr>\n",
       "      <th>0</th>\n",
       "      <td>81715.0</td>\n",
       "      <td>2021</td>\n",
       "      <td>los angeles</td>\n",
       "      <td>1.0</td>\n",
       "      <td>cloudy</td>\n",
       "      <td>NaN</td>\n",
       "      <td>NaN</td>\n",
       "      <td>NaN</td>\n",
       "      <td>NaN</td>\n",
       "      <td>0.0</td>\n",
       "      <td>0.0</td>\n",
       "      <td>2.0</td>\n",
       "      <td>vehicle code violation</td>\n",
       "      <td>not hit and run</td>\n",
       "      <td>rear end</td>\n",
       "      <td>other motor vehicle</td>\n",
       "      <td>no pedestrian involved</td>\n",
       "      <td>dry</td>\n",
       "      <td>normal</td>\n",
       "      <td>NaN</td>\n",
       "      <td>daylight</td>\n",
       "      <td>NaN</td>\n",
       "      <td>NaN</td>\n",
       "      <td>0.0</td>\n",
       "      <td>0.0</td>\n",
       "      <td>0.0</td>\n",
       "      <td>0.0</td>\n",
       "      <td>0.0</td>\n",
       "      <td>0.0</td>\n",
       "      <td>NaN</td>\n",
       "      <td>NaN</td>\n",
       "      <td>2020-03-14</td>\n",
       "      <td>07:45:00</td>\n",
       "      <td>NaN</td>\n",
       "      <td>2020</td>\n",
       "    </tr>\n",
       "  </tbody>\n",
       "</table>\n",
       "</div>"
      ],
      "text/plain": [
       "   case_id  db_year county_location  intersection weather_1 weather_2  \\\n",
       "0  81715.0     2021     los angeles           1.0    cloudy       NaN   \n",
       "\n",
       "   state_route route_suffix location_type  killed_victims  injured_victims  \\\n",
       "0          NaN          NaN           NaN             0.0              0.0   \n",
       "\n",
       "   party_count primary_collision_factor      hit_and_run type_of_collision  \\\n",
       "0          2.0   vehicle code violation  not hit and run          rear end   \n",
       "\n",
       "  motor_vehicle_involved_with       pedestrian_action road_surface  \\\n",
       "0         other motor vehicle  no pedestrian involved          dry   \n",
       "\n",
       "  road_condition_1 road_condition_2  lighting  alcohol_involved  \\\n",
       "0           normal              NaN  daylight               NaN   \n",
       "\n",
       "  chp_vehicle_type_at_fault  pedestrian_killed_count  \\\n",
       "0                       NaN                      0.0   \n",
       "\n",
       "   pedestrian_injured_count  bicyclist_killed_count  bicyclist_injured_count  \\\n",
       "0                       0.0                     0.0                      0.0   \n",
       "\n",
       "   motorcyclist_killed_count  motorcyclist_injured_count  latitude  longitude  \\\n",
       "0                        0.0                         0.0       NaN        NaN   \n",
       "\n",
       "  collision_date collision_time collision_type years  \n",
       "0     2020-03-14       07:45:00            NaN  2020  "
      ]
     },
     "execution_count": 52,
     "metadata": {},
     "output_type": "execute_result"
    }
   ],
   "source": [
    "cases_only_in_caseid.head(1)"
   ]
  },
  {
   "cell_type": "code",
   "execution_count": 53,
   "id": "0108d1af-1b4e-49d2-9968-985d32f8c18b",
   "metadata": {
    "tags": []
   },
   "outputs": [
    {
     "data": {
      "text/plain": [
       "2677277"
      ]
     },
     "execution_count": 53,
     "metadata": {},
     "output_type": "execute_result"
    }
   ],
   "source": [
    "cases_only_in_caseid['county_location'].isnull().sum()"
   ]
  },
  {
   "cell_type": "code",
   "execution_count": 54,
   "id": "b2977cc9-0bb7-4cba-9b36-480ecc86823b",
   "metadata": {
    "tags": []
   },
   "outputs": [],
   "source": [
    "# all ids in the case id csv are in the collisions csv. The collision csv includes more ids than the case id csv. So will use not use the caseid csv at all"
   ]
  },
  {
   "cell_type": "code",
   "execution_count": 55,
   "id": "e0d4d689-4979-499d-8e7f-978f1212b48d",
   "metadata": {
    "tags": []
   },
   "outputs": [],
   "source": [
    "del caseids_df"
   ]
  },
  {
   "cell_type": "code",
   "execution_count": 57,
   "id": "1cbdf1da-0f6c-4309-a0a4-c5682266f4b6",
   "metadata": {},
   "outputs": [],
   "source": [
    "del cases_only_in_coll\n",
    "del cases_only_in_caseid"
   ]
  }
 ],
 "metadata": {
  "kernelspec": {
   "display_name": "LHL_python_environment",
   "language": "python",
   "name": "lhl_python_environment"
  },
  "language_info": {
   "codemirror_mode": {
    "name": "ipython",
    "version": 3
   },
   "file_extension": ".py",
   "mimetype": "text/x-python",
   "name": "python",
   "nbconvert_exporter": "python",
   "pygments_lexer": "ipython3",
   "version": "3.9.17"
  }
 },
 "nbformat": 4,
 "nbformat_minor": 5
}
